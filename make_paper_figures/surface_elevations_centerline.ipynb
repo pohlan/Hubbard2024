{
 "cells": [
  {
   "cell_type": "markdown",
   "id": "49530879-34a2-4aa8-80e4-52ed64abd52d",
   "metadata": {},
   "source": [
    "# Plot surface elevations and bed topography along the centerline"
   ]
  },
  {
   "cell_type": "code",
   "execution_count": null,
   "id": "fe2429e1-90cc-4e4a-9a8e-27f50426573a",
   "metadata": {},
   "outputs": [],
   "source": [
    "import pandas as pd\n",
    "import geopandas as gpd\n",
    "import matplotlib.pyplot as plt\n",
    "import numpy as np\n",
    "import os\n",
    "import glob\n",
    "import xarray as xr\n",
    "from matplotlib.cm import ScalarMappable"
   ]
  },
  {
   "cell_type": "markdown",
   "id": "87359b2d-813b-4129-b007-2771b51683e3",
   "metadata": {},
   "source": [
    "## Define paths in directory"
   ]
  },
  {
   "cell_type": "code",
   "execution_count": null,
   "id": "e3008ea6-ce97-466b-adc1-a6ba85153d38",
   "metadata": {},
   "outputs": [],
   "source": [
    "# Path to Hubbard data for convenience\n",
    "base_path = '/Users/raineyaberle/Research/Hubbard/'\n",
    "\n",
    "# Where figure will be saved\n",
    "figures_out_path = os.path.join(base_path, 'figures') \n",
    "\n",
    "# Bed topography\n",
    "bed_fn = os.path.join(base_path, 'bed_topo', 'hubbard_bedrock_icebridge.tif')\n",
    "\n",
    "# Centerline\n",
    "cl_fn = os.path.join(base_path, 'velocity', 'center_50m.gpkg')\n",
    "\n",
    "# Surface elevations\n",
    "h_cl_fn = os.path.join(base_path, 'DEMs', 'centerline_surface_elevation_timeseries_smooth.csv')"
   ]
  },
  {
   "cell_type": "markdown",
   "id": "4774fd36-0d63-45e7-979f-3433f3b5e9f2",
   "metadata": {},
   "source": [
    "## Load data"
   ]
  },
  {
   "cell_type": "code",
   "execution_count": null,
   "id": "38e17562-21a1-4243-a257-33a3350405b3",
   "metadata": {},
   "outputs": [],
   "source": [
    "# Bed\n",
    "bed = xr.open_dataset(bed_fn)\n",
    "\n",
    "# Centerline\n",
    "cl = gpd.read_file(cl_fn)\n",
    "# calculate distance vector\n",
    "def create_distance_vector(line):\n",
    "    x, y = line.coords.xy[0], line.coords.xy[1]\n",
    "    line_dist = np.zeros(len(line.coords.xy[0]))\n",
    "    for i in range(1, len(line.coords.xy[0])):\n",
    "        line_dist[i] = np.sqrt((x[i]-x[i-1])**2 + (y[i]-y[i-1])**2) + line_dist[i-1]\n",
    "    return line_dist\n",
    "cl_dist = create_distance_vector(cl.geometry[0])\n",
    "\n",
    "# Surface elevations along centerline\n",
    "h_cl_df = pd.read_csv(h_cl_fn)\n",
    "h_cl_df['Date'] = pd.to_datetime(h_cl_df['Date'])\n",
    "\n",
    "# Plot bed and centerline map\n",
    "fig, ax = plt.subplots()\n",
    "bed_im = ax.imshow(bed.band_data.data[0], cmap='Greys_r', clim=(-0.5e3, 1.5e3),\n",
    "                   extent=(np.min(bed.x.data), np.max(bed.x.data),\n",
    "                           np.min(bed.y.data), np.max(bed.y.data)))\n",
    "cl.plot(ax=ax, color='m', label='Centerline')\n",
    "ax.legend(loc='upper left')\n",
    "fig.colorbar(bed_im, shrink=0.8, label='Bed topography [m]')\n",
    "\n",
    "plt.show()"
   ]
  },
  {
   "cell_type": "markdown",
   "id": "d313fb62-21cf-4b27-879a-2e8d1af6f985",
   "metadata": {},
   "source": [
    "## Plot"
   ]
  },
  {
   "cell_type": "code",
   "execution_count": null,
   "id": "03dfb1f2-9d5d-48a0-96c5-c06d6c1091ff",
   "metadata": {},
   "outputs": [],
   "source": [
    "# Set up figure\n",
    "plt.rcParams.update({'font.size':12, 'font.sans-serif':'Arial'})\n",
    "fig, ax = plt.subplots(1, 1, figsize=(10,10))\n",
    "lw=1.5\n",
    "\n",
    "# Define colormap for surface profiles\n",
    "cmap = plt.cm.twilight\n",
    "\n",
    "# Plot surfaces\n",
    "h_cols = [x for x in list(h_cl_df.columns) if '.0' in x]\n",
    "for i in range(len(h_cl_df)):\n",
    "    month = pd.DatetimeIndex(h_cl_df['Date']).month[i]\n",
    "    color = cmap((month-1)/11)\n",
    "    ax.plot(cl_dist, h_cl_df.iloc[i][h_cols], '-', linewidth=lw, color=color)\n",
    "\n",
    "# Plot bed\n",
    "x_samp, y_samp = cl.geometry[0].coords.xy\n",
    "bed_cl = [bed.sel(x=x, y=y, method='nearest').band_data.data[0] for x, y in list(zip(x_samp, y_samp))]\n",
    "ax.plot(cl_dist, bed_cl, '-k', linewidth=lw, label='Bed topography')\n",
    "\n",
    "# Plot the colorbar\n",
    "sm = ScalarMappable(cmap=cmap)\n",
    "cbar = fig.colorbar(sm, ax=ax, location='top')\n",
    "cbar.ax.set_xticks(np.linspace(0,1,num=12))\n",
    "cbar.ax.set_xticklabels(['Jan', 'Feb', 'Mar', 'Apr', 'May', 'June', 'Jul', 'Aug', 'Sep', 'Oct', 'Nov', 'Dec'])\n",
    "\n",
    "# Adjust axes\n",
    "ax.legend(loc='lower left')\n",
    "ax.grid()\n",
    "ax.set_xlabel('Distance along centerline [m]')\n",
    "ax.set_ylabel('Elevation [m]')\n",
    "ax.set_xlim(5e3, cl_dist[-1])\n",
    "ax.set_ylim(-500, 600)\n",
    "\n",
    "# Barcode plot of dates with elevation observations\n",
    "# dts = pd.DatetimeIndex(dates)\n",
    "# for dt in dts:\n",
    "#     ax[2].plot([dt, dt], [0,1], '-k', linewidth=1)\n",
    "# ax[2].set_yticks([])\n",
    "# ax[2].set_xlim(np.datetime64('2009-01-01'), np.datetime64('2023-01-01'))\n",
    "# ax[2].set_ylim(0,1)\n",
    "# ax[2].set_title('Dates with surface observations')\n",
    "\n",
    "plt.show()\n",
    "\n",
    "# Save figure\n",
    "fig_fn = os.path.join(figures_out_path, 'centerline_surface_elevations_smooth.png')\n",
    "fig.savefig(fig_fn, dpi=300, bbox_inches='tight')\n",
    "print('Figure saved to file:', fig_fn)"
   ]
  },
  {
   "cell_type": "code",
   "execution_count": null,
   "id": "e78d95fd-51a1-4ba0-aede-96ff94750340",
   "metadata": {},
   "outputs": [],
   "source": []
  }
 ],
 "metadata": {
  "kernelspec": {
   "display_name": "hubbard",
   "language": "python",
   "name": "hubbard"
  },
  "language_info": {
   "codemirror_mode": {
    "name": "ipython",
    "version": 3
   },
   "file_extension": ".py",
   "mimetype": "text/x-python",
   "name": "python",
   "nbconvert_exporter": "python",
   "pygments_lexer": "ipython3",
   "version": "3.12.1"
  }
 },
 "nbformat": 4,
 "nbformat_minor": 5
}
