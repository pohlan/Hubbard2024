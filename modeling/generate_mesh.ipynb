{
 "cells": [
  {
   "cell_type": "code",
   "execution_count": 1,
   "id": "ef8324a0",
   "metadata": {},
   "outputs": [],
   "source": [
    "# -*- coding: utf-8 -*-\n",
    "# Create a geo (gmsh input file) file from a contour file\n",
    "# the contour file contains the (x,y) coordinates of the ordered\n",
    "# points defining the contour of the domain\n",
    "\n",
    "X0 = 0.0\n",
    "Y0 = 0.0\n",
    "Lx = 10000 # length in m\n",
    "Ly = 5000 # length in m \n",
    "\n",
    "# edge size of the elements\n",
    "el_size = 500.0    \n",
    "\n",
    "# Open the output file\n",
    "geo = open('mesh.geo', 'w')\n",
    "geo.write('// This a a geo file created using the python script Makegeo.py // \\n')\n",
    "geo.write('Mesh.Algorithm=5; \\n')\n",
    "geo.write('// To controle the element size, one can directly modify the lc value in the geo file // \\n')\n",
    "geo.write('lc = {0} ; \\n'.format(el_size))\n",
    "#geo.write('// Mesh size near the boundary from prescribed value // \\n')\n",
    "#geo.write('Mesh.CharacteristicLengthFromCurvature = 1; \\n') \n",
    "#geo.write('Mesh.CharacteristicLengthFromPoints = 1; \\n')\n",
    "#geo.write('// Give a backgroung field with uniform value for the mesh size // \\n')\n",
    "#geo.write('Mesh.CharacteristicLengthExtendFromBoundary = 1; \\n')\n",
    "#geo.write('Field[1] = MathEval; \\n')\n",
    "#geo.write('Field[1].F = Sprintf(\"%g\",1500);  \\n')\n",
    "#geo.write('Background Field = 1; \\n')\n",
    "\n",
    "geo.write('Point({0}) = '.format(1)+r'{'+' {0}, {1}, 0.0, lc'.format(X0,Y0)+r'}'+'; \\n')\n",
    "geo.write('Point({0}) = '.format(2)+r'{'+' {0}, {1}, 0.0, lc'.format(X0+Lx,Y0)+r'}'+'; \\n')\n",
    "geo.write('Point({0}) = '.format(3)+r'{'+' {0}, {1}, 0.0, lc'.format(X0+Lx,Y0+Ly)+r'}'+'; \\n')\n",
    "geo.write('Point({0}) = '.format(4)+r'{'+' {0}, {1}, 0.0, lc'.format(X0,Y0+Ly)+r'}'+'; \\n')\n",
    "\n",
    "geo.write('Line(1) = {1, 2}; \\n')\n",
    "geo.write('Line(2) = {2, 3}; \\n')\n",
    "geo.write('Line(3) = {3, 4}; \\n')\n",
    "geo.write('Line(4) = {4, 1}; \\n')\n",
    "\n",
    "geo.write('Curve Loop(1) = {1, 2, 3, 4}; \\n')\n",
    "geo.write('Plane Surface(2) = {1}; \\n')\n",
    "\n",
    "\n",
    "geo.write('Physical Curve(3) = {1,3}; \\n')\n",
    "geo.write('Physical Curve(4) = {2}; \\n')\n",
    "geo.write('Physical Curve(5) = {4}; \\n')\n",
    "\n",
    "geo.write('Physical Surface(6) = {2}; \\n') \n",
    "geo.close()"
   ]
  },
  {
   "cell_type": "code",
   "execution_count": 31,
   "id": "afefc92b",
   "metadata": {},
   "outputs": [
    {
     "name": "stdout",
     "output_type": "stream",
     "text": [
      "Info    : Running 'gmsh synthTR.geo -2' [Gmsh 4.11.1, 1 node, max. 1 thread]\n",
      "Info    : Started on Wed Feb 14 12:07:29 2024\n",
      "Info    : Reading 'synthTR.geo'...\n",
      "Info    : Done reading 'synthTR.geo'\n",
      "Info    : Meshing 1D...\n",
      "Info    : [  0%] Meshing curve 1 (Line)\n",
      "Info    : [ 30%] Meshing curve 2 (Line)\n",
      "Info    : [ 50%] Meshing curve 3 (Line)\n",
      "Info    : [ 80%] Meshing curve 4 (Line)\n",
      "Info    : Done meshing 1D (Wall 0.000197875s, CPU 0.00018s)\n",
      "Info    : Meshing 2D...\n",
      "Info    : Meshing surface 2 (Plane, Delaunay)\n",
      "Info    : Done meshing 2D (Wall 0.0380971s, CPU 0.037676s)\n",
      "Info    : 2723 nodes 5448 elements\n",
      "Info    : Writing 'synthTR.msh'...\n",
      "Info    : Done writing 'synthTR.msh'\n",
      "Info    : Stopped on Wed Feb 14 12:07:30 2024 (From start: Wall 0.0451297s, CPU 0.175841s)\n"
     ]
    }
   ],
   "source": [
    "# gmsh vs 4.11.1\n",
    "!gmsh synthTR.geo -2"
   ]
  },
  {
   "cell_type": "markdown",
   "id": "aa9936c8",
   "metadata": {},
   "source": [
    "Run code below in Elmer to take gmsh and convert to elmer mesh. After running the code, return to this notebook and continue running it in order to add moulins to the Elmer mesh. The first creates the mesh and the second creates a vtu file. \n",
    "\n",
    "\tElmerGrid 14 2 synthTR.msh -autoclean\n",
    "\tElmerGrid 14 5 synthTR.msh -autoclean"
   ]
  },
  {
   "cell_type": "code",
   "execution_count": null,
   "id": "7f0a3bf3-e0fd-467c-98ab-a038deb733d2",
   "metadata": {},
   "outputs": [],
   "source": []
  },
  {
   "cell_type": "code",
   "execution_count": null,
   "id": "e3512065-5d6c-4e68-96b5-5fb5a7d619d2",
   "metadata": {},
   "outputs": [],
   "source": []
  },
  {
   "cell_type": "code",
   "execution_count": null,
   "id": "c835bcc5-ed2a-4194-b522-f8f2b19b5431",
   "metadata": {},
   "outputs": [],
   "source": []
  },
  {
   "cell_type": "code",
   "execution_count": null,
   "id": "dff281b9-9920-4f40-b000-46fbb32839be",
   "metadata": {},
   "outputs": [],
   "source": []
  },
  {
   "cell_type": "code",
   "execution_count": null,
   "id": "080c6760-3e1d-4b6c-9e2c-6f35420ff005",
   "metadata": {},
   "outputs": [],
   "source": []
  },
  {
   "cell_type": "code",
   "execution_count": null,
   "id": "63f685e8-4305-40d0-b07b-23188692545a",
   "metadata": {},
   "outputs": [],
   "source": []
  },
  {
   "cell_type": "code",
   "execution_count": null,
   "id": "cce54fbd-1b4e-4656-86e9-4df5af46620e",
   "metadata": {},
   "outputs": [],
   "source": []
  },
  {
   "cell_type": "code",
   "execution_count": 22,
   "id": "9bf7508c",
   "metadata": {},
   "outputs": [
    {
     "name": "stdout",
     "output_type": "stream",
     "text": [
      "50 moulin nodes found on partition 1\n"
     ]
    }
   ],
   "source": [
    "# Information about moulin coordinates must be added to the mesh \n",
    "!python makemoulin.py --meshdir synthTR  --moulin moulin.xy  --partition 1"
   ]
  },
  {
   "cell_type": "code",
   "execution_count": null,
   "id": "cc458938-667f-44a9-893e-6ea06dd53809",
   "metadata": {},
   "outputs": [],
   "source": []
  }
 ],
 "metadata": {
  "kernelspec": {
   "display_name": "Python 3 (ipykernel)",
   "language": "python",
   "name": "python3"
  },
  "language_info": {
   "codemirror_mode": {
    "name": "ipython",
    "version": 3
   },
   "file_extension": ".py",
   "mimetype": "text/x-python",
   "name": "python",
   "nbconvert_exporter": "python",
   "pygments_lexer": "ipython3",
   "version": "3.10.12"
  }
 },
 "nbformat": 4,
 "nbformat_minor": 5
}
