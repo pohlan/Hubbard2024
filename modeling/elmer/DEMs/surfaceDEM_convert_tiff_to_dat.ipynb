{
 "cells": [
  {
   "cell_type": "code",
   "execution_count": 2,
   "id": "1a9977e7-b7b6-4082-b303-494e52e3d941",
   "metadata": {},
   "outputs": [],
   "source": [
    "import numpy as np\n",
    "import matplotlib.pyplot as plt\n",
    "import rasterio\n",
    "import pandas as pd"
   ]
  },
  {
   "cell_type": "code",
   "execution_count": 4,
   "id": "4cbb2ecd",
   "metadata": {},
   "outputs": [
    {
     "name": "stdout",
     "output_type": "stream",
     "text": [
      "surface, x0= 812222.5000 y0= 1199532.5000 lx = 17115.0000 ly= 21715.0000 nx= 4344 ny= 4344\n"
     ]
    }
   ],
   "source": [
    "# open surface DEM \n",
    "file_name = '/Users/amyjenson/Documents/Github/Hubbard2024/modeling/elmer/DEMs/hubbard_surface.tif'\n",
    "with rasterio.open(file_name) as src:\n",
    "    zs = src.read(1)\n",
    "    height = zs.shape[0]\n",
    "    width = zs.shape[1]\n",
    "    cols, rows = np.meshgrid(np.arange(width), np.arange(height))\n",
    "    xd, yd = rasterio.transform.xy(src.transform, rows, cols)\n",
    "    lons_surf= np.array(xd)\n",
    "    lats_surf = np.array(yd)\n",
    "\n",
    "xs = np.flip(lons_surf.flatten())\n",
    "ys = np.flip(lats_surf.flatten())\n",
    "zs = np.flip(zs.flatten())\n",
    "value = 0\n",
    "mat = np.where(zs > value, True, False)\n",
    "surfDEM = np.where(mat, zs, -9999)\n",
    "\n",
    "# # plot surfDEM\n",
    "# plt.figure()\n",
    "# plt.xlim(0,100)\n",
    "# plt.plot(z)\n",
    "# plt.title('surface DEM')\n",
    "# plt.show()\n",
    "\n",
    "#Save the surface in an ascii file \n",
    "np.savetxt('./hubbard_surf.dat',np.column_stack((xs, ys, surfDEM)),fmt=\"%10.4f %10.4f %10.4f\")\n",
    "  \n",
    "#info for sif file under Grid2Dinterpololator for surface\n",
    "x0 = xs[0]       #bottom left x coordinate\n",
    "y0 = ys[0]       #bottom left y coordinate\n",
    "lx = (np.max(xs) - np.min(xs))    #the x length of the covered domain\n",
    "ly = (np.max(ys) - np.min(ys))    #the y length of the covered domain\n",
    "nx = len(lons_surf) #lx/dx +1              # number of levels in x and y directions (n,m in the tables above)\n",
    "ny = len(lats_surf) #ly/dy + 1               #the number of levels in x and y directions (n,m in the tables above)\n",
    "print('surface, x0=', f'{x0:.4f}', 'y0=', f'{y0:.4f}', 'lx =', f'{lx:.4f}', 'ly=', f'{ly:.4f}', 'nx=', nx,'ny=', ny)\n",
    "\n",
    "#print(min(xb))\n",
    "#print(min(yb))"
   ]
  },
  {
   "cell_type": "code",
   "execution_count": null,
   "id": "6b56feb1",
   "metadata": {},
   "outputs": [],
   "source": [
    "# open bed DEM \n",
    "file_name = '/Users/amyjenson/Documents/elmer/hubbard/bed_surf_data/subset/hubbard_bedDEM.tif'\n",
    "with rasterio.open(file_name) as src:\n",
    "    zb = src.read(1)\n",
    "    height = zb.shape[0]\n",
    "    width = zb.shape[1]\n",
    "    cols, rows = np.meshgrid(np.arange(width), np.arange(height))\n",
    "    xd, yd = rasterio.transform.xy(src.transform, rows, cols)\n",
    "    lons_bed= np.array(xd)\n",
    "    lats_bed = np.array(yd)\n",
    "\n",
    "zb = zb.flatten()\n",
    "zb = np.nan_to_num(zb, nan=-9999)\n",
    "value = -10000\n",
    "mat = np.where(zb > value, True, False)\n",
    "bedDEM = np.where(mat, zb, -9999)\n",
    "\n",
    "xb = lons_bed.flatten()\n",
    "yb = lats_bed.flatten()\n",
    "bedDEM = bedDEM.flatten()\n",
    "\n",
    "#Save the bed in an ascii file\n",
    "#np.savetxt('hubbard_bed.dat',np.column_stack((xb, yb, bedDEM)), fmt=\"%10.4f %10.4f %10.4f\")\n",
    "np.savetxt('./hubbard_bed.dat',np.column_stack((xb, yb, bedDEM)),fmt=\"%10.4f %10.4f %10.4f\")\n",
    "\n",
    "\n",
    "#info for sif file under Grid2Dinterpololator for bed\n",
    "x0 = np.min(xb)       #bottom left x coordinate\n",
    "y0 = np.min(yb)       #bottom left y coordinate\n",
    "lx = (np.max(xb) - np.min(xb))    #the x length of the covered domain\n",
    "ly = (np.max(yb) - np.min(yb))    #the y length of the covered domain\n",
    "nx = len(lons_bed) #lx/dx +1              # number of levels in x and y directions (n,m in the tables above)\n",
    "ny = len(lats_bed) #ly/dy + 1               #the number of levels in x and y directions (n,m in the tables above)\n",
    "print('bed, x0=', f'{x0:.4f}', 'y0=', f'{y0:.4f}', 'lx =', f'{lx:.4f}', 'ly=', f'{ly:.4f}','nx=', nx,'ny=', ny)"
   ]
  },
  {
   "cell_type": "code",
   "execution_count": null,
   "id": "df04f6db",
   "metadata": {},
   "outputs": [],
   "source": []
  }
 ],
 "metadata": {
  "kernelspec": {
   "display_name": "Python 3 (ipykernel)",
   "language": "python",
   "name": "python3"
  },
  "language_info": {
   "codemirror_mode": {
    "name": "ipython",
    "version": 3
   },
   "file_extension": ".py",
   "mimetype": "text/x-python",
   "name": "python",
   "nbconvert_exporter": "python",
   "pygments_lexer": "ipython3",
   "version": "3.12.0"
  }
 },
 "nbformat": 4,
 "nbformat_minor": 5
}
