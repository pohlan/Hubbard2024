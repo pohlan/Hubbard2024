{
 "cells": [
  {
   "cell_type": "markdown",
   "id": "8f7da4cf-913f-41b3-a0e6-a3108025befe",
   "metadata": {},
   "source": [
    "# Make .gif of Landsat 8/9 and Sentinel-2 imagery"
   ]
  },
  {
   "cell_type": "code",
   "execution_count": 1,
   "id": "fe6a262f-9263-4479-83d3-7f45d09f638f",
   "metadata": {},
   "outputs": [],
   "source": [
    "import matplotlib.pyplot as plt\n",
    "import os\n",
    "import glob\n",
    "import numpy as np\n",
    "import ee"
   ]
  },
  {
   "cell_type": "code",
   "execution_count": 2,
   "id": "2e09d144-3d68-44c3-89ad-20d1959baf3a",
   "metadata": {},
   "outputs": [],
   "source": [
    "ee.Initialize()"
   ]
  },
  {
   "cell_type": "code",
   "execution_count": null,
   "id": "e1f42f63-1942-41cd-bd7e-d8877614a7fb",
   "metadata": {},
   "outputs": [],
   "source": [
    "# -----Load "
   ]
  }
 ],
 "metadata": {
  "kernelspec": {
   "display_name": "hubbard",
   "language": "python",
   "name": "hubbard"
  },
  "language_info": {
   "codemirror_mode": {
    "name": "ipython",
    "version": 3
   },
   "file_extension": ".py",
   "mimetype": "text/x-python",
   "name": "python",
   "nbconvert_exporter": "python",
   "pygments_lexer": "ipython3",
   "version": "3.12.1"
  }
 },
 "nbformat": 4,
 "nbformat_minor": 5
}
