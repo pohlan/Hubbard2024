{
 "cells": [
  {
   "cell_type": "markdown",
   "id": "a78e83e8-3de7-4fb0-9bb5-fad5febbc8d6",
   "metadata": {},
   "source": [
    "# Mosaic ArcticDEM strips captured the same day, reproject to Alaska Albers"
   ]
  },
  {
   "cell_type": "code",
   "execution_count": null,
   "id": "cf8b53ea-5bb8-4e10-9e7a-c50290bf0500",
   "metadata": {},
   "outputs": [],
   "source": [
    "import subprocess\n",
    "import glob\n",
    "import os\n",
    "from tqdm.auto import tqdm"
   ]
  },
  {
   "cell_type": "code",
   "execution_count": null,
   "id": "d21112b9-54a1-408d-b076-ce1b7db68ade",
   "metadata": {
    "scrolled": true
   },
   "outputs": [],
   "source": [
    "# Define DEM file names\n",
    "arcticdem_path = '/Users/raineyaberle/Research/Hubbard/DEMs/ArcticDEM/'\n",
    "arcticdem_folders = sorted(glob.glob(os.path.join(arcticdem_path, 'WV0*')))\n",
    "arcticdem_fns = []\n",
    "for folder in arcticdem_folders:\n",
    "    arcticdem_fns += sorted(glob.glob(os.path.join(folder, '*dem_masked_clip.tif')))\n",
    "print(f'Total number of ArcticDEM strips = {len(arcticdem_fns)}')\n",
    "\n",
    "# Define target CRS for output DEMs\n",
    "crs = 'EPSG:3338' # Alaska Albers\n",
    "\n",
    "# Define output path\n",
    "out_path = os.path.join(arcticdem_path, 'mosaics')"
   ]
  },
  {
   "cell_type": "code",
   "execution_count": null,
   "id": "3244f23e-22da-4248-ba1d-eac8326378e1",
   "metadata": {
    "scrolled": true
   },
   "outputs": [],
   "source": [
    "# Check if out_path exists\n",
    "if not os.path.exists(out_path):\n",
    "    os.mkdir(out_path)\n",
    "    print('Made directory for output files:', out_path)\n",
    "\n",
    "# Grab unique image dates from file names\n",
    "im_dates = [os.path.basename(fn)[18:26] for fn in arcticdem_fns]\n",
    "im_dates_unique = sorted(list(set(im_dates)))\n",
    "\n",
    "# Iterate over unique image dates\n",
    "for im_date in tqdm(im_dates_unique):\n",
    "    # grab all files names with image date in file name\n",
    "    dem_fns_date = [x for x in arcticdem_fns if im_date in os.path.basename(x)]\n",
    "        \n",
    "    # define output file name\n",
    "    mosaic_fn = os.path.join(out_path, im_date + '_ArcticDEM_mosaic.tif')\n",
    "    \n",
    "    # check if file already exists in directory\n",
    "    if os.path.exists(mosaic_fn):\n",
    "        print('Mosaic already exists for date, skipping...')\n",
    "        continue\n",
    "        \n",
    "    # construct gdal command\n",
    "    cmd = 'gdalwarp '\n",
    "    # add input file names\n",
    "    for dem_fn in dem_fns_date:\n",
    "        cmd += dem_fn + ' '\n",
    "    # add target CRS\n",
    "    cmd += f'-t_srs {crs} '\n",
    "    # add output file name\n",
    "    cmd += ' ' + mosaic_fn\n",
    "    # print(cmd)\n",
    "    \n",
    "    # run command\n",
    "    output = subprocess.run(cmd, shell=True, capture_output=True)\n",
    "    print(output)\n",
    "        \n",
    "    print(' ')"
   ]
  },
  {
   "cell_type": "code",
   "execution_count": null,
   "id": "4429b39c-b36a-49f7-9a16-97815cb64bde",
   "metadata": {},
   "outputs": [],
   "source": [
    "# Plot some example mosaics\n",
    "\n",
    "import xarray as xr\n",
    "import rioxarray as rxr\n",
    "import matplotlib.pyplot as plt\n",
    "import numpy as np\n",
    "\n",
    "out_fns = sorted(glob.glob(os.path.join(out_path, '*.tif')))\n",
    "for fn in out_fns[0:10]:\n",
    "    im = rxr.open_rasterio(fn)\n",
    "    im = xr.where(im==im.attrs['_FillValue'], np.nan, im)\n",
    "    plt.imshow(im.data[0], cmap='terrain', clim=(0,1500),\n",
    "               extent=(np.min(im.x.data), np.max(im.x.data), \n",
    "                       np.min(im.y.data), np.max(im.y.data)))\n",
    "    plt.title(os.path.basename(fn))\n",
    "    plt.colorbar(shrink=0.7, label='meters')\n",
    "    plt.show()\n",
    "im"
   ]
  }
 ],
 "metadata": {
  "kernelspec": {
   "display_name": "hubbard",
   "language": "python",
   "name": "hubbard"
  },
  "language_info": {
   "codemirror_mode": {
    "name": "ipython",
    "version": 3
   },
   "file_extension": ".py",
   "mimetype": "text/x-python",
   "name": "python",
   "nbconvert_exporter": "python",
   "pygments_lexer": "ipython3",
   "version": "3.12.1"
  }
 },
 "nbformat": 4,
 "nbformat_minor": 5
}
