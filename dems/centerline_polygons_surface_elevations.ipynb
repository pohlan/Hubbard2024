{
 "cells": [
  {
   "cell_type": "markdown",
   "id": "ceccbc33-dfe7-472c-a038-b9af0f0b0e9d",
   "metadata": {},
   "source": [
    "# Construct time series of surface elevation in polygons along centerline"
   ]
  },
  {
   "cell_type": "code",
   "execution_count": null,
   "id": "2587f26d-c897-4431-9dd2-da9a6d7c087e",
   "metadata": {},
   "outputs": [],
   "source": [
    "import xarray as xr\n",
    "import rioxarray as rxr\n",
    "import matplotlib.pyplot as plt\n",
    "import pandas as pd\n",
    "import geopandas as gpd\n",
    "import numpy as np\n",
    "import os\n",
    "from shapely.geometry import LineString\n",
    "from shapely import segmentize\n",
    "import glob\n",
    "from tqdm.auto import tqdm"
   ]
  },
  {
   "cell_type": "code",
   "execution_count": null,
   "id": "abdbca92-9623-4029-9385-d264673a24ad",
   "metadata": {},
   "outputs": [],
   "source": [
    "# -----Base path to data\n",
    "data_path = '/Users/raineyaberle/Research/PhD/Hubbard/'\n",
    "\n",
    "# -----DEM file names\n",
    "h_fns = sorted(glob.glob(os.path.join(data_path, 'surface_elevation', 'surface_elevation_filtered_old', '*.tif')))\n",
    "\n",
    "# -----Load centerline\n",
    "cl_path = os.path.join(data_path, 'velocity', 'center.gpkg')\n",
    "cl = gpd.read_file(cl_path)\n",
    "# Reproject to Alaska Albers\n",
    "cl = cl.to_crs('EPSG:3338')\n",
    "# Increase spatial resolution\n",
    "def increase_linestring_resolution(line, distance=50):\n",
    "    # calculate initial distance vector\n",
    "    x, y = line.coords.xy[0], line.coords.xy[1]\n",
    "    line_dist = np.zeros(len(line.coords.xy[0]))\n",
    "    for i in range(1, len(line.coords.xy[0])):\n",
    "        line_dist[i] = np.sqrt((x[i]-x[i-1])**2 + (y[i]-y[i-1])**2) + line_dist[i-1]\n",
    "    # create new line distance vector\n",
    "    new_line_dist = np.arange(0, np.nanmax(line_dist), step=distance)\n",
    "    # interpolate coordinates on new distance vector\n",
    "    new_x = np.interp(new_line_dist, line_dist, x)\n",
    "    new_y = np.interp(new_line_dist, line_dist, y)\n",
    "    # save as linestring\n",
    "    new_coords = list(zip(new_x, new_y))\n",
    "    new_line = LineString(new_coords)\n",
    "    \n",
    "    return new_line, new_line_dist\n",
    "new_geom, cl_dist = increase_linestring_resolution(cl.geometry[0])\n",
    "cl['geometry'] = [new_geom]"
   ]
  },
  {
   "cell_type": "code",
   "execution_count": null,
   "id": "3dabc5df-159d-4d28-8f64-bd2f972019e1",
   "metadata": {},
   "outputs": [],
   "source": [
    "# -----Check if centerline polygons already exist in file\n",
    "polygons_fn = os.path.join(data_path, 'velocity', 'centerline_polygons.gpkg')\n",
    "if os.path.exists(polygons_fn):\n",
    "    polygons_gdf = gpd.read_file(polygons_fn)\n",
    "    print('Centerline polygons loaded from file')\n",
    "else:\n",
    "    # -----Create polygons from centerline\n",
    "    cl_x, cl_y = cl.geometry[0].coords.xy\n",
    "    # Length and width of each polygon\n",
    "    length, width = 2e3, 2e3\n",
    "    # Determine distance between split points\n",
    "    dx = int(length / (cl_dist[1] - cl_dist[0]))\n",
    "    # Determine number of polygons\n",
    "    num_polygons = int(np.ceil(len(cl_dist) / dx))\n",
    "    # Generate the polygons\n",
    "    polygons = []\n",
    "    # Iterate over polygons\n",
    "    for i in range(num_polygons):\n",
    "        # Crop centerline\n",
    "        if dx*(i+1) < len(cl_dist):\n",
    "            Iline = np.arange(dx*i, dx*(i+1))\n",
    "        else:\n",
    "            Iline = np.arange(dx*i, len(cl_dist))\n",
    "        cl_x_line, cl_y_line = [cl_x[i] for i in Iline], [cl_y[i] for i in Iline]\n",
    "        cl_line = LineString(list(zip(cl_x_line, cl_y_line)))\n",
    "        # Create a buffer polygon around the LineString \n",
    "        polygon = cl_line.buffer(width / 2, cap_style='flat', join_style=2)\n",
    "        polygons.append(polygon)\n",
    "    \n",
    "    # Reformat as geopandas.GeoDataFrame\n",
    "    polygons_gdf = gpd.GeoDataFrame({'geometry': polygons}, crs=cl.crs)\n",
    "    # Save to file\n",
    "    # polygons_gdf.to_file(polygons_fn)\n",
    "    # print('Centerline polygons saved to file:', polygons_fn)\n",
    "\n",
    "# Plot results\n",
    "fig, ax = plt.subplots()\n",
    "polygons_gdf.plot(ax=ax, facecolor='None', edgecolor='m')\n",
    "cl.plot(ax=ax, color='k')\n",
    "plt.show()"
   ]
  },
  {
   "cell_type": "markdown",
   "id": "2b52185f-e0e4-48ad-af45-3a12ebe06e18",
   "metadata": {},
   "source": [
    "## Sample surface elevations in each polygon"
   ]
  },
  {
   "cell_type": "code",
   "execution_count": null,
   "id": "4c8e7a68-acca-4899-b194-504eefc5c29d",
   "metadata": {
    "scrolled": true
   },
   "outputs": [],
   "source": [
    "# Iterate over DEM file names\n",
    "dates = []\n",
    "datasets = []\n",
    "h_polys = np.nan*np.zeros((len(h_fns), len(polygons_gdf)))\n",
    "for i, fn in enumerate(h_fns):\n",
    "    h_xda = rxr.open_rasterio(fn)\n",
    "    h_xda = xr.where(np.abs(h_xda) > 10e3, np.nan, h_xda)\n",
    "    h_xda = h_xda.rio.write_crs('EPSG:3338')\n",
    "    dates.append(os.path.basename(fn)[0:10])\n",
    "    datasets.append(os.path.basename(fn).split('_')[1])\n",
    "    # Sample surface elevations in each polygon\n",
    "    for j in range(len(polygons_gdf)):\n",
    "        h_polys[i,j] = np.nanmean(h_xda.rio.clip(polygons_gdf.iloc[j], polygons_gdf.crs).data)\n",
    "h_polys"
   ]
  },
  {
   "cell_type": "code",
   "execution_count": null,
   "id": "5ba766d3-6e81-45f6-9dcf-e54868c493a6",
   "metadata": {},
   "outputs": [],
   "source": [
    "# Reformat as dataframe\n",
    "h_polys_df = pd.DataFrame({'Date': dates,\n",
    "                           'Dataset': datasets})\n",
    "for j in range(len(polygons_gdf)):\n",
    "    df = pd.DataFrame({f'Polygon {j+1}': h_polys[:,j]})\n",
    "    h_polys_df = pd.concat([h_polys_df, df], axis=1)\n",
    "h_polys_df\n",
    "\n",
    "# Save to file\n",
    "h_polys_fn = os.path.join(data_path, 'surface_elevation', 'centerline_polygons_surface_elevation.csv')\n",
    "h_polys_df.to_csv(h_polys_fn, index=False)\n",
    "print('Centerline polygons surface elevations saved to file:', h_polys_fn)"
   ]
  },
  {
   "cell_type": "code",
   "execution_count": null,
   "id": "35c97975-5643-4309-b629-77f151a3f27a",
   "metadata": {},
   "outputs": [],
   "source": [
    "\n",
    "\n",
    "h_polys_df['Date'] = pd.DatetimeIndex(h_polys_df['Date'])\n",
    "h_polys_df['Month'] = pd.DatetimeIndex(h_polys_df['Date']).month\n",
    "cols = [x for x in h_polys_df.columns if 'Polygon' in x]\n",
    "\n",
    "# Plot\n",
    "fig, ax = plt.subplots(len(cols), 1, figsize=(6,len(cols)*4))\n",
    "\n",
    "for i, col in enumerate(cols):\n",
    "    ax[i].plot(h_polys_df['Date'], h_polys_df[col], '.b')\n",
    "plt.show()"
   ]
  },
  {
   "cell_type": "code",
   "execution_count": null,
   "id": "a4a5b0c8-f3d7-4686-bc2f-04482460200f",
   "metadata": {},
   "outputs": [],
   "source": []
  }
 ],
 "metadata": {
  "kernelspec": {
   "display_name": "hubbard",
   "language": "python",
   "name": "hubbard"
  },
  "language_info": {
   "codemirror_mode": {
    "name": "ipython",
    "version": 3
   },
   "file_extension": ".py",
   "mimetype": "text/x-python",
   "name": "python",
   "nbconvert_exporter": "python",
   "pygments_lexer": "ipython3",
   "version": "3.12.1"
  }
 },
 "nbformat": 4,
 "nbformat_minor": 5
}
