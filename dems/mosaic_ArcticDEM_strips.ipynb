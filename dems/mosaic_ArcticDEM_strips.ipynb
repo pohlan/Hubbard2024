{
 "cells": [
  {
   "cell_type": "markdown",
   "id": "a78e83e8-3de7-4fb0-9bb5-fad5febbc8d6",
   "metadata": {},
   "source": [
    "# Mosaic ArcticDEM strips captured the same day"
   ]
  },
  {
   "cell_type": "code",
   "execution_count": 32,
   "id": "cf8b53ea-5bb8-4e10-9e7a-c50290bf0500",
   "metadata": {},
   "outputs": [
    {
     "name": "stderr",
     "output_type": "stream",
     "text": [
      "/Users/raineyaberle/opt/anaconda3/envs/hubbard/lib/python3.12/site-packages/tqdm/auto.py:21: TqdmWarning: IProgress not found. Please update jupyter and ipywidgets. See https://ipywidgets.readthedocs.io/en/stable/user_install.html\n",
      "  from .autonotebook import tqdm as notebook_tqdm\n"
     ]
    }
   ],
   "source": [
    "import subprocess\n",
    "import glob\n",
    "import os\n",
    "from tqdm.auto import tqdm"
   ]
  },
  {
   "cell_type": "code",
   "execution_count": 33,
   "id": "3244f23e-22da-4248-ba1d-eac8326378e1",
   "metadata": {
    "scrolled": true
   },
   "outputs": [
    {
     "name": "stderr",
     "output_type": "stream",
     "text": [
      "  0%|                                                    | 0/69 [00:00<?, ?it/s]"
     ]
    },
    {
     "name": "stdout",
     "output_type": "stream",
     "text": [
      "mosaic already exists for date, skipping...\n",
      "mosaic already exists for date, skipping...\n",
      "mosaic already exists for date, skipping...\n",
      "mosaic already exists for date, skipping...\n",
      "mosaic already exists for date, skipping...\n",
      "mosaic already exists for date, skipping...\n",
      "mosaic already exists for date, skipping...\n",
      "mosaic already exists for date, skipping...\n",
      "mosaic already exists for date, skipping...\n",
      "mosaic already exists for date, skipping...\n"
     ]
    },
    {
     "name": "stderr",
     "output_type": "stream",
     "text": [
      " 16%|██████▊                                    | 11/69 [00:58<05:09,  5.34s/it]"
     ]
    },
    {
     "name": "stdout",
     "output_type": "stream",
     "text": [
      "CompletedProcess(args='gdal_merge.py SETSM_s2s041_WV01_20131207_1020010028A0CD00_1020010027DDD800_2m_lsf_seg1_dem.tif -o SETSM_s2s041_WV01_20131207_1020010028A0CD00_1020010027DDD800_2m_lsf_s_MOSAIC.tif', returncode=0, stdout=b'0...10...20...30...40...50...60...70...80...90...100 - done.\\n', stderr=b'')\n",
      "Removed preliminary files\n",
      " \n"
     ]
    },
    {
     "name": "stderr",
     "output_type": "stream",
     "text": [
      " 17%|███████▍                                   | 12/69 [01:05<05:13,  5.49s/it]"
     ]
    },
    {
     "name": "stdout",
     "output_type": "stream",
     "text": [
      "CompletedProcess(args='gdal_merge.py SETSM_s2s041_WV02_20140307_103001002E95A300_103001002D0FF600_2m_lsf_seg2_dem.tif -o SETSM_s2s041_WV02_20140307_103001002E95A300_103001002D0FF600_2m_lsf_s_MOSAIC.tif', returncode=0, stdout=b'0...10...20...30...40...50...60...70...80...90...100 - done.\\n', stderr=b'')\n",
      "Removed preliminary files\n",
      " \n"
     ]
    },
    {
     "name": "stderr",
     "output_type": "stream",
     "text": [
      " 19%|████████                                   | 13/69 [01:54<10:48, 11.57s/it]"
     ]
    },
    {
     "name": "stdout",
     "output_type": "stream",
     "text": [
      "CompletedProcess(args='gdal_merge.py SETSM_s2s041_WV01_20140423_102001002F761300_102001002D3EE400_2m_lsf_seg1_dem.tif -o SETSM_s2s041_WV01_20140423_102001002F761300_102001002D3EE400_2m_lsf_s_MOSAIC.tif', returncode=0, stdout=b'0...10...20...30...40...50...60...70...80...90...100 - done.\\n', stderr=b'')\n",
      "Removed preliminary files\n",
      " \n"
     ]
    },
    {
     "name": "stderr",
     "output_type": "stream",
     "text": [
      " 20%|████████▋                                  | 14/69 [02:37<15:28, 16.88s/it]"
     ]
    },
    {
     "name": "stdout",
     "output_type": "stream",
     "text": [
      "CompletedProcess(args='gdal_merge.py SETSM_s2s041_WV01_20141111_10200100372DFA00_1020010034C59500_2m_lsf_seg2_dem.tif -o SETSM_s2s041_WV01_20141111_10200100372DFA00_1020010034C59500_2m_lsf_s_MOSAIC.tif', returncode=0, stdout=b'0...10...20...30...40...50...60...70...80...90...100 - done.\\n', stderr=b'')\n",
      "Removed preliminary files\n",
      " \n"
     ]
    },
    {
     "name": "stderr",
     "output_type": "stream",
     "text": [
      " 22%|█████████▎                                 | 15/69 [02:44<13:28, 14.98s/it]"
     ]
    },
    {
     "name": "stdout",
     "output_type": "stream",
     "text": [
      "CompletedProcess(args='gdal_merge.py SETSM_s2s041_WV02_20141114_103001003A8A7500_103001003A87F600_2m_lsf_seg5_dem.tif -o SETSM_s2s041_WV02_20141114_103001003A8A7500_103001003A87F600_2m_lsf_s_MOSAIC.tif', returncode=0, stdout=b'0...10...20...30...40...50...60...70...80...90...100 - done.\\n', stderr=b'')\n",
      "Removed preliminary files\n",
      " \n"
     ]
    },
    {
     "name": "stderr",
     "output_type": "stream",
     "text": [
      " 23%|█████████▉                                 | 16/69 [03:13<15:58, 18.09s/it]"
     ]
    },
    {
     "name": "stdout",
     "output_type": "stream",
     "text": [
      "CompletedProcess(args='gdal_merge.py SETSM_s2s041_WV01_20141120_10200100394F6300_1020010036C03A00_2m_lsf_seg2_dem.tif -o SETSM_s2s041_WV01_20141120_10200100394F6300_1020010036C03A00_2m_lsf_s_MOSAIC.tif', returncode=0, stdout=b'0...10...20...30...40...50...60...70...80...90...100 - done.\\n', stderr=b'')\n",
      "Removed preliminary files\n",
      " \n"
     ]
    },
    {
     "name": "stderr",
     "output_type": "stream",
     "text": [
      " 25%|██████████▌                                | 17/69 [03:20<13:21, 15.42s/it]"
     ]
    },
    {
     "name": "stdout",
     "output_type": "stream",
     "text": [
      "CompletedProcess(args='gdal_merge.py SETSM_s2s041_WV02_20150829_10300100490B2500_1030010048510200_2m_lsf_seg1_dem.tif -o SETSM_s2s041_WV02_20150829_10300100490B2500_1030010048510200_2m_lsf_s_MOSAIC.tif', returncode=0, stdout=b'0...10...20...30...40...50...60...70...80...90...100 - done.\\n', stderr=b'')\n",
      "Removed preliminary files\n",
      " \n"
     ]
    },
    {
     "name": "stderr",
     "output_type": "stream",
     "text": [
      " 26%|███████████▏                               | 18/69 [04:34<25:35, 30.10s/it]"
     ]
    },
    {
     "name": "stdout",
     "output_type": "stream",
     "text": [
      "CompletedProcess(args='gdal_merge.py SETSM_s2s041_WV01_20151031_102001004377FC00_1020010043745200_2m_lsf_seg1_dem.tif SETSM_s2s041_WV01_20151031_1020010045AAB800_10200100467B3700_2m_lsf_seg1_dem.tif -o SETSM_s2s041_WV01_20151031_102001004377FC00_1020010043745200_2m_lsf_s_MOSAIC.tif', returncode=0, stdout=b'0...10...20...30...40...50...60...70...80...90...100 - done.\\n', stderr=b'')\n",
      "Removed preliminary files\n",
      " \n"
     ]
    },
    {
     "name": "stderr",
     "output_type": "stream",
     "text": [
      " 28%|███████████▊                               | 19/69 [04:43<20:29, 24.59s/it]"
     ]
    },
    {
     "name": "stdout",
     "output_type": "stream",
     "text": [
      "CompletedProcess(args='gdal_merge.py SETSM_s2s041_WV01_20160322_1020010049130400_102001004DC47E00_2m_lsf_seg5_dem.tif -o SETSM_s2s041_WV01_20160322_1020010049130400_102001004DC47E00_2m_lsf_s_MOSAIC.tif', returncode=0, stdout=b'0...10...20...30...40...50...60...70...80...90...100 - done.\\n', stderr=b'')\n",
      "Removed preliminary files\n",
      " \n"
     ]
    },
    {
     "name": "stderr",
     "output_type": "stream",
     "text": [
      " 29%|████████████▍                              | 20/69 [04:51<16:17, 19.95s/it]"
     ]
    },
    {
     "name": "stdout",
     "output_type": "stream",
     "text": [
      "CompletedProcess(args='gdal_merge.py SETSM_s2s041_WV02_20160510_1030010055A18F00_1030010056ABB300_2m_lsf_seg1_dem.tif -o SETSM_s2s041_WV02_20160510_1030010055A18F00_1030010056ABB300_2m_lsf_s_MOSAIC.tif', returncode=0, stdout=b'0...10...20...30...40...50...60...70...80...90...100 - done.\\n', stderr=b'')\n",
      "Removed preliminary files\n",
      " \n"
     ]
    },
    {
     "name": "stderr",
     "output_type": "stream",
     "text": [
      " 30%|█████████████                              | 21/69 [05:28<19:48, 24.75s/it]"
     ]
    },
    {
     "name": "stdout",
     "output_type": "stream",
     "text": [
      "CompletedProcess(args='gdal_merge.py SETSM_s2s041_WV02_20160717_10300100589A4200_103001005A6FF900_2m_lsf_seg1_dem.tif -o SETSM_s2s041_WV02_20160717_10300100589A4200_103001005A6FF900_2m_lsf_s_MOSAIC.tif', returncode=0, stdout=b'0...10...20...30...40...50...60...70...80...90...100 - done.\\n', stderr=b'')\n",
      "Removed preliminary files\n",
      " \n"
     ]
    },
    {
     "name": "stderr",
     "output_type": "stream",
     "text": [
      " 32%|█████████████▋                             | 22/69 [05:31<14:39, 18.72s/it]"
     ]
    },
    {
     "name": "stdout",
     "output_type": "stream",
     "text": [
      "CompletedProcess(args='gdal_merge.py SETSM_s2s041_WV02_20160917_103001005D2EE900_103001005CCC2000_2m_lsf_seg1_dem.tif -o SETSM_s2s041_WV02_20160917_103001005D2EE900_103001005CCC2000_2m_lsf_s_MOSAIC.tif', returncode=0, stdout=b'0...10...20...30...40...50...60...70...80...90...100 - done.\\n', stderr=b'')\n",
      "Removed preliminary files\n",
      " \n"
     ]
    },
    {
     "name": "stderr",
     "output_type": "stream",
     "text": [
      " 33%|██████████████▎                            | 23/69 [06:06<18:00, 23.48s/it]"
     ]
    },
    {
     "name": "stdout",
     "output_type": "stream",
     "text": [
      "CompletedProcess(args='gdal_merge.py SETSM_s2s041_WV01_20161121_10200100594E5400_1020010058A53400_2m_lsf_seg1_dem.tif -o SETSM_s2s041_WV01_20161121_10200100594E5400_1020010058A53400_2m_lsf_s_MOSAIC.tif', returncode=0, stdout=b'0...10...20...30...40...50...60...70...80...90...100 - done.\\n', stderr=b'')\n",
      "Removed preliminary files\n",
      " \n"
     ]
    },
    {
     "name": "stderr",
     "output_type": "stream",
     "text": [
      " 35%|██████████████▉                            | 24/69 [06:17<14:45, 19.67s/it]"
     ]
    },
    {
     "name": "stdout",
     "output_type": "stream",
     "text": [
      "CompletedProcess(args='gdal_merge.py SETSM_s2s041_WV02_20161231_1030010061AA0200_1030010062BDAC00_2m_lsf_seg3_dem.tif -o SETSM_s2s041_WV02_20161231_1030010061AA0200_1030010062BDAC00_2m_lsf_s_MOSAIC.tif', returncode=0, stdout=b'0...10...20...30...40...50...60...70...80...90...100 - done.\\n', stderr=b'')\n",
      "Removed preliminary files\n",
      " \n"
     ]
    },
    {
     "name": "stderr",
     "output_type": "stream",
     "text": [
      " 36%|███████████████▌                           | 25/69 [06:52<17:44, 24.20s/it]"
     ]
    },
    {
     "name": "stdout",
     "output_type": "stream",
     "text": [
      "CompletedProcess(args='gdal_merge.py SETSM_s2s041_WV02_20170117_10300100623EAD00_10300100631EBF00_2m_lsf_seg1_dem.tif -o SETSM_s2s041_WV02_20170117_10300100623EAD00_10300100631EBF00_2m_lsf_s_MOSAIC.tif', returncode=0, stdout=b'0...10...20...30...40...50...60...70...80...90...100 - done.\\n', stderr=b'')\n",
      "Removed preliminary files\n",
      " \n"
     ]
    },
    {
     "name": "stderr",
     "output_type": "stream",
     "text": [
      " 38%|████████████████▏                          | 26/69 [07:51<24:44, 34.52s/it]"
     ]
    },
    {
     "name": "stdout",
     "output_type": "stream",
     "text": [
      "CompletedProcess(args='gdal_merge.py SETSM_s2s041_WV01_20170129_102001005AC44C00_102001005A7B9E00_2m_lsf_seg1_dem.tif -o SETSM_s2s041_WV01_20170129_102001005AC44C00_102001005A7B9E00_2m_lsf_s_MOSAIC.tif', returncode=0, stdout=b'0...10...20...30...40...50...60...70...80...90...100 - done.\\n', stderr=b'')\n",
      "Removed preliminary files\n",
      " \n"
     ]
    },
    {
     "name": "stderr",
     "output_type": "stream",
     "text": [
      " 39%|████████████████▊                          | 27/69 [08:29<24:59, 35.69s/it]"
     ]
    },
    {
     "name": "stdout",
     "output_type": "stream",
     "text": [
      "CompletedProcess(args='gdal_merge.py SETSM_s2s041_WV01_20170510_1020010061778700_1020010062B75D00_2m_lsf_seg1_dem.tif SETSM_s2s041_WV01_20170510_10200100629A4000_1020010061D45E00_2m_lsf_seg2_dem.tif -o SETSM_s2s041_WV01_20170510_1020010061778700_1020010062B75D00_2m_lsf_s_MOSAIC.tif', returncode=0, stdout=b'0...10...20...30...40...50...60...70...80...90...100 - done.\\n', stderr=b'')\n",
      "Removed preliminary files\n",
      " \n"
     ]
    },
    {
     "name": "stderr",
     "output_type": "stream",
     "text": [
      " 41%|█████████████████▍                         | 28/69 [09:24<28:20, 41.49s/it]"
     ]
    },
    {
     "name": "stdout",
     "output_type": "stream",
     "text": [
      "CompletedProcess(args='gdal_merge.py SETSM_s2s041_WV02_20180117_1030010077C91E00_1030010076B55900_2m_lsf_seg1_dem.tif -o SETSM_s2s041_WV02_20180117_1030010077C91E00_1030010076B55900_2m_lsf_s_MOSAIC.tif', returncode=0, stdout=b'0...10...20...30...40...50...60...70...80...90...100 - done.\\n', stderr=b'')\n",
      "Removed preliminary files\n",
      " \n"
     ]
    },
    {
     "name": "stderr",
     "output_type": "stream",
     "text": [
      " 42%|██████████████████                         | 29/69 [10:19<30:16, 45.41s/it]"
     ]
    },
    {
     "name": "stdout",
     "output_type": "stream",
     "text": [
      "CompletedProcess(args='gdal_merge.py SETSM_s2s041_WV02_20180128_10300100787DDE00_10300100771E5C00_2m_lsf_seg1_dem.tif -o SETSM_s2s041_WV02_20180128_10300100787DDE00_10300100771E5C00_2m_lsf_s_MOSAIC.tif', returncode=0, stdout=b'0...10...20...30...40...50...60...70...80...90...100 - done.\\n', stderr=b'')\n",
      "Removed preliminary files\n",
      " \n"
     ]
    },
    {
     "name": "stderr",
     "output_type": "stream",
     "text": [
      " 43%|██████████████████▋                        | 30/69 [11:02<28:58, 44.59s/it]"
     ]
    },
    {
     "name": "stdout",
     "output_type": "stream",
     "text": [
      "CompletedProcess(args='gdal_merge.py SETSM_s2s041_WV01_20180130_102001006D557A00_102001006F299F00_2m_lsf_seg1_dem.tif -o SETSM_s2s041_WV01_20180130_102001006D557A00_102001006F299F00_2m_lsf_s_MOSAIC.tif', returncode=0, stdout=b'0...10...20...30...40...50...60...70...80...90...100 - done.\\n', stderr=b'')\n",
      "Removed preliminary files\n",
      " \n"
     ]
    },
    {
     "name": "stderr",
     "output_type": "stream",
     "text": [
      " 45%|███████████████████▎                       | 31/69 [11:18<22:57, 36.26s/it]"
     ]
    },
    {
     "name": "stdout",
     "output_type": "stream",
     "text": [
      "CompletedProcess(args='gdal_merge.py SETSM_s2s041_WV01_20180507_1020010076852C00_1020010070E29800_2m_lsf_seg1_dem.tif -o SETSM_s2s041_WV01_20180507_1020010076852C00_1020010070E29800_2m_lsf_s_MOSAIC.tif', returncode=0, stdout=b'0...10...20...30...40...50...60...70...80...90...100 - done.\\n', stderr=b'')\n",
      "Removed preliminary files\n",
      " \n"
     ]
    },
    {
     "name": "stderr",
     "output_type": "stream",
     "text": [
      " 46%|███████████████████▉                       | 32/69 [11:24<16:45, 27.17s/it]"
     ]
    },
    {
     "name": "stdout",
     "output_type": "stream",
     "text": [
      "CompletedProcess(args='gdal_merge.py SETSM_s2s041_W1W1_20180904_102001007754C800_1020010078AFA400_2m_lsf_seg1_dem.tif SETSM_s2s041_W1W1_20180904_102001007754C800_1020010078AFA400_2m_lsf_seg2_dem.tif -o SETSM_s2s041_W1W1_20180904_102001007754C800_1020010078AFA400_2m_lsf_s_MOSAIC.tif', returncode=0, stdout=b'0...10...20...30...40...50...60...70...80...90...100 - done.\\n', stderr=b'')\n",
      "Removed preliminary files\n",
      " \n"
     ]
    },
    {
     "name": "stderr",
     "output_type": "stream",
     "text": [
      " 48%|████████████████████▌                      | 33/69 [11:30<12:26, 20.73s/it]"
     ]
    },
    {
     "name": "stdout",
     "output_type": "stream",
     "text": [
      "CompletedProcess(args='gdal_merge.py SETSM_s2s041_WV03_20181011_1040010044252E00_10400100436E6900_2m_lsf_seg5_dem.tif -o SETSM_s2s041_WV03_20181011_1040010044252E00_10400100436E6900_2m_lsf_s_MOSAIC.tif', returncode=0, stdout=b'0...10...20...30...40...50...60...70...80...90...100 - done.\\n', stderr=b'')\n",
      "Removed preliminary files\n",
      " \n"
     ]
    },
    {
     "name": "stderr",
     "output_type": "stream",
     "text": [
      " 49%|█████████████████████▏                     | 34/69 [12:23<17:45, 30.44s/it]"
     ]
    },
    {
     "name": "stdout",
     "output_type": "stream",
     "text": [
      "CompletedProcess(args='gdal_merge.py SETSM_s2s041_WV02_20181123_1030010089AC2700_1030010084B4DB00_2m_lsf_seg1_dem.tif -o SETSM_s2s041_WV02_20181123_1030010089AC2700_1030010084B4DB00_2m_lsf_s_MOSAIC.tif', returncode=0, stdout=b'0...10...20...30...40...50...60...70...80...90...100 - done.\\n', stderr=b'')\n",
      "Removed preliminary files\n",
      " \n"
     ]
    },
    {
     "name": "stderr",
     "output_type": "stream",
     "text": [
      " 51%|█████████████████████▊                     | 35/69 [12:29<13:06, 23.14s/it]"
     ]
    },
    {
     "name": "stdout",
     "output_type": "stream",
     "text": [
      "CompletedProcess(args='gdal_merge.py SETSM_s2s041_WV03_20181130_1040010043967300_104001004483F000_2m_lsf_seg3_dem.tif -o SETSM_s2s041_WV03_20181130_1040010043967300_104001004483F000_2m_lsf_s_MOSAIC.tif', returncode=0, stdout=b'0...10...20...30...40...50...60...70...80...90...100 - done.\\n', stderr=b'')\n",
      "Removed preliminary files\n",
      " \n"
     ]
    },
    {
     "name": "stderr",
     "output_type": "stream",
     "text": [
      " 52%|██████████████████████▍                    | 36/69 [13:02<14:14, 25.90s/it]"
     ]
    },
    {
     "name": "stdout",
     "output_type": "stream",
     "text": [
      "CompletedProcess(args='gdal_merge.py SETSM_s2s041_WV01_20190105_102001007CA91B00_102001007E46E700_2m_lsf_seg1_dem.tif -o SETSM_s2s041_WV01_20190105_102001007CA91B00_102001007E46E700_2m_lsf_s_MOSAIC.tif', returncode=0, stdout=b'0...10...20...30...40...50...60...70...80...90...100 - done.\\n', stderr=b'')\n",
      "Removed preliminary files\n",
      " \n"
     ]
    },
    {
     "name": "stderr",
     "output_type": "stream",
     "text": [
      " 54%|███████████████████████                    | 37/69 [13:35<14:59, 28.12s/it]"
     ]
    },
    {
     "name": "stdout",
     "output_type": "stream",
     "text": [
      "CompletedProcess(args='gdal_merge.py SETSM_s2s041_WV02_20190117_103001008B2F3500_103001008D66FD00_2m_lsf_seg2_dem.tif -o SETSM_s2s041_WV02_20190117_103001008B2F3500_103001008D66FD00_2m_lsf_s_MOSAIC.tif', returncode=0, stdout=b'0...10...20...30...40...50...60...70...80...90...100 - done.\\n', stderr=b'')\n",
      "Removed preliminary files\n",
      " \n"
     ]
    },
    {
     "name": "stderr",
     "output_type": "stream",
     "text": [
      " 55%|███████████████████████▋                   | 38/69 [13:47<11:59, 23.21s/it]"
     ]
    },
    {
     "name": "stdout",
     "output_type": "stream",
     "text": [
      "CompletedProcess(args='gdal_merge.py SETSM_s2s041_WV02_20190503_1030010092080600_1030010090BBE200_2m_lsf_seg1_dem.tif -o SETSM_s2s041_WV02_20190503_1030010092080600_1030010090BBE200_2m_lsf_s_MOSAIC.tif', returncode=0, stdout=b'0...10...20...30...40...50...60...70...80...90...100 - done.\\n', stderr=b'')\n",
      "Removed preliminary files\n",
      " \n"
     ]
    },
    {
     "name": "stderr",
     "output_type": "stream",
     "text": [
      " 57%|████████████████████████▎                  | 39/69 [14:38<15:53, 31.79s/it]"
     ]
    },
    {
     "name": "stdout",
     "output_type": "stream",
     "text": [
      "CompletedProcess(args='gdal_merge.py SETSM_s2s041_WV01_20190620_1020010086A08700_102001008AC05E00_2m_lsf_seg1_dem.tif -o SETSM_s2s041_WV01_20190620_1020010086A08700_102001008AC05E00_2m_lsf_s_MOSAIC.tif', returncode=0, stdout=b'0...10...20...30...40...50...60...70...80...90...100 - done.\\n', stderr=b'')\n",
      "Removed preliminary files\n",
      " \n"
     ]
    },
    {
     "name": "stderr",
     "output_type": "stream",
     "text": [
      " 58%|████████████████████████▉                  | 40/69 [14:57<13:29, 27.90s/it]"
     ]
    },
    {
     "name": "stdout",
     "output_type": "stream",
     "text": [
      "CompletedProcess(args='gdal_merge.py SETSM_s2s041_WV02_20190905_10300100996D9E00_1030010098702F00_2m_lsf_seg3_dem.tif -o SETSM_s2s041_WV02_20190905_10300100996D9E00_1030010098702F00_2m_lsf_s_MOSAIC.tif', returncode=0, stdout=b'0...10...20...30...40...50...60...70...80...90...100 - done.\\n', stderr=b'')\n",
      "Removed preliminary files\n",
      " \n"
     ]
    },
    {
     "name": "stderr",
     "output_type": "stream",
     "text": [
      " 59%|█████████████████████████▌                 | 41/69 [15:11<11:00, 23.58s/it]"
     ]
    },
    {
     "name": "stdout",
     "output_type": "stream",
     "text": [
      "CompletedProcess(args='gdal_merge.py SETSM_s2s041_WV03_20200504_104001005A90CD00_104001005BA5D000_2m_lsf_seg5_dem.tif -o SETSM_s2s041_WV03_20200504_104001005A90CD00_104001005BA5D000_2m_lsf_s_MOSAIC.tif', returncode=0, stdout=b'0...10...20...30...40...50...60...70...80...90...100 - done.\\n', stderr=b'')\n",
      "Removed preliminary files\n",
      " \n"
     ]
    },
    {
     "name": "stderr",
     "output_type": "stream",
     "text": [
      " 61%|██████████████████████████▏                | 42/69 [15:52<13:02, 28.99s/it]"
     ]
    },
    {
     "name": "stdout",
     "output_type": "stream",
     "text": [
      "CompletedProcess(args='gdal_merge.py SETSM_s2s041_WV01_20200527_1020010098883700_102001009482A900_2m_lsf_seg1_dem.tif -o SETSM_s2s041_WV01_20200527_1020010098883700_102001009482A900_2m_lsf_s_MOSAIC.tif', returncode=0, stdout=b'0...10...20...30...40...50...60...70...80...90...100 - done.\\n', stderr=b'')\n",
      "Removed preliminary files\n",
      " \n"
     ]
    },
    {
     "name": "stderr",
     "output_type": "stream",
     "text": [
      " 62%|██████████████████████████▊                | 43/69 [15:56<09:15, 21.37s/it]"
     ]
    },
    {
     "name": "stdout",
     "output_type": "stream",
     "text": [
      "CompletedProcess(args='gdal_merge.py SETSM_s2s041_WV01_20200530_102001009930A000_10200100947C3200_2m_lsf_seg1_dem.tif -o SETSM_s2s041_WV01_20200530_102001009930A000_10200100947C3200_2m_lsf_s_MOSAIC.tif', returncode=0, stdout=b'0...10...20...30...40...50...60...70...80...90...100 - done.\\n', stderr=b'')\n",
      "Removed preliminary files\n",
      " \n"
     ]
    },
    {
     "name": "stderr",
     "output_type": "stream",
     "text": [
      " 64%|███████████████████████████▍               | 44/69 [16:08<07:44, 18.56s/it]"
     ]
    },
    {
     "name": "stdout",
     "output_type": "stream",
     "text": [
      "CompletedProcess(args='gdal_merge.py SETSM_s2s041_WV01_20200604_1020010099914B00_1020010094A09C00_2m_lsf_seg3_dem.tif -o SETSM_s2s041_WV01_20200604_1020010099914B00_1020010094A09C00_2m_lsf_s_MOSAIC.tif', returncode=0, stdout=b'0...10...20...30...40...50...60...70...80...90...100 - done.\\n', stderr=b'')\n",
      "Removed preliminary files\n",
      " \n"
     ]
    },
    {
     "name": "stderr",
     "output_type": "stream",
     "text": [
      " 65%|████████████████████████████               | 45/69 [17:02<11:37, 29.05s/it]"
     ]
    },
    {
     "name": "stdout",
     "output_type": "stream",
     "text": [
      "CompletedProcess(args='gdal_merge.py SETSM_s2s041_WV01_20200905_102001009C457300_102001009C91C300_2m_lsf_seg1_dem.tif -o SETSM_s2s041_WV01_20200905_102001009C457300_102001009C91C300_2m_lsf_s_MOSAIC.tif', returncode=0, stdout=b'0...10...20...30...40...50...60...70...80...90...100 - done.\\n', stderr=b'')\n",
      "Removed preliminary files\n",
      " \n"
     ]
    },
    {
     "name": "stderr",
     "output_type": "stream",
     "text": [
      " 67%|████████████████████████████▋              | 46/69 [17:50<13:22, 34.88s/it]"
     ]
    },
    {
     "name": "stdout",
     "output_type": "stream",
     "text": [
      "CompletedProcess(args='gdal_merge.py SETSM_s2s041_WV02_20201118_10300100AD12DE00_10300100AF6EF800_2m_lsf_seg1_dem.tif -o SETSM_s2s041_WV02_20201118_10300100AD12DE00_10300100AF6EF800_2m_lsf_s_MOSAIC.tif', returncode=0, stdout=b'0...10...20...30...40...50...60...70...80...90...100 - done.\\n', stderr=b'')\n",
      "Removed preliminary files\n",
      " \n"
     ]
    },
    {
     "name": "stderr",
     "output_type": "stream",
     "text": [
      " 68%|█████████████████████████████▎             | 47/69 [18:31<13:26, 36.64s/it]"
     ]
    },
    {
     "name": "stdout",
     "output_type": "stream",
     "text": [
      "CompletedProcess(args='gdal_merge.py SETSM_s2s041_WV03_20210208_1040010064659900_1040010065271300_2m_seg1_dem.tif -o SETSM_s2s041_WV03_20210208_1040010064659900_1040010065271300_2m_s_MOSAIC.tif', returncode=0, stdout=b'0...10...20...30...40...50...60...70...80...90...100 - done.\\n', stderr=b'')\n",
      "Removed preliminary files\n",
      " \n"
     ]
    },
    {
     "name": "stderr",
     "output_type": "stream",
     "text": [
      " 70%|█████████████████████████████▉             | 48/69 [19:23<14:24, 41.17s/it]"
     ]
    },
    {
     "name": "stdout",
     "output_type": "stream",
     "text": [
      "CompletedProcess(args='gdal_merge.py SETSM_s2s041_WV02_20210215_10300100B5439700_10300100B692CF00_2m_lsf_seg1_dem.tif -o SETSM_s2s041_WV02_20210215_10300100B5439700_10300100B692CF00_2m_lsf_s_MOSAIC.tif', returncode=0, stdout=b'0...10...20...30...40...50...60...70...80...90...100 - done.\\n', stderr=b'')\n",
      "Removed preliminary files\n",
      " \n"
     ]
    },
    {
     "name": "stderr",
     "output_type": "stream",
     "text": [
      " 71%|██████████████████████████████▌            | 49/69 [19:35<10:50, 32.52s/it]"
     ]
    },
    {
     "name": "stdout",
     "output_type": "stream",
     "text": [
      "CompletedProcess(args='gdal_merge.py SETSM_s2s041_WV01_20210223_10200100A14A8200_10200100A4011000_2m_lsf_seg2_dem.tif -o SETSM_s2s041_WV01_20210223_10200100A14A8200_10200100A4011000_2m_lsf_s_MOSAIC.tif', returncode=0, stdout=b'0...10...20...30...40...50...60...70...80...90...100 - done.\\n', stderr=b'')\n",
      "Removed preliminary files\n",
      " \n"
     ]
    },
    {
     "name": "stderr",
     "output_type": "stream",
     "text": [
      " 72%|███████████████████████████████▏           | 50/69 [19:38<07:29, 23.68s/it]"
     ]
    },
    {
     "name": "stdout",
     "output_type": "stream",
     "text": [
      "CompletedProcess(args='gdal_merge.py SETSM_s2s041_W1W3_20210305_10200100A53C8100_104001006437AE00_2m_lsf_seg3_dem.tif -o SETSM_s2s041_W1W3_20210305_10200100A53C8100_104001006437AE00_2m_lsf_s_MOSAIC.tif', returncode=0, stdout=b'0...10...20...30...40...50...60...70...80...90...100 - done.\\n', stderr=b'')\n",
      "Removed preliminary files\n",
      " \n"
     ]
    },
    {
     "name": "stderr",
     "output_type": "stream",
     "text": [
      " 74%|███████████████████████████████▊           | 51/69 [19:43<05:23, 17.96s/it]"
     ]
    },
    {
     "name": "stdout",
     "output_type": "stream",
     "text": [
      "CompletedProcess(args='gdal_merge.py SETSM_s2s041_WV03_20210717_104001006B816400_104001006C97D700_2m_lsf_seg1_dem.tif -o SETSM_s2s041_WV03_20210717_104001006B816400_104001006C97D700_2m_lsf_s_MOSAIC.tif', returncode=0, stdout=b'0...10...20...30...40...50...60...70...80...90...100 - done.\\n', stderr=b'')\n",
      "Removed preliminary files\n",
      " \n"
     ]
    },
    {
     "name": "stderr",
     "output_type": "stream",
     "text": [
      " 75%|████████████████████████████████▍          | 52/69 [19:46<03:53, 13.75s/it]"
     ]
    },
    {
     "name": "stdout",
     "output_type": "stream",
     "text": [
      "CompletedProcess(args='gdal_merge.py SETSM_s2s041_WV03_20210829_104001006C401100_104001006DA6B800_2m_lsf_seg1_dem.tif -o SETSM_s2s041_WV03_20210829_104001006C401100_104001006DA6B800_2m_lsf_s_MOSAIC.tif', returncode=0, stdout=b'0...10...20...30...40...50...60...70...80...90...100 - done.\\n', stderr=b'')\n",
      "Removed preliminary files\n",
      " \n"
     ]
    },
    {
     "name": "stderr",
     "output_type": "stream",
     "text": [
      " 77%|█████████████████████████████████          | 53/69 [19:50<02:52, 10.75s/it]"
     ]
    },
    {
     "name": "stdout",
     "output_type": "stream",
     "text": [
      "CompletedProcess(args='gdal_merge.py SETSM_s2s041_WV03_20211025_104001006E7C5100_1040010071D58900_2m_lsf_seg1_dem.tif -o SETSM_s2s041_WV03_20211025_104001006E7C5100_1040010071D58900_2m_lsf_s_MOSAIC.tif', returncode=0, stdout=b'0...10...20...30...40...50...60...70...80...90...100 - done.\\n', stderr=b'')\n",
      "Removed preliminary files\n",
      " \n"
     ]
    },
    {
     "name": "stderr",
     "output_type": "stream",
     "text": [
      " 78%|█████████████████████████████████▋         | 54/69 [19:54<02:10,  8.72s/it]"
     ]
    },
    {
     "name": "stdout",
     "output_type": "stream",
     "text": [
      "CompletedProcess(args='gdal_merge.py SETSM_s2s041_WV03_20220223_104001007380AF00_104001007401E900_2m_lsf_seg1_dem.tif -o SETSM_s2s041_WV03_20220223_104001007380AF00_104001007401E900_2m_lsf_s_MOSAIC.tif', returncode=0, stdout=b'0...10...20...30...40...50...60...70...80...90...100 - done.\\n', stderr=b'')\n",
      "Removed preliminary files\n",
      " \n"
     ]
    },
    {
     "name": "stderr",
     "output_type": "stream",
     "text": [
      " 80%|██████████████████████████████████▎        | 55/69 [19:58<01:43,  7.38s/it]"
     ]
    },
    {
     "name": "stdout",
     "output_type": "stream",
     "text": [
      "CompletedProcess(args='gdal_merge.py SETSM_s2s041_WV03_20220326_10400100745CDB00_1040010076380500_2m_lsf_seg1_dem.tif -o SETSM_s2s041_WV03_20220326_10400100745CDB00_1040010076380500_2m_lsf_s_MOSAIC.tif', returncode=0, stdout=b'0...10...20...30...40...50...60...70...80...90...100 - done.\\n', stderr=b'')\n",
      "Removed preliminary files\n",
      " \n"
     ]
    },
    {
     "name": "stderr",
     "output_type": "stream",
     "text": [
      " 81%|██████████████████████████████████▉        | 56/69 [20:02<01:22,  6.37s/it]"
     ]
    },
    {
     "name": "stdout",
     "output_type": "stream",
     "text": [
      "CompletedProcess(args='gdal_merge.py SETSM_s2s041_WV03_20220414_10400100759F5600_10400100761C1B00_2m_lsf_seg1_dem.tif -o SETSM_s2s041_WV03_20220414_10400100759F5600_10400100761C1B00_2m_lsf_s_MOSAIC.tif', returncode=0, stdout=b'0...10...20...30...40...50...60...70...80...90...100 - done.\\n', stderr=b'')\n",
      "Removed preliminary files\n",
      " \n"
     ]
    },
    {
     "name": "stderr",
     "output_type": "stream",
     "text": [
      " 83%|███████████████████████████████████▌       | 57/69 [20:07<01:10,  5.89s/it]"
     ]
    },
    {
     "name": "stdout",
     "output_type": "stream",
     "text": [
      "CompletedProcess(args='gdal_merge.py SETSM_s2s041_WV03_20220416_10400100759D8100_1040010076007E00_2m_lsf_seg1_dem.tif -o SETSM_s2s041_WV03_20220416_10400100759D8100_1040010076007E00_2m_lsf_s_MOSAIC.tif', returncode=0, stdout=b'0...10...20...30...40...50...60...70...80...90...100 - done.\\n', stderr=b'')\n",
      "Removed preliminary files\n",
      " \n"
     ]
    },
    {
     "name": "stderr",
     "output_type": "stream",
     "text": [
      " 84%|████████████████████████████████████▏      | 58/69 [20:11<00:57,  5.24s/it]"
     ]
    },
    {
     "name": "stdout",
     "output_type": "stream",
     "text": [
      "CompletedProcess(args='gdal_merge.py SETSM_s2s041_WV03_20220421_10400100757E2200_1040010076083E00_2m_lsf_seg1_dem.tif -o SETSM_s2s041_WV03_20220421_10400100757E2200_1040010076083E00_2m_lsf_s_MOSAIC.tif', returncode=0, stdout=b'0...10...20...30...40...50...60...70...80...90...100 - done.\\n', stderr=b'')\n",
      "Removed preliminary files\n",
      " \n"
     ]
    },
    {
     "name": "stderr",
     "output_type": "stream",
     "text": [
      " 86%|████████████████████████████████████▊      | 59/69 [20:17<00:53,  5.36s/it]"
     ]
    },
    {
     "name": "stdout",
     "output_type": "stream",
     "text": [
      "CompletedProcess(args='gdal_merge.py SETSM_s2s041_WV01_20220429_10200100C263E600_10200100C4AD4800_2m_lsf_seg1_dem.tif -o SETSM_s2s041_WV01_20220429_10200100C263E600_10200100C4AD4800_2m_lsf_s_MOSAIC.tif', returncode=0, stdout=b'0...10...20...30...40...50...60...70...80...90...100 - done.\\n', stderr=b'')\n",
      "Removed preliminary files\n",
      " \n"
     ]
    },
    {
     "name": "stderr",
     "output_type": "stream",
     "text": [
      " 87%|█████████████████████████████████████▍     | 60/69 [20:21<00:46,  5.12s/it]"
     ]
    },
    {
     "name": "stdout",
     "output_type": "stream",
     "text": [
      "CompletedProcess(args='gdal_merge.py SETSM_s2s041_WV03_20220505_1040010075884C00_1040010076B7E500_2m_lsf_seg1_dem.tif -o SETSM_s2s041_WV03_20220505_1040010075884C00_1040010076B7E500_2m_lsf_s_MOSAIC.tif', returncode=0, stdout=b'0...10...20...30...40...50...60...70...80...90...100 - done.\\n', stderr=b'')\n",
      "Removed preliminary files\n",
      " \n"
     ]
    },
    {
     "name": "stderr",
     "output_type": "stream",
     "text": [
      " 88%|██████████████████████████████████████     | 61/69 [20:25<00:38,  4.86s/it]"
     ]
    },
    {
     "name": "stdout",
     "output_type": "stream",
     "text": [
      "CompletedProcess(args='gdal_merge.py SETSM_s2s041_WV03_20220522_1040010076675F00_1040010077A59300_2m_lsf_seg1_dem.tif -o SETSM_s2s041_WV03_20220522_1040010076675F00_1040010077A59300_2m_lsf_s_MOSAIC.tif', returncode=0, stdout=b'0...10...20...30...40...50...60...70...80...90...100 - done.\\n', stderr=b'')\n",
      "Removed preliminary files\n",
      " \n"
     ]
    },
    {
     "name": "stderr",
     "output_type": "stream",
     "text": [
      " 90%|██████████████████████████████████████▋    | 62/69 [20:29<00:31,  4.57s/it]"
     ]
    },
    {
     "name": "stdout",
     "output_type": "stream",
     "text": [
      "CompletedProcess(args='gdal_merge.py SETSM_s2s041_WV03_20220529_1040010076928C00_1040010077228200_2m_lsf_seg1_dem.tif -o SETSM_s2s041_WV03_20220529_1040010076928C00_1040010077228200_2m_lsf_s_MOSAIC.tif', returncode=0, stdout=b'0...10...20...30...40...50...60...70...80...90...100 - done.\\n', stderr=b'')\n",
      "Removed preliminary files\n",
      " \n"
     ]
    },
    {
     "name": "stderr",
     "output_type": "stream",
     "text": [
      " 91%|███████████████████████████████████████▎   | 63/69 [20:34<00:27,  4.59s/it]"
     ]
    },
    {
     "name": "stdout",
     "output_type": "stream",
     "text": [
      "CompletedProcess(args='gdal_merge.py SETSM_s2s041_WV02_20220603_10300100D1598200_10300100D3B79800_2m_lsf_seg1_dem.tif -o SETSM_s2s041_WV02_20220603_10300100D1598200_10300100D3B79800_2m_lsf_s_MOSAIC.tif', returncode=0, stdout=b'0...10...20...30...40...50...60...70...80...90...100 - done.\\n', stderr=b'')\n",
      "Removed preliminary files\n",
      " \n"
     ]
    },
    {
     "name": "stderr",
     "output_type": "stream",
     "text": [
      " 93%|███████████████████████████████████████▉   | 64/69 [20:38<00:21,  4.37s/it]"
     ]
    },
    {
     "name": "stdout",
     "output_type": "stream",
     "text": [
      "CompletedProcess(args='gdal_merge.py SETSM_s2s041_WV03_20220617_104001007791F200_1040010079521200_2m_lsf_seg1_dem.tif -o SETSM_s2s041_WV03_20220617_104001007791F200_1040010079521200_2m_lsf_s_MOSAIC.tif', returncode=0, stdout=b'0...10...20...30...40...50...60...70...80...90...100 - done.\\n', stderr=b'')\n",
      "Removed preliminary files\n",
      " \n"
     ]
    },
    {
     "name": "stderr",
     "output_type": "stream",
     "text": [
      " 94%|████████████████████████████████████████▌  | 65/69 [20:42<00:16,  4.21s/it]"
     ]
    },
    {
     "name": "stdout",
     "output_type": "stream",
     "text": [
      "CompletedProcess(args='gdal_merge.py SETSM_s2s041_WV03_20220629_10400100761B7600_1040010077376100_2m_lsf_seg1_dem.tif -o SETSM_s2s041_WV03_20220629_10400100761B7600_1040010077376100_2m_lsf_s_MOSAIC.tif', returncode=0, stdout=b'0...10...20...30...40...50...60...70...80...90...100 - done.\\n', stderr=b'')\n",
      "Removed preliminary files\n",
      " \n"
     ]
    },
    {
     "name": "stderr",
     "output_type": "stream",
     "text": [
      " 96%|█████████████████████████████████████████▏ | 66/69 [20:47<00:13,  4.44s/it]"
     ]
    },
    {
     "name": "stdout",
     "output_type": "stream",
     "text": [
      "CompletedProcess(args='gdal_merge.py SETSM_s2s041_WV03_20220704_104001007A709000_104001007BCB6500_2m_lsf_seg1_dem.tif -o SETSM_s2s041_WV03_20220704_104001007A709000_104001007BCB6500_2m_lsf_s_MOSAIC.tif', returncode=0, stdout=b'0...10...20...30...40...50...60...70...80...90...100 - done.\\n', stderr=b'')\n",
      "Removed preliminary files\n",
      " \n"
     ]
    },
    {
     "name": "stderr",
     "output_type": "stream",
     "text": [
      " 97%|█████████████████████████████████████████▊ | 67/69 [20:51<00:08,  4.41s/it]"
     ]
    },
    {
     "name": "stdout",
     "output_type": "stream",
     "text": [
      "CompletedProcess(args='gdal_merge.py SETSM_s2s041_WV03_20220811_10400100798C9500_1040010079A3A900_2m_lsf_seg1_dem.tif -o SETSM_s2s041_WV03_20220811_10400100798C9500_1040010079A3A900_2m_lsf_s_MOSAIC.tif', returncode=0, stdout=b'0...10...20...30...40...50...60...70...80...90...100 - done.\\n', stderr=b'')\n",
      "Removed preliminary files\n",
      " \n"
     ]
    },
    {
     "name": "stderr",
     "output_type": "stream",
     "text": [
      " 99%|██████████████████████████████████████████▍| 68/69 [20:56<00:04,  4.50s/it]"
     ]
    },
    {
     "name": "stdout",
     "output_type": "stream",
     "text": [
      "CompletedProcess(args='gdal_merge.py SETSM_s2s041_WV03_20220911_104001007BAAF300_104001007CAE8B00_2m_lsf_seg1_dem.tif -o SETSM_s2s041_WV03_20220911_104001007BAAF300_104001007CAE8B00_2m_lsf_s_MOSAIC.tif', returncode=0, stdout=b'0...10...20...30...40...50...60...70...80...90...100 - done.\\n', stderr=b'')\n",
      "Removed preliminary files\n",
      " \n"
     ]
    },
    {
     "name": "stderr",
     "output_type": "stream",
     "text": [
      "100%|███████████████████████████████████████████| 69/69 [20:59<00:00, 18.25s/it]"
     ]
    },
    {
     "name": "stdout",
     "output_type": "stream",
     "text": [
      "CompletedProcess(args='gdal_merge.py SETSM_s2s041_WV03_20221217_104001007F272300_1040010080A18900_2m_lsf_seg1_dem.tif -o SETSM_s2s041_WV03_20221217_104001007F272300_1040010080A18900_2m_lsf_s_MOSAIC.tif', returncode=0, stdout=b'0...10...20...30...40...50...60...70...80...90...100 - done.\\n', stderr=b'')\n",
      "Removed preliminary files\n",
      " \n"
     ]
    },
    {
     "name": "stderr",
     "output_type": "stream",
     "text": [
      "\n"
     ]
    }
   ],
   "source": [
    "# Load DEM file names\n",
    "data_path = '/Users/raineyaberle/Research/PhD/Hubbard/surface_elevations/ArcticDEM/'\n",
    "os.chdir(data_path)\n",
    "dem_fns = sorted(glob.glob('*.tif'))\n",
    "\n",
    "# Grab unique image dates from file names\n",
    "im_dates = [dem_fn[18:26] for dem_fn in dem_fns]\n",
    "im_dates_unique = sorted(list(set(im_dates)))\n",
    "\n",
    "# Iterate over unique image dates\n",
    "for im_date in tqdm(im_dates_unique):\n",
    "    # grab all files names with image date in file name\n",
    "    dem_fns_date = [x for x in dem_fns if im_date in x]\n",
    "    # check if more than one image found for date\n",
    "    if len(dem_fns_date) < 1:\n",
    "        print('Only one image for date, continuing...')\n",
    "        continue\n",
    "    # define output file name\n",
    "    dem_fn_out = dem_fns_date[0][0:-11] + '_MOSAIC.tif'\n",
    "    # check if file already exists in directory\n",
    "    if os.path.exists(dem_fn_out):\n",
    "        print('mosaic already exists for date, skipping...')\n",
    "        continue\n",
    "    # construct gdal command\n",
    "    cmd = 'gdal_merge.py '\n",
    "    # add input file names\n",
    "    for dem_fn in dem_fns_date:\n",
    "        cmd += dem_fn + ' '\n",
    "    # add output file name\n",
    "    cmd += '-o ' + dem_fn_out\n",
    "    \n",
    "    # run command\n",
    "    output = subprocess.run(cmd, shell=True, capture_output=True)\n",
    "    print(output)\n",
    "\n",
    "    # remove original files\n",
    "    for dem_fn in dem_fns_date:\n",
    "        os.remove(dem_fn)\n",
    "    print('Removed preliminary files')\n",
    "        \n",
    "    print(' ')"
   ]
  },
  {
   "cell_type": "markdown",
   "id": "a63322d9-1b35-4ed1-84b6-6330455fa8ac",
   "metadata": {},
   "source": [
    "## Reproject to Alaska Albers horizontal CRS"
   ]
  },
  {
   "cell_type": "code",
   "execution_count": 44,
   "id": "9ecc89ce-4c97-42de-a66e-4ce44696f309",
   "metadata": {
    "scrolled": true
   },
   "outputs": [
    {
     "name": "stderr",
     "output_type": "stream",
     "text": [
      "  1%|▋                                           | 1/70 [00:02<03:16,  2.85s/it]"
     ]
    },
    {
     "name": "stdout",
     "output_type": "stream",
     "text": [
      "CompletedProcess(args='gdalwarp SETSM_s2s041_W1W1_20090222_1020010006154900_10200100067FFD00_2m_lsf_s_dem_dem_MOSAIC.tif -t_srs EPSG:3338 SETSM_s2s041_W1W1_20090222_1020010006154900_10200100067FFD00_2m_lsf_s_dem_dem_MOSAIC_reprojected.tif', returncode=0, stdout=b'Creating output file that is 10534P x 8698L.\\nProcessing SETSM_s2s041_W1W1_20090222_1020010006154900_10200100067FFD00_2m_lsf_s_dem_dem_MOSAIC.tif [1/1] : 0...10...20...30...40...50...60...70...80...90...100 - done.\\n', stderr=b'')\n",
      "Removed original file\n",
      " \n"
     ]
    },
    {
     "name": "stderr",
     "output_type": "stream",
     "text": [
      "  3%|█▎                                          | 2/70 [00:07<04:37,  4.09s/it]"
     ]
    },
    {
     "name": "stdout",
     "output_type": "stream",
     "text": [
      "CompletedProcess(args='gdalwarp SETSM_s2s041_W1W1_20100826_102001000E21DE00_102001000F1D3E00_2m_lsf_s_dem_MOSAIC.tif -t_srs EPSG:3338 SETSM_s2s041_W1W1_20100826_102001000E21DE00_102001000F1D3E00_2m_lsf_s_dem_MOSAIC_reprojected.tif', returncode=0, stdout=b'Creating output file that is 12922P x 13446L.\\nProcessing SETSM_s2s041_W1W1_20100826_102001000E21DE00_102001000F1D3E00_2m_lsf_s_dem_MOSAIC.tif [1/1] : 0...10...20...30...40...50...60...70...80...90...100 - done.\\n', stderr=b'')\n",
      "Removed original file\n",
      " \n"
     ]
    },
    {
     "name": "stderr",
     "output_type": "stream",
     "text": [
      "  4%|█▉                                          | 3/70 [00:16<07:07,  6.39s/it]"
     ]
    },
    {
     "name": "stdout",
     "output_type": "stream",
     "text": [
      "CompletedProcess(args='gdalwarp SETSM_s2s041_W1W1_20110706_10200100130D4600_10200100149A0300_2m_lsf_s_dem_MOSAIC.tif -t_srs EPSG:3338 SETSM_s2s041_W1W1_20110706_10200100130D4600_10200100149A0300_2m_lsf_s_dem_MOSAIC_reprojected.tif', returncode=0, stdout=b'Creating output file that is 20612P x 17843L.\\nProcessing SETSM_s2s041_W1W1_20110706_10200100130D4600_10200100149A0300_2m_lsf_s_dem_MOSAIC.tif [1/1] : 0...10...20...30...40...50...60...70...80...90...100 - done.\\n', stderr=b'')\n",
      "Removed original file\n",
      " \n"
     ]
    },
    {
     "name": "stderr",
     "output_type": "stream",
     "text": [
      "  6%|██▌                                         | 4/70 [00:23<06:54,  6.29s/it]"
     ]
    },
    {
     "name": "stdout",
     "output_type": "stream",
     "text": [
      "CompletedProcess(args='gdalwarp SETSM_s2s041_W1W1_20110711_10200100130D4600_1020010013778E00_2m_lsf_s_dem_MOSAIC.tif -t_srs EPSG:3338 SETSM_s2s041_W1W1_20110711_10200100130D4600_1020010013778E00_2m_lsf_s_dem_MOSAIC_reprojected.tif', returncode=0, stdout=b'Creating output file that is 13869P x 14951L.\\nProcessing SETSM_s2s041_W1W1_20110711_10200100130D4600_1020010013778E00_2m_lsf_s_dem_MOSAIC.tif [1/1] : 0...10...20...30...40...50...60...70...80...90...100 - done.\\n', stderr=b'')\n",
      "Removed original file\n",
      " \n"
     ]
    },
    {
     "name": "stderr",
     "output_type": "stream",
     "text": [
      "  7%|███▏                                        | 5/70 [00:27<05:55,  5.47s/it]"
     ]
    },
    {
     "name": "stdout",
     "output_type": "stream",
     "text": [
      "CompletedProcess(args='gdalwarp SETSM_s2s041_W1W1_20110925_1020010014920D00_1020010015562300_2m_lsf_s_dem_MOSAIC.tif -t_srs EPSG:3338 SETSM_s2s041_W1W1_20110925_1020010014920D00_1020010015562300_2m_lsf_s_dem_MOSAIC_reprojected.tif', returncode=0, stdout=b'Creating output file that is 11742P x 11011L.\\nProcessing SETSM_s2s041_W1W1_20110925_1020010014920D00_1020010015562300_2m_lsf_s_dem_MOSAIC.tif [1/1] : 0...10...20...30...40...50...60...70...80...90...100 - done.\\n', stderr=b'')\n",
      "Removed original file\n",
      " \n"
     ]
    },
    {
     "name": "stderr",
     "output_type": "stream",
     "text": [
      "  9%|███▊                                        | 6/70 [00:31<05:26,  5.10s/it]"
     ]
    },
    {
     "name": "stdout",
     "output_type": "stream",
     "text": [
      "CompletedProcess(args='gdalwarp SETSM_s2s041_W1W1_20111004_1020010015562300_10200100164CBB00_2m_lsf_s_dem_MOSAIC.tif -t_srs EPSG:3338 SETSM_s2s041_W1W1_20111004_1020010015562300_10200100164CBB00_2m_lsf_s_dem_MOSAIC_reprojected.tif', returncode=0, stdout=b'Creating output file that is 11979P x 12213L.\\nProcessing SETSM_s2s041_W1W1_20111004_1020010015562300_10200100164CBB00_2m_lsf_s_dem_MOSAIC.tif [1/1] : 0...10...20...30...40...50...60...70...80...90...100 - done.\\n', stderr=b'')\n",
      "Removed original file\n",
      " \n"
     ]
    },
    {
     "name": "stderr",
     "output_type": "stream",
     "text": [
      " 10%|████▍                                       | 7/70 [00:38<06:01,  5.74s/it]"
     ]
    },
    {
     "name": "stdout",
     "output_type": "stream",
     "text": [
      "CompletedProcess(args='gdalwarp SETSM_s2s041_W1W1_20180904_102001007754C800_1020010078AFA400_2m_lsf_s_MOSAIC.tif -t_srs EPSG:3338 SETSM_s2s041_W1W1_20180904_102001007754C800_1020010078AFA400_2m_lsf_s_MOSAIC_reprojected.tif', returncode=0, stdout=b'Creating output file that is 13325P x 30903L.\\nProcessing SETSM_s2s041_W1W1_20180904_102001007754C800_1020010078AFA400_2m_lsf_s_MOSAIC.tif [1/1] : 0...10...20...30...40...50...60...70...80...90...100 - done.\\n', stderr=b'')\n",
      "Removed original file\n",
      " \n"
     ]
    },
    {
     "name": "stderr",
     "output_type": "stream",
     "text": [
      " 11%|█████                                       | 8/70 [00:41<04:57,  4.80s/it]"
     ]
    },
    {
     "name": "stdout",
     "output_type": "stream",
     "text": [
      "CompletedProcess(args='gdalwarp SETSM_s2s041_W1W3_20210305_10200100A53C8100_104001006437AE00_2m_lsf_s_MOSAIC.tif -t_srs EPSG:3338 SETSM_s2s041_W1W3_20210305_10200100A53C8100_104001006437AE00_2m_lsf_s_MOSAIC_reprojected.tif', returncode=0, stdout=b'Creating output file that is 8168P x 9886L.\\nProcessing SETSM_s2s041_W1W3_20210305_10200100A53C8100_104001006437AE00_2m_lsf_s_MOSAIC.tif [1/1] : 0...10...20...30...40...50...60...70...80...90...100 - done.\\n', stderr=b'')\n",
      "Removed original file\n",
      " \n"
     ]
    },
    {
     "name": "stderr",
     "output_type": "stream",
     "text": [
      " 13%|█████▋                                      | 9/70 [00:47<05:21,  5.26s/it]"
     ]
    },
    {
     "name": "stdout",
     "output_type": "stream",
     "text": [
      "CompletedProcess(args='gdalwarp SETSM_s2s041_WV01_20130522_10200100223B5E00_102001002182CE00_2m_lsf_s_dem_MOSAIC.tif -t_srs EPSG:3338 SETSM_s2s041_WV01_20130522_10200100223B5E00_102001002182CE00_2m_lsf_s_dem_MOSAIC_reprojected.tif', returncode=0, stdout=b'Creating output file that is 13904P x 16660L.\\nProcessing SETSM_s2s041_WV01_20130522_10200100223B5E00_102001002182CE00_2m_lsf_s_dem_MOSAIC.tif [1/1] : 0...10...20...30...40...50...60...70...80...90...100 - done.\\n', stderr=b'')\n",
      "Removed original file\n",
      " \n"
     ]
    },
    {
     "name": "stderr",
     "output_type": "stream",
     "text": [
      " 14%|██████▏                                    | 10/70 [01:13<11:30, 11.50s/it]"
     ]
    },
    {
     "name": "stdout",
     "output_type": "stream",
     "text": [
      "CompletedProcess(args='gdalwarp SETSM_s2s041_WV01_20130625_1020010022E0EC00_102001002255DA00_2m_lsf_s_dem_MOSAIC.tif -t_srs EPSG:3338 SETSM_s2s041_WV01_20130625_1020010022E0EC00_102001002255DA00_2m_lsf_s_dem_MOSAIC_reprojected.tif', returncode=0, stdout=b'Creating output file that is 23788P x 42082L.\\nProcessing SETSM_s2s041_WV01_20130625_1020010022E0EC00_102001002255DA00_2m_lsf_s_dem_MOSAIC.tif [1/1] : 0...10...20...30...40...50...60...70...80...90...100 - done.\\n', stderr=b'')\n",
      "Removed original file\n",
      " \n"
     ]
    },
    {
     "name": "stderr",
     "output_type": "stream",
     "text": [
      " 16%|██████▊                                    | 11/70 [01:54<20:27, 20.80s/it]"
     ]
    },
    {
     "name": "stdout",
     "output_type": "stream",
     "text": [
      "CompletedProcess(args='gdalwarp SETSM_s2s041_WV01_20130810_10200100256EAD00_1020010023DBD100_2m_lsf_s_dem_MOSAIC.tif -t_srs EPSG:3338 SETSM_s2s041_WV01_20130810_10200100256EAD00_1020010023DBD100_2m_lsf_s_dem_MOSAIC_reprojected.tif', returncode=0, stdout=b'Creating output file that is 30944P x 61393L.\\nProcessing SETSM_s2s041_WV01_20130810_10200100256EAD00_1020010023DBD100_2m_lsf_s_dem_MOSAIC.tif [1/1] : 0...10...20...30...40...50...60...70...80...90...100 - done.\\n', stderr=b'')\n",
      "Removed original file\n",
      " \n"
     ]
    },
    {
     "name": "stderr",
     "output_type": "stream",
     "text": [
      " 17%|███████▎                                   | 12/70 [02:46<29:09, 30.16s/it]"
     ]
    },
    {
     "name": "stdout",
     "output_type": "stream",
     "text": [
      "CompletedProcess(args='gdalwarp SETSM_s2s041_WV01_20130810_10200100256EAD00_1020010023DBD100_2m_lsf_seg1_dem.tif -t_srs EPSG:3338 SETSM_s2s041_WV01_20130810_10200100256EAD00_1020010023DBD100_2m_lsf_seg1_dem_reprojected.tif', returncode=0, stdout=b'Creating output file that is 30944P x 61393L.\\nProcessing SETSM_s2s041_WV01_20130810_10200100256EAD00_1020010023DBD100_2m_lsf_seg1_dem.tif [1/1] : 0Using internal nodata values (e.g. -9999) for image SETSM_s2s041_WV01_20130810_10200100256EAD00_1020010023DBD100_2m_lsf_seg1_dem.tif.\\nCopying nodata values from source SETSM_s2s041_WV01_20130810_10200100256EAD00_1020010023DBD100_2m_lsf_seg1_dem.tif to destination SETSM_s2s041_WV01_20130810_10200100256EAD00_1020010023DBD100_2m_lsf_seg1_dem_reprojected.tif.\\n...10...20...30...40...50...60...70...80...90...100 - done.\\n', stderr=b'')\n",
      "Removed original file\n",
      " \n",
      "CompletedProcess(args='gdalwarp SETSM_s2s041_WV01_20131207_1020010028A0CD00_1020010027DDD800_2m_lsf_s_MOSAIC.tif -t_srs EPSG:3338 SETSM_s2s041_WV01_20131207_1020010028A0CD00_1020010027DDD800_2m_lsf_s_MOSAIC_reprojected.tif', returncode=0, stdout=b'Creating output file that is 31730P x 61528L.\\nProcessing SETSM_s2s041_WV01_20131207_1020010028A0CD00_1020010027DDD800_2m_lsf_s_MOSAIC.tif [1/1] : 0...10...20...30...40...50...60...70...80...90...100 - done.\\n', stderr=b'')\n"
     ]
    },
    {
     "name": "stderr",
     "output_type": "stream",
     "text": [
      " 19%|███████▉                                   | 13/70 [04:10<44:10, 46.49s/it]"
     ]
    },
    {
     "name": "stdout",
     "output_type": "stream",
     "text": [
      "Removed original file\n",
      " \n",
      "CompletedProcess(args='gdalwarp SETSM_s2s041_WV01_20140423_102001002F761300_102001002D3EE400_2m_lsf_s_MOSAIC.tif -t_srs EPSG:3338 SETSM_s2s041_WV01_20140423_102001002F761300_102001002D3EE400_2m_lsf_s_MOSAIC_reprojected.tif', returncode=0, stdout=b'Creating output file that is 30616P x 61953L.\\nProcessing SETSM_s2s041_WV01_20140423_102001002F761300_102001002D3EE400_2m_lsf_s_MOSAIC.tif [1/1] : 0...10...20...30...40...50...60...70...80...90...100 - done.\\n', stderr=b'')\n"
     ]
    },
    {
     "name": "stderr",
     "output_type": "stream",
     "text": [
      " 20%|████████▌                                  | 14/70 [05:20<50:01, 53.60s/it]"
     ]
    },
    {
     "name": "stdout",
     "output_type": "stream",
     "text": [
      "Removed original file\n",
      " \n",
      "CompletedProcess(args='gdalwarp SETSM_s2s041_WV01_20141111_10200100372DFA00_1020010034C59500_2m_lsf_s_MOSAIC.tif -t_srs EPSG:3338 SETSM_s2s041_WV01_20141111_10200100372DFA00_1020010034C59500_2m_lsf_s_MOSAIC_reprojected.tif', returncode=0, stdout=b'Creating output file that is 28703P x 54743L.\\nProcessing SETSM_s2s041_WV01_20141111_10200100372DFA00_1020010034C59500_2m_lsf_s_MOSAIC.tif [1/1] : 0...10...20...30...40...50...60...70...80...90...100 - done.\\n', stderr=b'')\n"
     ]
    },
    {
     "name": "stderr",
     "output_type": "stream",
     "text": [
      " 21%|█████████▏                                 | 15/70 [06:08<47:38, 51.98s/it]"
     ]
    },
    {
     "name": "stdout",
     "output_type": "stream",
     "text": [
      "Removed original file\n",
      " \n"
     ]
    },
    {
     "name": "stderr",
     "output_type": "stream",
     "text": [
      " 23%|█████████▊                                 | 16/70 [06:39<40:55, 45.47s/it]"
     ]
    },
    {
     "name": "stdout",
     "output_type": "stream",
     "text": [
      "CompletedProcess(args='gdalwarp SETSM_s2s041_WV01_20141120_10200100394F6300_1020010036C03A00_2m_lsf_s_MOSAIC.tif -t_srs EPSG:3338 SETSM_s2s041_WV01_20141120_10200100394F6300_1020010036C03A00_2m_lsf_s_MOSAIC_reprojected.tif', returncode=0, stdout=b'Creating output file that is 23414P x 41336L.\\nProcessing SETSM_s2s041_WV01_20141120_10200100394F6300_1020010036C03A00_2m_lsf_s_MOSAIC.tif [1/1] : 0...10...20...30...40...50...60...70...80...90...100 - done.\\n', stderr=b'')\n",
      "Removed original file\n",
      " \n",
      "CompletedProcess(args='gdalwarp SETSM_s2s041_WV01_20151031_102001004377FC00_1020010043745200_2m_lsf_s_MOSAIC.tif -t_srs EPSG:3338 SETSM_s2s041_WV01_20151031_102001004377FC00_1020010043745200_2m_lsf_s_MOSAIC_reprojected.tif', returncode=0, stdout=b'Creating output file that is 33579P x 61304L.\\nProcessing SETSM_s2s041_WV01_20151031_102001004377FC00_1020010043745200_2m_lsf_s_MOSAIC.tif [1/1] : 0...10...20...30...40...50...60...70...80...90...100 - done.\\n', stderr=b'')\n"
     ]
    },
    {
     "name": "stderr",
     "output_type": "stream",
     "text": [
      " 24%|██████████▍                                | 17/70 [08:04<50:44, 57.44s/it]"
     ]
    },
    {
     "name": "stdout",
     "output_type": "stream",
     "text": [
      "Removed original file\n",
      " \n"
     ]
    },
    {
     "name": "stderr",
     "output_type": "stream",
     "text": [
      " 26%|███████████                                | 18/70 [08:13<37:03, 42.76s/it]"
     ]
    },
    {
     "name": "stdout",
     "output_type": "stream",
     "text": [
      "CompletedProcess(args='gdalwarp SETSM_s2s041_WV01_20160322_1020010049130400_102001004DC47E00_2m_lsf_s_MOSAIC.tif -t_srs EPSG:3338 SETSM_s2s041_WV01_20160322_1020010049130400_102001004DC47E00_2m_lsf_s_MOSAIC_reprojected.tif', returncode=0, stdout=b'Creating output file that is 15506P x 19019L.\\nProcessing SETSM_s2s041_WV01_20160322_1020010049130400_102001004DC47E00_2m_lsf_s_MOSAIC.tif [1/1] : 0...10...20...30...40...50...60...70...80...90...100 - done.\\n', stderr=b'')\n",
      "Removed original file\n",
      " \n"
     ]
    },
    {
     "name": "stderr",
     "output_type": "stream",
     "text": [
      " 27%|███████████▋                               | 19/70 [08:44<33:33, 39.48s/it]"
     ]
    },
    {
     "name": "stdout",
     "output_type": "stream",
     "text": [
      "CompletedProcess(args='gdalwarp SETSM_s2s041_WV01_20161121_10200100594E5400_1020010058A53400_2m_lsf_s_MOSAIC.tif -t_srs EPSG:3338 SETSM_s2s041_WV01_20161121_10200100594E5400_1020010058A53400_2m_lsf_s_MOSAIC_reprojected.tif', returncode=0, stdout=b'Creating output file that is 24313P x 41790L.\\nProcessing SETSM_s2s041_WV01_20161121_10200100594E5400_1020010058A53400_2m_lsf_s_MOSAIC.tif [1/1] : 0...10...20...30...40...50...60...70...80...90...100 - done.\\n', stderr=b'')\n",
      "Removed original file\n",
      " \n",
      "CompletedProcess(args='gdalwarp SETSM_s2s041_WV01_20170129_102001005AC44C00_102001005A7B9E00_2m_lsf_s_MOSAIC.tif -t_srs EPSG:3338 SETSM_s2s041_WV01_20170129_102001005AC44C00_102001005A7B9E00_2m_lsf_s_MOSAIC_reprojected.tif', returncode=0, stdout=b'Creating output file that is 32533P x 62957L.\\nProcessing SETSM_s2s041_WV01_20170129_102001005AC44C00_102001005A7B9E00_2m_lsf_s_MOSAIC.tif [1/1] : 0...10...20...30...40...50...60...70...80...90...100 - done.\\n', stderr=b'')\n"
     ]
    },
    {
     "name": "stderr",
     "output_type": "stream",
     "text": [
      " 29%|████████████▎                              | 20/70 [10:28<48:55, 58.72s/it]"
     ]
    },
    {
     "name": "stdout",
     "output_type": "stream",
     "text": [
      "Removed original file\n",
      " \n",
      "CompletedProcess(args='gdalwarp SETSM_s2s041_WV01_20170510_1020010061778700_1020010062B75D00_2m_lsf_s_MOSAIC.tif -t_srs EPSG:3338 SETSM_s2s041_WV01_20170510_1020010061778700_1020010062B75D00_2m_lsf_s_MOSAIC_reprojected.tif', returncode=0, stdout=b'Creating output file that is 23265P x 39925L.\\nProcessing SETSM_s2s041_WV01_20170510_1020010061778700_1020010062B75D00_2m_lsf_s_MOSAIC.tif [1/1] : 0...10...20...30...40...50...60...70...80...90...100 - done.\\n', stderr=b'')\n"
     ]
    },
    {
     "name": "stderr",
     "output_type": "stream",
     "text": [
      " 30%|████████████▉                              | 21/70 [10:58<40:51, 50.02s/it]"
     ]
    },
    {
     "name": "stdout",
     "output_type": "stream",
     "text": [
      "Removed original file\n",
      " \n",
      "CompletedProcess(args='gdalwarp SETSM_s2s041_WV01_20180130_102001006D557A00_102001006F299F00_2m_lsf_s_MOSAIC.tif -t_srs EPSG:3338 SETSM_s2s041_WV01_20180130_102001006D557A00_102001006F299F00_2m_lsf_s_MOSAIC_reprojected.tif', returncode=0, stdout=b'Creating output file that is 27810P x 50075L.\\nProcessing SETSM_s2s041_WV01_20180130_102001006D557A00_102001006F299F00_2m_lsf_s_MOSAIC.tif [1/1] : 0...10...20...30...40...50...60...70...80...90...100 - done.\\n', stderr=b'')\n"
     ]
    },
    {
     "name": "stderr",
     "output_type": "stream",
     "text": [
      " 31%|█████████████▌                             | 22/70 [11:40<38:09, 47.70s/it]"
     ]
    },
    {
     "name": "stdout",
     "output_type": "stream",
     "text": [
      "Removed original file\n",
      " \n"
     ]
    },
    {
     "name": "stderr",
     "output_type": "stream",
     "text": [
      " 33%|██████████████▏                            | 23/70 [12:00<30:55, 39.48s/it]"
     ]
    },
    {
     "name": "stdout",
     "output_type": "stream",
     "text": [
      "CompletedProcess(args='gdalwarp SETSM_s2s041_WV01_20180507_1020010076852C00_1020010070E29800_2m_lsf_s_MOSAIC.tif -t_srs EPSG:3338 SETSM_s2s041_WV01_20180507_1020010076852C00_1020010070E29800_2m_lsf_s_MOSAIC_reprojected.tif', returncode=0, stdout=b'Creating output file that is 19925P x 31720L.\\nProcessing SETSM_s2s041_WV01_20180507_1020010076852C00_1020010070E29800_2m_lsf_s_MOSAIC.tif [1/1] : 0...10...20...30...40...50...60...70...80...90...100 - done.\\n', stderr=b'')\n",
      "Removed original file\n",
      " \n",
      "CompletedProcess(args='gdalwarp SETSM_s2s041_WV01_20190105_102001007CA91B00_102001007E46E700_2m_lsf_s_MOSAIC.tif -t_srs EPSG:3338 SETSM_s2s041_WV01_20190105_102001007CA91B00_102001007E46E700_2m_lsf_s_MOSAIC_reprojected.tif', returncode=0, stdout=b'Creating output file that is 23936P x 41566L.\\nProcessing SETSM_s2s041_WV01_20190105_102001007CA91B00_102001007E46E700_2m_lsf_s_MOSAIC.tif [1/1] : 0...10...20...30...40...50...60...70...80...90...100 - done.\\n', stderr=b'')\n"
     ]
    },
    {
     "name": "stderr",
     "output_type": "stream",
     "text": [
      " 34%|██████████████▋                            | 24/70 [12:33<28:46, 37.54s/it]"
     ]
    },
    {
     "name": "stdout",
     "output_type": "stream",
     "text": [
      "Removed original file\n",
      " \n",
      "CompletedProcess(args='gdalwarp SETSM_s2s041_WV01_20190620_1020010086A08700_102001008AC05E00_2m_lsf_s_MOSAIC.tif -t_srs EPSG:3338 SETSM_s2s041_WV01_20190620_1020010086A08700_102001008AC05E00_2m_lsf_s_MOSAIC_reprojected.tif', returncode=0, stdout=b'Creating output file that is 31120P x 61656L.\\nProcessing SETSM_s2s041_WV01_20190620_1020010086A08700_102001008AC05E00_2m_lsf_s_MOSAIC.tif [1/1] : 0...10...20...30...40...50...60...70...80...90...100 - done.\\n', stderr=b'')\n"
     ]
    },
    {
     "name": "stderr",
     "output_type": "stream",
     "text": [
      " 36%|███████████████▎                           | 25/70 [13:50<37:03, 49.42s/it]"
     ]
    },
    {
     "name": "stdout",
     "output_type": "stream",
     "text": [
      "Removed original file\n",
      " \n",
      "CompletedProcess(args='gdalwarp SETSM_s2s041_WV01_20200527_1020010098883700_102001009482A900_2m_lsf_s_MOSAIC.tif -t_srs EPSG:3338 SETSM_s2s041_WV01_20200527_1020010098883700_102001009482A900_2m_lsf_s_MOSAIC_reprojected.tif', returncode=0, stdout=b'Creating output file that is 27326P x 48941L.\\nProcessing SETSM_s2s041_WV01_20200527_1020010098883700_102001009482A900_2m_lsf_s_MOSAIC.tif [1/1] : 0...10...20...30...40...50...60...70...80...90...100 - done.\\n', stderr=b'')\n"
     ]
    },
    {
     "name": "stderr",
     "output_type": "stream",
     "text": [
      " 37%|███████████████▉                           | 26/70 [14:34<35:02, 47.78s/it]"
     ]
    },
    {
     "name": "stdout",
     "output_type": "stream",
     "text": [
      "Removed original file\n",
      " \n"
     ]
    },
    {
     "name": "stderr",
     "output_type": "stream",
     "text": [
      " 39%|████████████████▌                          | 27/70 [14:39<24:52, 34.70s/it]"
     ]
    },
    {
     "name": "stdout",
     "output_type": "stream",
     "text": [
      "CompletedProcess(args='gdalwarp SETSM_s2s041_WV01_20200530_102001009930A000_10200100947C3200_2m_lsf_s_MOSAIC.tif -t_srs EPSG:3338 SETSM_s2s041_WV01_20200530_102001009930A000_10200100947C3200_2m_lsf_s_MOSAIC_reprojected.tif', returncode=0, stdout=b'Creating output file that is 11628P x 9019L.\\nProcessing SETSM_s2s041_WV01_20200530_102001009930A000_10200100947C3200_2m_lsf_s_MOSAIC.tif [1/1] : 0...10...20...30...40...50...60...70...80...90...100 - done.\\n', stderr=b'')\n",
      "Removed original file\n",
      " \n"
     ]
    },
    {
     "name": "stderr",
     "output_type": "stream",
     "text": [
      " 40%|█████████████████▏                         | 28/70 [14:51<19:32, 27.92s/it]"
     ]
    },
    {
     "name": "stdout",
     "output_type": "stream",
     "text": [
      "CompletedProcess(args='gdalwarp SETSM_s2s041_WV01_20200604_1020010099914B00_1020010094A09C00_2m_lsf_s_MOSAIC.tif -t_srs EPSG:3338 SETSM_s2s041_WV01_20200604_1020010099914B00_1020010094A09C00_2m_lsf_s_MOSAIC_reprojected.tif', returncode=0, stdout=b'Creating output file that is 16835P x 23680L.\\nProcessing SETSM_s2s041_WV01_20200604_1020010099914B00_1020010094A09C00_2m_lsf_s_MOSAIC.tif [1/1] : 0...10...20...30...40...50...60...70...80...90...100 - done.\\n', stderr=b'')\n",
      "Removed original file\n",
      " \n",
      "CompletedProcess(args='gdalwarp SETSM_s2s041_WV01_20200905_102001009C457300_102001009C91C300_2m_lsf_s_MOSAIC.tif -t_srs EPSG:3338 SETSM_s2s041_WV01_20200905_102001009C457300_102001009C91C300_2m_lsf_s_MOSAIC_reprojected.tif', returncode=0, stdout=b'Creating output file that is 30672P x 61336L.\\nProcessing SETSM_s2s041_WV01_20200905_102001009C457300_102001009C91C300_2m_lsf_s_MOSAIC.tif [1/1] : 0...10...20...30...40...50...60...70...80...90...100 - done.\\n', stderr=b'')\n"
     ]
    },
    {
     "name": "stderr",
     "output_type": "stream",
     "text": [
      " 41%|█████████████████▊                         | 29/70 [16:03<28:10, 41.23s/it]"
     ]
    },
    {
     "name": "stdout",
     "output_type": "stream",
     "text": [
      "Removed original file\n",
      " \n"
     ]
    },
    {
     "name": "stderr",
     "output_type": "stream",
     "text": [
      " 43%|██████████████████▍                        | 30/70 [16:16<21:47, 32.70s/it]"
     ]
    },
    {
     "name": "stdout",
     "output_type": "stream",
     "text": [
      "CompletedProcess(args='gdalwarp SETSM_s2s041_WV01_20210223_10200100A14A8200_10200100A4011000_2m_lsf_s_MOSAIC.tif -t_srs EPSG:3338 SETSM_s2s041_WV01_20210223_10200100A14A8200_10200100A4011000_2m_lsf_s_MOSAIC_reprojected.tif', returncode=0, stdout=b'Creating output file that is 16984P x 24138L.\\nProcessing SETSM_s2s041_WV01_20210223_10200100A14A8200_10200100A4011000_2m_lsf_s_MOSAIC.tif [1/1] : 0...10...20...30...40...50...60...70...80...90...100 - done.\\n', stderr=b'')\n",
      "Removed original file\n",
      " \n"
     ]
    },
    {
     "name": "stderr",
     "output_type": "stream",
     "text": [
      " 44%|███████████████████                        | 31/70 [16:22<16:03, 24.71s/it]"
     ]
    },
    {
     "name": "stdout",
     "output_type": "stream",
     "text": [
      "CompletedProcess(args='gdalwarp SETSM_s2s041_WV01_20220429_10200100C263E600_10200100C4AD4800_2m_lsf_s_MOSAIC.tif -t_srs EPSG:3338 SETSM_s2s041_WV01_20220429_10200100C263E600_10200100C4AD4800_2m_lsf_s_MOSAIC_reprojected.tif', returncode=0, stdout=b'Creating output file that is 12643P x 12631L.\\nProcessing SETSM_s2s041_WV01_20220429_10200100C263E600_10200100C4AD4800_2m_lsf_s_MOSAIC.tif [1/1] : 0...10...20...30...40...50...60...70...80...90...100 - done.\\n', stderr=b'')\n",
      "Removed original file\n",
      " \n",
      "CompletedProcess(args='gdalwarp SETSM_s2s041_WV02_20130616_103001002334AF00_1030010023C24C00_2m_lsf_s_dem_MOSAIC.tif -t_srs EPSG:3338 SETSM_s2s041_WV02_20130616_103001002334AF00_1030010023C24C00_2m_lsf_s_dem_MOSAIC_reprojected.tif', returncode=0, stdout=b'Creating output file that is 26267P x 50554L.\\nProcessing SETSM_s2s041_WV02_20130616_103001002334AF00_1030010023C24C00_2m_lsf_s_dem_MOSAIC.tif [1/1] : 0...10...20...30...40...50...60...70...80...90...100 - done.\\n', stderr=b'')\n"
     ]
    },
    {
     "name": "stderr",
     "output_type": "stream",
     "text": [
      " 46%|███████████████████▋                       | 32/70 [17:04<19:00, 30.02s/it]"
     ]
    },
    {
     "name": "stdout",
     "output_type": "stream",
     "text": [
      "Removed original file\n",
      " \n"
     ]
    },
    {
     "name": "stderr",
     "output_type": "stream",
     "text": [
      " 47%|████████████████████▎                      | 33/70 [17:11<14:15, 23.13s/it]"
     ]
    },
    {
     "name": "stdout",
     "output_type": "stream",
     "text": [
      "CompletedProcess(args='gdalwarp SETSM_s2s041_WV02_20140307_103001002E95A300_103001002D0FF600_2m_lsf_s_MOSAIC.tif -t_srs EPSG:3338 SETSM_s2s041_WV02_20140307_103001002E95A300_103001002D0FF600_2m_lsf_s_MOSAIC_reprojected.tif', returncode=0, stdout=b'Creating output file that is 13200P x 15907L.\\nProcessing SETSM_s2s041_WV02_20140307_103001002E95A300_103001002D0FF600_2m_lsf_s_MOSAIC.tif [1/1] : 0...10...20...30...40...50...60...70...80...90...100 - done.\\n', stderr=b'')\n",
      "Removed original file\n",
      " \n"
     ]
    },
    {
     "name": "stderr",
     "output_type": "stream",
     "text": [
      " 49%|████████████████████▉                      | 34/70 [17:18<11:00, 18.34s/it]"
     ]
    },
    {
     "name": "stdout",
     "output_type": "stream",
     "text": [
      "CompletedProcess(args='gdalwarp SETSM_s2s041_WV02_20141114_103001003A8A7500_103001003A87F600_2m_lsf_s_MOSAIC.tif -t_srs EPSG:3338 SETSM_s2s041_WV02_20141114_103001003A8A7500_103001003A87F600_2m_lsf_s_MOSAIC_reprojected.tif', returncode=0, stdout=b'Creating output file that is 13397P x 16433L.\\nProcessing SETSM_s2s041_WV02_20141114_103001003A8A7500_103001003A87F600_2m_lsf_s_MOSAIC.tif [1/1] : 0...10...20...30...40...50...60...70...80...90...100 - done.\\n', stderr=b'')\n",
      "Removed original file\n",
      " \n"
     ]
    },
    {
     "name": "stderr",
     "output_type": "stream",
     "text": [
      " 50%|█████████████████████▌                     | 35/70 [17:25<08:38, 14.82s/it]"
     ]
    },
    {
     "name": "stdout",
     "output_type": "stream",
     "text": [
      "CompletedProcess(args='gdalwarp SETSM_s2s041_WV02_20150829_10300100490B2500_1030010048510200_2m_lsf_s_MOSAIC.tif -t_srs EPSG:3338 SETSM_s2s041_WV02_20150829_10300100490B2500_1030010048510200_2m_lsf_s_MOSAIC_reprojected.tif', returncode=0, stdout=b'Creating output file that is 13077P x 15443L.\\nProcessing SETSM_s2s041_WV02_20150829_10300100490B2500_1030010048510200_2m_lsf_s_MOSAIC.tif [1/1] : 0...10...20...30...40...50...60...70...80...90...100 - done.\\n', stderr=b'')\n",
      "Removed original file\n",
      " \n"
     ]
    },
    {
     "name": "stderr",
     "output_type": "stream",
     "text": [
      " 51%|██████████████████████                     | 36/70 [17:33<07:09, 12.64s/it]"
     ]
    },
    {
     "name": "stdout",
     "output_type": "stream",
     "text": [
      "CompletedProcess(args='gdalwarp SETSM_s2s041_WV02_20160510_1030010055A18F00_1030010056ABB300_2m_lsf_s_MOSAIC.tif -t_srs EPSG:3338 SETSM_s2s041_WV02_20160510_1030010055A18F00_1030010056ABB300_2m_lsf_s_MOSAIC_reprojected.tif', returncode=0, stdout=b'Creating output file that is 14114P x 17386L.\\nProcessing SETSM_s2s041_WV02_20160510_1030010055A18F00_1030010056ABB300_2m_lsf_s_MOSAIC.tif [1/1] : 0...10...20...30...40...50...60...70...80...90...100 - done.\\n', stderr=b'')\n",
      "Removed original file\n",
      " \n",
      "CompletedProcess(args='gdalwarp SETSM_s2s041_WV02_20160717_10300100589A4200_103001005A6FF900_2m_lsf_s_MOSAIC.tif -t_srs EPSG:3338 SETSM_s2s041_WV02_20160717_10300100589A4200_103001005A6FF900_2m_lsf_s_MOSAIC_reprojected.tif', returncode=0, stdout=b'Creating output file that is 26268P x 46441L.\\nProcessing SETSM_s2s041_WV02_20160717_10300100589A4200_103001005A6FF900_2m_lsf_s_MOSAIC.tif [1/1] : 0...10...20...30...40...50...60...70...80...90...100 - done.\\n', stderr=b'')\n"
     ]
    },
    {
     "name": "stderr",
     "output_type": "stream",
     "text": [
      " 53%|██████████████████████▋                    | 37/70 [18:08<10:38, 19.34s/it]"
     ]
    },
    {
     "name": "stdout",
     "output_type": "stream",
     "text": [
      "Removed original file\n",
      " \n"
     ]
    },
    {
     "name": "stderr",
     "output_type": "stream",
     "text": [
      " 54%|███████████████████████▎                   | 38/70 [18:11<07:47, 14.62s/it]"
     ]
    },
    {
     "name": "stdout",
     "output_type": "stream",
     "text": [
      "CompletedProcess(args='gdalwarp SETSM_s2s041_WV02_20160917_103001005D2EE900_103001005CCC2000_2m_lsf_s_MOSAIC.tif -t_srs EPSG:3338 SETSM_s2s041_WV02_20160917_103001005D2EE900_103001005CCC2000_2m_lsf_s_MOSAIC_reprojected.tif', returncode=0, stdout=b'Creating output file that is 10628P x 10084L.\\nProcessing SETSM_s2s041_WV02_20160917_103001005D2EE900_103001005CCC2000_2m_lsf_s_MOSAIC.tif [1/1] : 0...10...20...30...40...50...60...70...80...90...100 - done.\\n', stderr=b'')\n",
      "Removed original file\n",
      " \n"
     ]
    },
    {
     "name": "stderr",
     "output_type": "stream",
     "text": [
      " 56%|███████████████████████▉                   | 39/70 [18:18<06:19, 12.26s/it]"
     ]
    },
    {
     "name": "stdout",
     "output_type": "stream",
     "text": [
      "CompletedProcess(args='gdalwarp SETSM_s2s041_WV02_20161231_1030010061AA0200_1030010062BDAC00_2m_lsf_s_MOSAIC.tif -t_srs EPSG:3338 SETSM_s2s041_WV02_20161231_1030010061AA0200_1030010062BDAC00_2m_lsf_s_MOSAIC_reprojected.tif', returncode=0, stdout=b'Creating output file that is 13711P x 16801L.\\nProcessing SETSM_s2s041_WV02_20161231_1030010061AA0200_1030010062BDAC00_2m_lsf_s_MOSAIC.tif [1/1] : 0...10...20...30...40...50...60...70...80...90...100 - done.\\n', stderr=b'')\n",
      "Removed original file\n",
      " \n"
     ]
    },
    {
     "name": "stderr",
     "output_type": "stream",
     "text": [
      " 57%|████████████████████████▌                  | 40/70 [18:43<08:07, 16.25s/it]"
     ]
    },
    {
     "name": "stdout",
     "output_type": "stream",
     "text": [
      "CompletedProcess(args='gdalwarp SETSM_s2s041_WV02_20170117_10300100623EAD00_10300100631EBF00_2m_lsf_s_MOSAIC.tif -t_srs EPSG:3338 SETSM_s2s041_WV02_20170117_10300100623EAD00_10300100631EBF00_2m_lsf_s_MOSAIC_reprojected.tif', returncode=0, stdout=b'Creating output file that is 22567P x 38869L.\\nProcessing SETSM_s2s041_WV02_20170117_10300100623EAD00_10300100631EBF00_2m_lsf_s_MOSAIC.tif [1/1] : 0...10...20...30...40...50...60...70...80...90...100 - done.\\n', stderr=b'')\n",
      "Removed original file\n",
      " \n",
      "CompletedProcess(args='gdalwarp SETSM_s2s041_WV02_20180117_1030010077C91E00_1030010076B55900_2m_lsf_s_MOSAIC.tif -t_srs EPSG:3338 SETSM_s2s041_WV02_20180117_1030010077C91E00_1030010076B55900_2m_lsf_s_MOSAIC_reprojected.tif', returncode=0, stdout=b'Creating output file that is 30896P x 62453L.\\nProcessing SETSM_s2s041_WV02_20180117_1030010077C91E00_1030010076B55900_2m_lsf_s_MOSAIC.tif [1/1] : 0...10...20...30...40...50...60...70...80...90...100 - done.\\n', stderr=b'')\n"
     ]
    },
    {
     "name": "stderr",
     "output_type": "stream",
     "text": [
      " 59%|█████████████████████████▏                 | 41/70 [19:49<15:01, 31.10s/it]"
     ]
    },
    {
     "name": "stdout",
     "output_type": "stream",
     "text": [
      "Removed original file\n",
      " \n",
      "CompletedProcess(args='gdalwarp SETSM_s2s041_WV02_20180128_10300100787DDE00_10300100771E5C00_2m_lsf_s_MOSAIC.tif -t_srs EPSG:3338 SETSM_s2s041_WV02_20180128_10300100787DDE00_10300100771E5C00_2m_lsf_s_MOSAIC_reprojected.tif', returncode=0, stdout=b'Creating output file that is 31185P x 63055L.\\nProcessing SETSM_s2s041_WV02_20180128_10300100787DDE00_10300100771E5C00_2m_lsf_s_MOSAIC.tif [1/1] : 0...10...20...30...40...50...60...70...80...90...100 - done.\\n', stderr=b'')\n"
     ]
    },
    {
     "name": "stderr",
     "output_type": "stream",
     "text": [
      " 60%|█████████████████████████▊                 | 42/70 [21:00<20:07, 43.11s/it]"
     ]
    },
    {
     "name": "stdout",
     "output_type": "stream",
     "text": [
      "Removed original file\n",
      " \n",
      "CompletedProcess(args='gdalwarp SETSM_s2s041_WV02_20181123_1030010089AC2700_1030010084B4DB00_2m_lsf_s_MOSAIC.tif -t_srs EPSG:3338 SETSM_s2s041_WV02_20181123_1030010089AC2700_1030010084B4DB00_2m_lsf_s_MOSAIC_reprojected.tif', returncode=0, stdout=b'Creating output file that is 31548P x 63058L.\\nProcessing SETSM_s2s041_WV02_20181123_1030010089AC2700_1030010084B4DB00_2m_lsf_s_MOSAIC.tif [1/1] : 0...10...20...30...40...50...60...70...80...90...100 - done.\\n', stderr=b'')\n"
     ]
    },
    {
     "name": "stderr",
     "output_type": "stream",
     "text": [
      " 61%|██████████████████████████▍                | 43/70 [22:20<24:23, 54.20s/it]"
     ]
    },
    {
     "name": "stdout",
     "output_type": "stream",
     "text": [
      "Removed original file\n",
      " \n"
     ]
    },
    {
     "name": "stderr",
     "output_type": "stream",
     "text": [
      " 63%|███████████████████████████                | 44/70 [22:54<20:45, 47.92s/it]"
     ]
    },
    {
     "name": "stdout",
     "output_type": "stream",
     "text": [
      "CompletedProcess(args='gdalwarp SETSM_s2s041_WV02_20190117_103001008B2F3500_103001008D66FD00_2m_lsf_s_MOSAIC.tif -t_srs EPSG:3338 SETSM_s2s041_WV02_20190117_103001008B2F3500_103001008D66FD00_2m_lsf_s_MOSAIC_reprojected.tif', returncode=0, stdout=b'Creating output file that is 24180P x 45630L.\\nProcessing SETSM_s2s041_WV02_20190117_103001008B2F3500_103001008D66FD00_2m_lsf_s_MOSAIC.tif [1/1] : 0...10...20...30...40...50...60...70...80...90...100 - done.\\n', stderr=b'')\n",
      "Removed original file\n",
      " \n"
     ]
    },
    {
     "name": "stderr",
     "output_type": "stream",
     "text": [
      " 64%|███████████████████████████▋               | 45/70 [23:05<15:23, 36.94s/it]"
     ]
    },
    {
     "name": "stdout",
     "output_type": "stream",
     "text": [
      "CompletedProcess(args='gdalwarp SETSM_s2s041_WV02_20190503_1030010092080600_1030010090BBE200_2m_lsf_s_MOSAIC.tif -t_srs EPSG:3338 SETSM_s2s041_WV02_20190503_1030010092080600_1030010090BBE200_2m_lsf_s_MOSAIC_reprojected.tif', returncode=0, stdout=b'Creating output file that is 16644P x 24655L.\\nProcessing SETSM_s2s041_WV02_20190503_1030010092080600_1030010090BBE200_2m_lsf_s_MOSAIC.tif [1/1] : 0...10...20...30...40...50...60...70...80...90...100 - done.\\n', stderr=b'')\n",
      "Removed original file\n",
      " \n"
     ]
    },
    {
     "name": "stderr",
     "output_type": "stream",
     "text": [
      " 66%|████████████████████████████▎              | 46/70 [23:28<13:03, 32.66s/it]"
     ]
    },
    {
     "name": "stdout",
     "output_type": "stream",
     "text": [
      "CompletedProcess(args='gdalwarp SETSM_s2s041_WV02_20190905_10300100996D9E00_1030010098702F00_2m_lsf_s_MOSAIC.tif -t_srs EPSG:3338 SETSM_s2s041_WV02_20190905_10300100996D9E00_1030010098702F00_2m_lsf_s_MOSAIC_reprojected.tif', returncode=0, stdout=b'Creating output file that is 20868P x 35292L.\\nProcessing SETSM_s2s041_WV02_20190905_10300100996D9E00_1030010098702F00_2m_lsf_s_MOSAIC.tif [1/1] : 0...10...20...30...40...50...60...70...80...90...100 - done.\\n', stderr=b'')\n",
      "Removed original file\n",
      " \n",
      "CompletedProcess(args='gdalwarp SETSM_s2s041_WV02_20201118_10300100AD12DE00_10300100AF6EF800_2m_lsf_s_MOSAIC.tif -t_srs EPSG:3338 SETSM_s2s041_WV02_20201118_10300100AD12DE00_10300100AF6EF800_2m_lsf_s_MOSAIC_reprojected.tif', returncode=0, stdout=b'Creating output file that is 29787P x 60367L.\\nProcessing SETSM_s2s041_WV02_20201118_10300100AD12DE00_10300100AF6EF800_2m_lsf_s_MOSAIC.tif [1/1] : 0...10...20...30...40...50...60...70...80...90...100 - done.\\n', stderr=b'')\n"
     ]
    },
    {
     "name": "stderr",
     "output_type": "stream",
     "text": [
      " 67%|████████████████████████████▊              | 47/70 [24:24<15:12, 39.69s/it]"
     ]
    },
    {
     "name": "stdout",
     "output_type": "stream",
     "text": [
      "Removed original file\n",
      " \n",
      "CompletedProcess(args='gdalwarp SETSM_s2s041_WV02_20210215_10300100B5439700_10300100B692CF00_2m_lsf_s_MOSAIC.tif -t_srs EPSG:3338 SETSM_s2s041_WV02_20210215_10300100B5439700_10300100B692CF00_2m_lsf_s_MOSAIC_reprojected.tif', returncode=0, stdout=b'Creating output file that is 31368P x 63043L.\\nProcessing SETSM_s2s041_WV02_20210215_10300100B5439700_10300100B692CF00_2m_lsf_s_MOSAIC.tif [1/1] : 0...10...20...30...40...50...60...70...80...90...100 - done.\\n', stderr=b'')\n"
     ]
    },
    {
     "name": "stderr",
     "output_type": "stream",
     "text": [
      " 69%|█████████████████████████████▍             | 48/70 [25:26<17:04, 46.55s/it]"
     ]
    },
    {
     "name": "stdout",
     "output_type": "stream",
     "text": [
      "Removed original file\n",
      " \n"
     ]
    },
    {
     "name": "stderr",
     "output_type": "stream",
     "text": [
      " 70%|██████████████████████████████             | 49/70 [25:31<11:50, 33.84s/it]"
     ]
    },
    {
     "name": "stdout",
     "output_type": "stream",
     "text": [
      "CompletedProcess(args='gdalwarp SETSM_s2s041_WV02_20220603_10300100D1598200_10300100D3B79800_2m_lsf_s_MOSAIC.tif -t_srs EPSG:3338 SETSM_s2s041_WV02_20220603_10300100D1598200_10300100D3B79800_2m_lsf_s_MOSAIC_reprojected.tif', returncode=0, stdout=b'Creating output file that is 11364P x 11457L.\\nProcessing SETSM_s2s041_WV02_20220603_10300100D1598200_10300100D3B79800_2m_lsf_s_MOSAIC.tif [1/1] : 0...10...20...30...40...50...60...70...80...90...100 - done.\\n', stderr=b'')\n",
      "Removed original file\n",
      " \n"
     ]
    },
    {
     "name": "stderr",
     "output_type": "stream",
     "text": [
      " 71%|██████████████████████████████▋            | 50/70 [25:36<08:27, 25.36s/it]"
     ]
    },
    {
     "name": "stdout",
     "output_type": "stream",
     "text": [
      "CompletedProcess(args='gdalwarp SETSM_s2s041_WV03_20181011_1040010044252E00_10400100436E6900_2m_lsf_s_MOSAIC.tif -t_srs EPSG:3338 SETSM_s2s041_WV03_20181011_1040010044252E00_10400100436E6900_2m_lsf_s_MOSAIC_reprojected.tif', returncode=0, stdout=b'Creating output file that is 11821P x 16061L.\\nProcessing SETSM_s2s041_WV03_20181011_1040010044252E00_10400100436E6900_2m_lsf_s_MOSAIC.tif [1/1] : 0...10...20...30...40...50...60...70...80...90...100 - done.\\n', stderr=b'')\n",
      "Removed original file\n",
      " \n"
     ]
    },
    {
     "name": "stderr",
     "output_type": "stream",
     "text": [
      " 73%|███████████████████████████████▎           | 51/70 [25:42<06:08, 19.41s/it]"
     ]
    },
    {
     "name": "stdout",
     "output_type": "stream",
     "text": [
      "CompletedProcess(args='gdalwarp SETSM_s2s041_WV03_20181130_1040010043967300_104001004483F000_2m_lsf_s_MOSAIC.tif -t_srs EPSG:3338 SETSM_s2s041_WV03_20181130_1040010043967300_104001004483F000_2m_lsf_s_MOSAIC_reprojected.tif', returncode=0, stdout=b'Creating output file that is 11845P x 15845L.\\nProcessing SETSM_s2s041_WV03_20181130_1040010043967300_104001004483F000_2m_lsf_s_MOSAIC.tif [1/1] : 0...10...20...30...40...50...60...70...80...90...100 - done.\\n', stderr=b'')\n",
      "Removed original file\n",
      " \n"
     ]
    },
    {
     "name": "stderr",
     "output_type": "stream",
     "text": [
      " 74%|███████████████████████████████▉           | 52/70 [25:53<05:05, 16.97s/it]"
     ]
    },
    {
     "name": "stdout",
     "output_type": "stream",
     "text": [
      "CompletedProcess(args='gdalwarp SETSM_s2s041_WV03_20200504_104001005A90CD00_104001005BA5D000_2m_lsf_s_MOSAIC.tif -t_srs EPSG:3338 SETSM_s2s041_WV03_20200504_104001005A90CD00_104001005BA5D000_2m_lsf_s_MOSAIC_reprojected.tif', returncode=0, stdout=b'Creating output file that is 17390P x 28785L.\\nProcessing SETSM_s2s041_WV03_20200504_104001005A90CD00_104001005BA5D000_2m_lsf_s_MOSAIC.tif [1/1] : 0...10...20...30...40...50...60...70...80...90...100 - done.\\n', stderr=b'')\n",
      "Removed original file\n",
      " \n",
      "CompletedProcess(args='gdalwarp SETSM_s2s041_WV03_20210208_1040010064659900_1040010065271300_2m_s_MOSAIC.tif -t_srs EPSG:3338 SETSM_s2s041_WV03_20210208_1040010064659900_1040010065271300_2m_s_MOSAIC_reprojected.tif', returncode=0, stdout=b'Creating output file that is 27932P x 59553L.\\nProcessing SETSM_s2s041_WV03_20210208_1040010064659900_1040010065271300_2m_s_MOSAIC.tif [1/1] : 0...10...20...30...40...50...60...70...80...90...100 - done.\\n', stderr=b'')\n"
     ]
    },
    {
     "name": "stderr",
     "output_type": "stream",
     "text": [
      " 76%|████████████████████████████████▌          | 53/70 [26:41<07:29, 26.42s/it]"
     ]
    },
    {
     "name": "stdout",
     "output_type": "stream",
     "text": [
      "Removed original file\n",
      " \n"
     ]
    },
    {
     "name": "stderr",
     "output_type": "stream",
     "text": [
      " 77%|█████████████████████████████████▏         | 54/70 [26:46<05:17, 19.82s/it]"
     ]
    },
    {
     "name": "stdout",
     "output_type": "stream",
     "text": [
      "CompletedProcess(args='gdalwarp SETSM_s2s041_WV03_20210717_104001006B816400_104001006C97D700_2m_lsf_s_MOSAIC.tif -t_srs EPSG:3338 SETSM_s2s041_WV03_20210717_104001006B816400_104001006C97D700_2m_lsf_s_MOSAIC_reprojected.tif', returncode=0, stdout=b'Creating output file that is 10319P x 11615L.\\nProcessing SETSM_s2s041_WV03_20210717_104001006B816400_104001006C97D700_2m_lsf_s_MOSAIC.tif [1/1] : 0...10...20...30...40...50...60...70...80...90...100 - done.\\n', stderr=b'')\n",
      "Removed original file\n",
      " \n"
     ]
    },
    {
     "name": "stderr",
     "output_type": "stream",
     "text": [
      " 79%|█████████████████████████████████▊         | 55/70 [26:50<03:44, 14.98s/it]"
     ]
    },
    {
     "name": "stdout",
     "output_type": "stream",
     "text": [
      "CompletedProcess(args='gdalwarp SETSM_s2s041_WV03_20210829_104001006C401100_104001006DA6B800_2m_lsf_s_MOSAIC.tif -t_srs EPSG:3338 SETSM_s2s041_WV03_20210829_104001006C401100_104001006DA6B800_2m_lsf_s_MOSAIC_reprojected.tif', returncode=0, stdout=b'Creating output file that is 9668P x 10789L.\\nProcessing SETSM_s2s041_WV03_20210829_104001006C401100_104001006DA6B800_2m_lsf_s_MOSAIC.tif [1/1] : 0...10...20...30...40...50...60...70...80...90...100 - done.\\n', stderr=b'')\n",
      "Removed original file\n",
      " \n"
     ]
    },
    {
     "name": "stderr",
     "output_type": "stream",
     "text": [
      " 80%|██████████████████████████████████▍        | 56/70 [26:53<02:42, 11.58s/it]"
     ]
    },
    {
     "name": "stdout",
     "output_type": "stream",
     "text": [
      "CompletedProcess(args='gdalwarp SETSM_s2s041_WV03_20211025_104001006E7C5100_1040010071D58900_2m_lsf_s_MOSAIC.tif -t_srs EPSG:3338 SETSM_s2s041_WV03_20211025_104001006E7C5100_1040010071D58900_2m_lsf_s_MOSAIC_reprojected.tif', returncode=0, stdout=b'Creating output file that is 9572P x 10499L.\\nProcessing SETSM_s2s041_WV03_20211025_104001006E7C5100_1040010071D58900_2m_lsf_s_MOSAIC.tif [1/1] : 0...10...20...30...40...50...60...70...80...90...100 - done.\\n', stderr=b'')\n",
      "Removed original file\n",
      " \n"
     ]
    },
    {
     "name": "stderr",
     "output_type": "stream",
     "text": [
      " 81%|███████████████████████████████████        | 57/70 [26:57<02:00,  9.25s/it]"
     ]
    },
    {
     "name": "stdout",
     "output_type": "stream",
     "text": [
      "CompletedProcess(args='gdalwarp SETSM_s2s041_WV03_20220223_104001007380AF00_104001007401E900_2m_lsf_s_MOSAIC.tif -t_srs EPSG:3338 SETSM_s2s041_WV03_20220223_104001007380AF00_104001007401E900_2m_lsf_s_MOSAIC_reprojected.tif', returncode=0, stdout=b'Creating output file that is 10018P x 10827L.\\nProcessing SETSM_s2s041_WV03_20220223_104001007380AF00_104001007401E900_2m_lsf_s_MOSAIC.tif [1/1] : 0...10...20...30...40...50...60...70...80...90...100 - done.\\n', stderr=b'')\n",
      "Removed original file\n",
      " \n"
     ]
    },
    {
     "name": "stderr",
     "output_type": "stream",
     "text": [
      " 83%|███████████████████████████████████▋       | 58/70 [27:01<01:32,  7.67s/it]"
     ]
    },
    {
     "name": "stdout",
     "output_type": "stream",
     "text": [
      "CompletedProcess(args='gdalwarp SETSM_s2s041_WV03_20220326_10400100745CDB00_1040010076380500_2m_lsf_s_MOSAIC.tif -t_srs EPSG:3338 SETSM_s2s041_WV03_20220326_10400100745CDB00_1040010076380500_2m_lsf_s_MOSAIC_reprojected.tif', returncode=0, stdout=b'Creating output file that is 10374P x 11363L.\\nProcessing SETSM_s2s041_WV03_20220326_10400100745CDB00_1040010076380500_2m_lsf_s_MOSAIC.tif [1/1] : 0...10...20...30...40...50...60...70...80...90...100 - done.\\n', stderr=b'')\n",
      "Removed original file\n",
      " \n"
     ]
    },
    {
     "name": "stderr",
     "output_type": "stream",
     "text": [
      " 84%|████████████████████████████████████▏      | 59/70 [27:05<01:11,  6.54s/it]"
     ]
    },
    {
     "name": "stdout",
     "output_type": "stream",
     "text": [
      "CompletedProcess(args='gdalwarp SETSM_s2s041_WV03_20220414_10400100759F5600_10400100761C1B00_2m_lsf_s_MOSAIC.tif -t_srs EPSG:3338 SETSM_s2s041_WV03_20220414_10400100759F5600_10400100761C1B00_2m_lsf_s_MOSAIC_reprojected.tif', returncode=0, stdout=b'Creating output file that is 10113P x 11125L.\\nProcessing SETSM_s2s041_WV03_20220414_10400100759F5600_10400100761C1B00_2m_lsf_s_MOSAIC.tif [1/1] : 0...10...20...30...40...50...60...70...80...90...100 - done.\\n', stderr=b'')\n",
      "Removed original file\n",
      " \n"
     ]
    },
    {
     "name": "stderr",
     "output_type": "stream",
     "text": [
      " 86%|████████████████████████████████████▊      | 60/70 [27:09<00:58,  5.90s/it]"
     ]
    },
    {
     "name": "stdout",
     "output_type": "stream",
     "text": [
      "CompletedProcess(args='gdalwarp SETSM_s2s041_WV03_20220416_10400100759D8100_1040010076007E00_2m_lsf_s_MOSAIC.tif -t_srs EPSG:3338 SETSM_s2s041_WV03_20220416_10400100759D8100_1040010076007E00_2m_lsf_s_MOSAIC_reprojected.tif', returncode=0, stdout=b'Creating output file that is 10917P x 12248L.\\nProcessing SETSM_s2s041_WV03_20220416_10400100759D8100_1040010076007E00_2m_lsf_s_MOSAIC.tif [1/1] : 0...10...20...30...40...50...60...70...80...90...100 - done.\\n', stderr=b'')\n",
      "Removed original file\n",
      " \n"
     ]
    },
    {
     "name": "stderr",
     "output_type": "stream",
     "text": [
      " 87%|█████████████████████████████████████▍     | 61/70 [27:13<00:46,  5.16s/it]"
     ]
    },
    {
     "name": "stdout",
     "output_type": "stream",
     "text": [
      "CompletedProcess(args='gdalwarp SETSM_s2s041_WV03_20220421_10400100757E2200_1040010076083E00_2m_lsf_s_MOSAIC.tif -t_srs EPSG:3338 SETSM_s2s041_WV03_20220421_10400100757E2200_1040010076083E00_2m_lsf_s_MOSAIC_reprojected.tif', returncode=0, stdout=b'Creating output file that is 9758P x 10794L.\\nProcessing SETSM_s2s041_WV03_20220421_10400100757E2200_1040010076083E00_2m_lsf_s_MOSAIC.tif [1/1] : 0...10...20...30...40...50...60...70...80...90...100 - done.\\n', stderr=b'')\n",
      "Removed original file\n",
      " \n"
     ]
    },
    {
     "name": "stderr",
     "output_type": "stream",
     "text": [
      " 89%|██████████████████████████████████████     | 62/70 [27:17<00:38,  4.81s/it]"
     ]
    },
    {
     "name": "stdout",
     "output_type": "stream",
     "text": [
      "CompletedProcess(args='gdalwarp SETSM_s2s041_WV03_20220505_1040010075884C00_1040010076B7E500_2m_lsf_s_MOSAIC.tif -t_srs EPSG:3338 SETSM_s2s041_WV03_20220505_1040010075884C00_1040010076B7E500_2m_lsf_s_MOSAIC_reprojected.tif', returncode=0, stdout=b'Creating output file that is 10587P x 11829L.\\nProcessing SETSM_s2s041_WV03_20220505_1040010075884C00_1040010076B7E500_2m_lsf_s_MOSAIC.tif [1/1] : 0...10...20...30...40...50...60...70...80...90...100 - done.\\n', stderr=b'')\n",
      "Removed original file\n",
      " \n"
     ]
    },
    {
     "name": "stderr",
     "output_type": "stream",
     "text": [
      " 90%|██████████████████████████████████████▋    | 63/70 [27:21<00:31,  4.56s/it]"
     ]
    },
    {
     "name": "stdout",
     "output_type": "stream",
     "text": [
      "CompletedProcess(args='gdalwarp SETSM_s2s041_WV03_20220522_1040010076675F00_1040010077A59300_2m_lsf_s_MOSAIC.tif -t_srs EPSG:3338 SETSM_s2s041_WV03_20220522_1040010076675F00_1040010077A59300_2m_lsf_s_MOSAIC_reprojected.tif', returncode=0, stdout=b'Creating output file that is 10336P x 11587L.\\nProcessing SETSM_s2s041_WV03_20220522_1040010076675F00_1040010077A59300_2m_lsf_s_MOSAIC.tif [1/1] : 0...10...20...30...40...50...60...70...80...90...100 - done.\\n', stderr=b'')\n",
      "Removed original file\n",
      " \n"
     ]
    },
    {
     "name": "stderr",
     "output_type": "stream",
     "text": [
      " 91%|███████████████████████████████████████▎   | 64/70 [27:24<00:25,  4.28s/it]"
     ]
    },
    {
     "name": "stdout",
     "output_type": "stream",
     "text": [
      "CompletedProcess(args='gdalwarp SETSM_s2s041_WV03_20220529_1040010076928C00_1040010077228200_2m_lsf_s_MOSAIC.tif -t_srs EPSG:3338 SETSM_s2s041_WV03_20220529_1040010076928C00_1040010077228200_2m_lsf_s_MOSAIC_reprojected.tif', returncode=0, stdout=b'Creating output file that is 10053P x 10972L.\\nProcessing SETSM_s2s041_WV03_20220529_1040010076928C00_1040010077228200_2m_lsf_s_MOSAIC.tif [1/1] : 0...10...20...30...40...50...60...70...80...90...100 - done.\\n', stderr=b'')\n",
      "Removed original file\n",
      " \n"
     ]
    },
    {
     "name": "stderr",
     "output_type": "stream",
     "text": [
      " 93%|███████████████████████████████████████▉   | 65/70 [27:28<00:20,  4.07s/it]"
     ]
    },
    {
     "name": "stdout",
     "output_type": "stream",
     "text": [
      "CompletedProcess(args='gdalwarp SETSM_s2s041_WV03_20220617_104001007791F200_1040010079521200_2m_lsf_s_MOSAIC.tif -t_srs EPSG:3338 SETSM_s2s041_WV03_20220617_104001007791F200_1040010079521200_2m_lsf_s_MOSAIC_reprojected.tif', returncode=0, stdout=b'Creating output file that is 9944P x 11010L.\\nProcessing SETSM_s2s041_WV03_20220617_104001007791F200_1040010079521200_2m_lsf_s_MOSAIC.tif [1/1] : 0...10...20...30...40...50...60...70...80...90...100 - done.\\n', stderr=b'')\n",
      "Removed original file\n",
      " \n"
     ]
    },
    {
     "name": "stderr",
     "output_type": "stream",
     "text": [
      " 94%|████████████████████████████████████████▌  | 66/70 [27:31<00:15,  3.90s/it]"
     ]
    },
    {
     "name": "stdout",
     "output_type": "stream",
     "text": [
      "CompletedProcess(args='gdalwarp SETSM_s2s041_WV03_20220629_10400100761B7600_1040010077376100_2m_lsf_s_MOSAIC.tif -t_srs EPSG:3338 SETSM_s2s041_WV03_20220629_10400100761B7600_1040010077376100_2m_lsf_s_MOSAIC_reprojected.tif', returncode=0, stdout=b'Creating output file that is 9635P x 10685L.\\nProcessing SETSM_s2s041_WV03_20220629_10400100761B7600_1040010077376100_2m_lsf_s_MOSAIC.tif [1/1] : 0...10...20...30...40...50...60...70...80...90...100 - done.\\n', stderr=b'')\n",
      "Removed original file\n",
      " \n"
     ]
    },
    {
     "name": "stderr",
     "output_type": "stream",
     "text": [
      " 96%|█████████████████████████████████████████▏ | 67/70 [27:36<00:12,  4.11s/it]"
     ]
    },
    {
     "name": "stdout",
     "output_type": "stream",
     "text": [
      "CompletedProcess(args='gdalwarp SETSM_s2s041_WV03_20220704_104001007A709000_104001007BCB6500_2m_lsf_s_MOSAIC.tif -t_srs EPSG:3338 SETSM_s2s041_WV03_20220704_104001007A709000_104001007BCB6500_2m_lsf_s_MOSAIC_reprojected.tif', returncode=0, stdout=b'Creating output file that is 11518P x 12400L.\\nProcessing SETSM_s2s041_WV03_20220704_104001007A709000_104001007BCB6500_2m_lsf_s_MOSAIC.tif [1/1] : 0...10...20...30...40...50...60...70...80...90...100 - done.\\n', stderr=b'')\n",
      "Removed original file\n",
      " \n"
     ]
    },
    {
     "name": "stderr",
     "output_type": "stream",
     "text": [
      " 97%|█████████████████████████████████████████▊ | 68/70 [27:40<00:08,  4.05s/it]"
     ]
    },
    {
     "name": "stdout",
     "output_type": "stream",
     "text": [
      "CompletedProcess(args='gdalwarp SETSM_s2s041_WV03_20220811_10400100798C9500_1040010079A3A900_2m_lsf_s_MOSAIC.tif -t_srs EPSG:3338 SETSM_s2s041_WV03_20220811_10400100798C9500_1040010079A3A900_2m_lsf_s_MOSAIC_reprojected.tif', returncode=0, stdout=b'Creating output file that is 10440P x 11765L.\\nProcessing SETSM_s2s041_WV03_20220811_10400100798C9500_1040010079A3A900_2m_lsf_s_MOSAIC.tif [1/1] : 0...10...20...30...40...50...60...70...80...90...100 - done.\\n', stderr=b'')\n",
      "Removed original file\n",
      " \n"
     ]
    },
    {
     "name": "stderr",
     "output_type": "stream",
     "text": [
      " 99%|██████████████████████████████████████████▍| 69/70 [27:44<00:04,  4.10s/it]"
     ]
    },
    {
     "name": "stdout",
     "output_type": "stream",
     "text": [
      "CompletedProcess(args='gdalwarp SETSM_s2s041_WV03_20220911_104001007BAAF300_104001007CAE8B00_2m_lsf_s_MOSAIC.tif -t_srs EPSG:3338 SETSM_s2s041_WV03_20220911_104001007BAAF300_104001007CAE8B00_2m_lsf_s_MOSAIC_reprojected.tif', returncode=0, stdout=b'Creating output file that is 11044P x 12124L.\\nProcessing SETSM_s2s041_WV03_20220911_104001007BAAF300_104001007CAE8B00_2m_lsf_s_MOSAIC.tif [1/1] : 0...10...20...30...40...50...60...70...80...90...100 - done.\\n', stderr=b'')\n",
      "Removed original file\n",
      " \n"
     ]
    },
    {
     "name": "stderr",
     "output_type": "stream",
     "text": [
      "100%|███████████████████████████████████████████| 70/70 [27:47<00:00, 23.82s/it]"
     ]
    },
    {
     "name": "stdout",
     "output_type": "stream",
     "text": [
      "CompletedProcess(args='gdalwarp SETSM_s2s041_WV03_20221217_104001007F272300_1040010080A18900_2m_lsf_s_MOSAIC.tif -t_srs EPSG:3338 SETSM_s2s041_WV03_20221217_104001007F272300_1040010080A18900_2m_lsf_s_MOSAIC_reprojected.tif', returncode=0, stdout=b'Creating output file that is 9557P x 9152L.\\nProcessing SETSM_s2s041_WV03_20221217_104001007F272300_1040010080A18900_2m_lsf_s_MOSAIC.tif [1/1] : 0...10...20...30...40...50...60...70...80...90...100 - done.\\n', stderr=b'')\n",
      "Removed original file\n",
      " \n"
     ]
    },
    {
     "name": "stderr",
     "output_type": "stream",
     "text": [
      "\n"
     ]
    }
   ],
   "source": [
    "target_crs = \"EPSG:3338\"\n",
    "\n",
    "os.chdir(data_path)\n",
    "dem_fns = sorted(glob.glob('*.tif'))\n",
    "for dem_fn in tqdm(dem_fns):\n",
    "    cmd = 'gdalwarp ' + dem_fn + ' -t_srs ' + target_crs + ' ' + dem_fn[0:-4] + '_reprojected.tif'\n",
    "    output = subprocess.run(cmd, shell=True, capture_output=True)\n",
    "    print(output)\n",
    "    # Remove unprojected files\n",
    "    os.remove(dem_fn)\n",
    "    print('Removed original file')\n",
    "    print(' ')"
   ]
  },
  {
   "cell_type": "code",
   "execution_count": null,
   "id": "4429b39c-b36a-49f7-9a16-97815cb64bde",
   "metadata": {},
   "outputs": [],
   "source": []
  }
 ],
 "metadata": {
  "kernelspec": {
   "display_name": "hubbard",
   "language": "python",
   "name": "hubbard"
  },
  "language_info": {
   "codemirror_mode": {
    "name": "ipython",
    "version": 3
   },
   "file_extension": ".py",
   "mimetype": "text/x-python",
   "name": "python",
   "nbconvert_exporter": "python",
   "pygments_lexer": "ipython3",
   "version": "3.12.1"
  }
 },
 "nbformat": 4,
 "nbformat_minor": 5
}
