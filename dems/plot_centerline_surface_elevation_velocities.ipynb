{
 "cells": [
  {
   "cell_type": "markdown",
   "id": "88a60395-febe-47de-abc8-eaf8bf0ed22e",
   "metadata": {},
   "source": [
    "# Plot centerline surface elevations and velocities"
   ]
  },
  {
   "cell_type": "code",
   "execution_count": null,
   "id": "869b6216-534d-4cb5-985f-4581024d134f",
   "metadata": {},
   "outputs": [],
   "source": [
    "import xarray as xr\n",
    "import rioxarray as rxr\n",
    "import numpy as np\n",
    "import matplotlib.pyplot as plt\n",
    "import pandas as pd\n",
    "import geopandas as gpd\n",
    "import seaborn as sns\n",
    "import os\n",
    "from shapely.geometry import LineString\n",
    "from tqdm.auto import tqdm"
   ]
  },
  {
   "cell_type": "markdown",
   "id": "0a5fcd6a-dd53-4fae-81f2-dabe9a51c5b9",
   "metadata": {},
   "source": [
    "## Load data"
   ]
  },
  {
   "cell_type": "code",
   "execution_count": null,
   "id": "10cb1628-4d94-4250-add5-0e31653d89ee",
   "metadata": {},
   "outputs": [],
   "source": [
    "# -----Base path to data\n",
    "data_path = '/Users/raineyaberle/Research/PhD/Hubbard/'\n",
    "\n",
    "# -----Load centerline\n",
    "cl_path = os.path.join(data_path, 'velocity', 'center.gpkg')\n",
    "cl = gpd.read_file(cl_path)\n",
    "# Reproject to Alaska Albers\n",
    "cl = cl.to_crs('EPSG:3338')\n",
    "# Increase spatial resolution\n",
    "def increase_linestring_resolution(line, distance=50):\n",
    "    # calculate initial distance vector\n",
    "    x, y = line.coords.xy[0], line.coords.xy[1]\n",
    "    line_dist = np.zeros(len(line.coords.xy[0]))\n",
    "    for i in range(1, len(line.coords.xy[0])):\n",
    "        line_dist[i] = np.sqrt((x[i]-x[i-1])**2 + (y[i]-y[i-1])**2) + line_dist[i-1]\n",
    "    # create new line distance vector\n",
    "    new_line_dist = np.arange(0, np.nanmax(line_dist), step=distance)\n",
    "    # interpolate coordinates on new distance vector\n",
    "    new_x = np.interp(new_line_dist, line_dist, x)\n",
    "    new_y = np.interp(new_line_dist, line_dist, y)\n",
    "    # save as linestring\n",
    "    new_coords = list(zip(new_x, new_y))\n",
    "    new_line = LineString(new_coords)\n",
    "    \n",
    "    return new_line, new_line_dist\n",
    "new_geom, cl_dist = increase_linestring_resolution(cl.geometry[0])\n",
    "cl['geometry'] = [new_geom]\n",
    "\n",
    "# -----Load centerline surface elevation\n",
    "h_cl_fn = os.path.join(data_path, 'surface_elevation', 'centerline_surface_elevation_timeseries_smooth.csv')\n",
    "h_cl_df = pd.read_csv(h_cl_fn, index_col=0)"
   ]
  },
  {
   "cell_type": "markdown",
   "id": "5ba9be89-8861-4018-ac1d-675367276fd5",
   "metadata": {},
   "source": [
    "## Sample velocities at each centerline point"
   ]
  },
  {
   "cell_type": "code",
   "execution_count": null,
   "id": "4cb3bab5-1c7b-4ecf-bca0-a4189d040110",
   "metadata": {
    "scrolled": true
   },
   "outputs": [],
   "source": [
    "# -----Check if centerline velocities already exist in file\n",
    "v_cl_fn = os.path.join(data_path, 'velocity', 'centerline_velocities.csv')\n",
    "if os.path.exists(v_cl_fn):\n",
    "    v_cl_df = pd.read_csv(v_cl_fn, index_col=0)\n",
    "    print('Centerline velocities loaded from file.')\n",
    "\n",
    "else:\n",
    "    # Load velocity data cube\n",
    "    v_fn = os.path.join(data_path, 'velocity', 'Hubbard_5eminus5.nc')\n",
    "    v = xr.open_dataset(v_fn)\n",
    "    # Reproject to Alaska Albers\n",
    "    v = v.rio.write_crs('EPSG:' + v.attrs['projection'])\n",
    "    v = v.rio.reproject('EPSG:3338')\n",
    "    # Add velocity magnitude variable\n",
    "    v['v'] = np.sqrt(v['vx']**2 + v['vy']**2)\n",
    "    \n",
    "    # Interpolate velocity time series at each point\n",
    "    v_cl_df = pd.DataFrame({'Date': v.time.data})\n",
    "    for i in tqdm(range(len(cl_dist))):\n",
    "        v_point = v.sel(x=cl.geometry[0].coords.xy[0][i], y=cl.geometry[0].coords.xy[1][i], method='nearest').v.data \n",
    "        df = pd.DataFrame({str(cl_dist[i]): v_point})\n",
    "        v_cl_df = pd.concat([v_cl_df, df], axis=1)\n",
    "    # Set Date as index\n",
    "    v_cl_df.set_index('Date', inplace=True)\n",
    "\n",
    "    # Save to file\n",
    "    v_cl_df.to_csv(v_cl_fn, index=True)\n",
    "    print('Centerline velocities saved to file:', v_cl_fn)\n",
    "\n",
    "v_cl_df"
   ]
  },
  {
   "cell_type": "markdown",
   "id": "48f16875-ac34-43f9-9f21-2b216f45929b",
   "metadata": {},
   "source": [
    "## Plot seasonal velocities and surface elevations at different centerline points"
   ]
  },
  {
   "cell_type": "code",
   "execution_count": null,
   "id": "f367c050-ad88-4199-8f32-48123cdd141e",
   "metadata": {},
   "outputs": [],
   "source": [
    "# Add month columns\n",
    "h_cl_df['Month'] = pd.DatetimeIndex(h_cl_df.index).month\n",
    "v_cl_df['Month'] = pd.DatetimeIndex(v_cl_df.index).month\n",
    "\n",
    "# Calculate mean monthly velocities\n",
    "v_cl_monthly_mean = v_cl_df.groupby('Month').mean()\n",
    "v_cl_monthly_std = v_cl_df.groupby('Month').std()\n",
    "\n",
    "# Define centerline points to sample\n",
    "cl_dist_points = cl_dist[0::40]\n",
    "\n",
    "# Set up figure\n",
    "plt.rcParams.update({'font.size':12, 'font.sans-serif':'Arial'})\n",
    "nrows = int(np.ceil(len(cl_dist_points)/2))\n",
    "fig, ax = plt.subplots(nrows, 2, figsize=(12, 4*nrows), sharex=True)\n",
    "ax = ax.flatten()\n",
    "hcol = 'k'\n",
    "vcol = 'b'\n",
    "\n",
    "for i, point in enumerate(cl_dist_points):\n",
    "    # surface elevation\n",
    "    h_cl_point = h_cl_df[[str(point), 'Month']]\n",
    "    ax[i].plot(h_cl_point['Month'], h_cl_point[str(point)], 'o', color=hcol)\n",
    "    ax[i].set_ylabel('Elevation [m]', color=hcol)\n",
    "    ax[i].set_title(f'{int(point)} m')\n",
    "    ax[i].grid()\n",
    "    # velocity\n",
    "    ax2 = ax[i].twinx()\n",
    "    v_cl_monthly_mean_point = v_cl_monthly_mean[str(point)]\n",
    "    v_cl_monthly_std_point = v_cl_monthly_std[str(point)]\n",
    "    ax2.fill_between(v_cl_monthly_std_point.index, \n",
    "                       v_cl_monthly_mean_point-v_cl_monthly_std_point,\n",
    "                       v_cl_monthly_mean_point+v_cl_monthly_std_point, color=vcol, alpha=0.2)\n",
    "    ax2.plot(v_cl_monthly_mean_point.index, v_cl_monthly_mean_point.values, '-', color=vcol)\n",
    "    ax2.set_ylabel('Speed [m/y]', color=vcol)\n",
    "    ax2.spines['right'].set_color(vcol)\n",
    "    ax2.tick_params(axis='y', colors=vcol)\n",
    "\n",
    "ax[-1].remove()\n",
    "ax[0].set_xticks([3, 6, 9, 12])\n",
    "ax[0].set_xticklabels(['Mar', 'Jun', 'Sep', 'Dec'])\n",
    "ax[0].set_xlim(-0.5, 12.5)\n",
    "\n",
    "fig.subplots_adjust(wspace=0.4)\n",
    "plt.show()"
   ]
  },
  {
   "cell_type": "code",
   "execution_count": null,
   "id": "19296433-cfee-46aa-a9bb-439bf5420e9f",
   "metadata": {},
   "outputs": [],
   "source": []
  },
  {
   "cell_type": "code",
   "execution_count": null,
   "id": "a7ab560f-76df-44f9-813f-8949bf672a5a",
   "metadata": {},
   "outputs": [],
   "source": []
  }
 ],
 "metadata": {
  "kernelspec": {
   "display_name": "hubbard",
   "language": "python",
   "name": "hubbard"
  },
  "language_info": {
   "codemirror_mode": {
    "name": "ipython",
    "version": 3
   },
   "file_extension": ".py",
   "mimetype": "text/x-python",
   "name": "python",
   "nbconvert_exporter": "python",
   "pygments_lexer": "ipython3",
   "version": "3.12.1"
  }
 },
 "nbformat": 4,
 "nbformat_minor": 5
}
