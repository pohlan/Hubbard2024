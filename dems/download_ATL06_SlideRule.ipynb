{
 "cells": [
  {
   "cell_type": "markdown",
   "id": "9c415ec4-a1d5-4fd6-8b1b-29baa545a137",
   "metadata": {},
   "source": [
    "# Download ICESat-2 ATL06 data over Hubbard Glacier, downscaled to 20 m\n",
    "\n",
    "Modified from Slide Rule examples and code developed by [Karina Zikan](https://github.com/KarinaZikan)\n",
    "\n",
    "Rainey Aberle"
   ]
  },
  {
   "cell_type": "code",
   "execution_count": null,
   "id": "b4dc0795-bdd5-4822-9796-ebc36d9aea93",
   "metadata": {},
   "outputs": [],
   "source": [
    "import sys\n",
    "import logging\n",
    "import concurrent.futures\n",
    "import time\n",
    "from datetime import datetime\n",
    "import pandas as pd\n",
    "import geopandas as gpd\n",
    "import matplotlib.pyplot as plt\n",
    "from pyproj import Transformer, CRS\n",
    "from shapely.geometry import Polygon, Point\n",
    "from sliderule import sliderule, icesat2, earthdata, h5\n",
    "import os\n",
    "import numpy as np"
   ]
  },
  {
   "cell_type": "markdown",
   "id": "f115e997-1800-42df-8d41-e08d6dd4da66",
   "metadata": {},
   "source": [
    "## Initialize and configure ICESat-2 API"
   ]
  },
  {
   "cell_type": "code",
   "execution_count": null,
   "id": "c4a44605-d028-4cfc-bd1d-1ddd98213fb2",
   "metadata": {},
   "outputs": [],
   "source": [
    "icesat2.init(\"slideruleearth.io\", verbose=False)"
   ]
  },
  {
   "cell_type": "markdown",
   "id": "356c3354-cd97-4a59-8afa-9b9c649b1377",
   "metadata": {},
   "source": [
    "## Load geojson"
   ]
  },
  {
   "cell_type": "code",
   "execution_count": null,
   "id": "91d5a4bf-eaf4-4076-a9df-ce76d0072b44",
   "metadata": {},
   "outputs": [],
   "source": [
    "aoi_path = '/Users/raineyaberle/Research/PhD/Hubbard/surface_elevation/'\n",
    "aoi_fn = 'ifsar_bounds.geojson'\n",
    "\n",
    "poly = sliderule.toregion(os.path.join(aoi_path, aoi_fn))['poly']\n",
    "\n",
    "# extract lat and lon coordinates\n",
    "poly_lon = [x['lon'] for x in poly]\n",
    "poly_lat = [x['lat'] for x in poly]\n",
    "    \n",
    "# plot\n",
    "fig, ax = plt.subplots()\n",
    "ax.plot(poly_lon, poly_lat, '-b')\n",
    "ax.grid()\n",
    "plt.show()"
   ]
  },
  {
   "cell_type": "code",
   "execution_count": null,
   "id": "edcde750-5f63-41ea-ba9d-be387c584c67",
   "metadata": {
    "scrolled": true,
    "tags": []
   },
   "outputs": [],
   "source": [
    "# # Define path and filenames for AOI shapefile and geojsons\n",
    "# aoi_path = '/Users/raineyaberle/Research/PhD/Hubbard/RGI/'\n",
    "# aoi_shp_fn = 'Hubbard_boundaries.shp'\n",
    "# aoi_geojson_fn = 'Hubbard_boundaries.geojson'\n",
    "\n",
    "# # Define output path for CSVs\n",
    "# csv_path = '/Users/raineyaberle/Research/PhD/Hubbard/surface_elevation/ICESat-2/CSVs/'\n",
    "\n",
    "# # set up figure\n",
    "# fig, ax = plt.subplots(1, 1)\n",
    "\n",
    "# # load shapefile\n",
    "# aoi_shp = gpd.read_file(os.path.join(aoi_path, aoi_shp_fn))\n",
    "# aoi_shp.plot(ax=ax, facecolor='None', edgecolor='k')\n",
    "\n",
    "# # If geojson does not exist in directory, load shapefile, buffer and simplify geometry, save to file as geojson\n",
    "# if not os.path.exists(os.path.join(aoi_path, aoi_geojson_fn)):\n",
    "    \n",
    "#     # buffer geometry\n",
    "#     aoi_shp['geometry'] = aoi_shp['geometry'][0].buffer(0.05)\n",
    "    \n",
    "#     # save to aoi_path as geojson\n",
    "#     aoi_shp.to_file(os.path.join(aoi_path, aoi_geojson_fn), driver='GeoJSON')\n",
    "#     print('geojson saved to file: ', os.path.join(aoi_path, aoi_geojson_fn))\n",
    "        \n",
    "# # read geojson simplified polygon\n",
    "# poly = sliderule.toregion(os.path.join(aoi_path, aoi_geojson_fn))[\"poly\"]\n",
    "\n",
    "# # extract lat and lon coordinates\n",
    "# poly_lon = [x['lon'] for x in poly]\n",
    "# poly_lat = [x['lat'] for x in poly]\n",
    "    \n",
    "# # plot\n",
    "# ax.plot(poly_lon, poly_lat, '-b')\n",
    "# ax.grid()\n",
    "# plt.show()\n"
   ]
  },
  {
   "cell_type": "markdown",
   "id": "e36a64b2-0f62-43d2-9426-ff42c28f44c0",
   "metadata": {},
   "source": [
    "## SlideRule Product Processing"
   ]
  },
  {
   "cell_type": "code",
   "execution_count": null,
   "id": "cf0a23b5-b711-4971-8818-ad7a7e7767d2",
   "metadata": {},
   "outputs": [],
   "source": [
    "# Set processing parameters\n",
    "parms = {\n",
    "    \"poly\": poly,\n",
    "    \"srt\": icesat2.SRT_LAND,\n",
    "    \"len\": 20,\n",
    "    \"cnf\": icesat2.CNF_SURFACE_HIGH, \n",
    "}"
   ]
  },
  {
   "cell_type": "markdown",
   "id": "f4a279aa-66f4-45b4-bf9a-23d66b7c558b",
   "metadata": {},
   "source": [
    "### Calculate ATL06 elevations"
   ]
  },
  {
   "cell_type": "code",
   "execution_count": null,
   "id": "d933dbc3-ddcd-4647-b2f2-186dbaa4a5a2",
   "metadata": {},
   "outputs": [],
   "source": [
    "# Latch Start Time\n",
    "perf_start = time.perf_counter()\n",
    "\n",
    "# Request ATL06 Data\n",
    "data = icesat2.atl06p(parms)\n",
    "\n",
    "# Latch Stop Time\n",
    "perf_stop = time.perf_counter()\n",
    "\n",
    "# Display Statistics\n",
    "perf_duration = perf_stop - perf_start\n",
    "print(\"Completed in {:.3f} seconds of wall-clock time\".format(perf_duration))\n",
    "print(\"Received {} elevations\".format(data.shape[0]))\n",
    "\n",
    "# Print data to check results\n",
    "data"
   ]
  },
  {
   "cell_type": "markdown",
   "id": "0d1fdc1f-ecc8-41f7-a0dc-56a5af43ed3a",
   "metadata": {},
   "source": [
    "### Plot ATL06 results"
   ]
  },
  {
   "cell_type": "code",
   "execution_count": null,
   "id": "460b2c60-22fa-45f3-b9a6-cf8c157eed8c",
   "metadata": {},
   "outputs": [],
   "source": [
    "f, ax = plt.subplots(1, 1)\n",
    "data.plot(ax=ax, column='h_mean', cmap='inferno', s=0.1, legend=True)\n",
    "ax.plot(poly_lon, poly_lat, linewidth=1, color='k')\n",
    "plt.show()"
   ]
  },
  {
   "cell_type": "markdown",
   "id": "1d6758dc-d44a-479d-a5b5-ae191babc2ab",
   "metadata": {},
   "source": [
    "### Save ATL06 data to CSVs for each separate date"
   ]
  },
  {
   "cell_type": "code",
   "execution_count": null,
   "id": "00740975-c8b3-4af4-932b-f4cdeede523b",
   "metadata": {
    "scrolled": true
   },
   "outputs": [],
   "source": [
    "csv_path = '/Users/raineyaberle/Research/PhD/Hubbard/surface_elevation/ICESat-2/CSVs/'\n",
    "\n",
    "dates = np.unique(pd.DatetimeIndex(data.index).date)\n",
    "for date in dates:\n",
    "    data_date = data.loc[pd.DatetimeIndex(data.index).date==date]\n",
    "    data_fn = os.path.join(csv_path, str(date) + '_ICESat-2_ATL06_Hubbard.csv')\n",
    "    data_date.to_csv(data_fn)\n",
    "    print(f'{date} CSV saved to file.')"
   ]
  },
  {
   "cell_type": "code",
   "execution_count": null,
   "id": "611ba2ca-4f4e-4b90-b136-bf613248c620",
   "metadata": {},
   "outputs": [],
   "source": []
  }
 ],
 "metadata": {
  "kernelspec": {
   "display_name": "sliderule",
   "language": "python",
   "name": "sliderule"
  },
  "language_info": {
   "codemirror_mode": {
    "name": "ipython",
    "version": 3
   },
   "file_extension": ".py",
   "mimetype": "text/x-python",
   "name": "python",
   "nbconvert_exporter": "python",
   "pygments_lexer": "ipython3",
   "version": "3.12.1"
  }
 },
 "nbformat": 4,
 "nbformat_minor": 5
}
