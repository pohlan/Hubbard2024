{
 "cells": [
  {
   "cell_type": "markdown",
   "id": "b46c77f1-3636-4ff0-a7b4-a44400af00f9",
   "metadata": {},
   "source": [
    "# Query GEE and download ArcticDEM Strips"
   ]
  },
  {
   "cell_type": "code",
   "execution_count": null,
   "id": "d7446330-3f47-4999-8a3b-38a74b22f7c1",
   "metadata": {},
   "outputs": [],
   "source": [
    "import ee\n",
    "import geopandas as gpd\n",
    "import geedim as gd\n",
    "import matplotlib.pyplot as plt\n",
    "import os\n",
    "import xarray as xr\n",
    "import numpy as np\n",
    "import datetime\n",
    "import glob\n",
    "import rasterio as rio"
   ]
  },
  {
   "cell_type": "code",
   "execution_count": null,
   "id": "093606c0-73fe-462c-979e-15f57a298cb7",
   "metadata": {},
   "outputs": [],
   "source": [
    "# -----Define output directory for DEMs\n",
    "out_path = '/Users/raineyaberle/Research/PhD/Hubbard/surface_elevations/ArcticDEM/'\n",
    "\n",
    "# -----Load IFSAR DEM for reference\n",
    "ifsar_fn = '/Users/raineyaberle/Research/PhD/Hubbard/surface_elevations/ifsar_hubbardDEM.tif'\n",
    "ifsar = xr.open_dataset(ifsar_fn)\n",
    "ifsar = ifsar.rio.reproject('EPSG:4326')\n",
    "\n",
    "# -----Load glacier boundaries\n",
    "aoi_fn = '/Users/raineyaberle/Research/PhD/Hubbard/glacier_boundaries/Hubbard_boundaries.shp'\n",
    "aoi = gpd.read_file(aoi_fn)\n",
    "# reproject to Alaska Albers projection\n",
    "# aoi_utm = aoi.to_crs('EPSG:3338')\n",
    "# # buffer by 1 km\n",
    "# aoi_utm_buffer = aoi_utm.buffer(1e3)\n",
    "# # reproject back to WGS84\n",
    "# aoi_buffer = aoi_utm_buffer.to_crs('EPSG:4326')\n",
    "# # construct bounding box\n",
    "# bbox = [[aoi_buffer.geometry.bounds.minx[0], aoi_buffer.geometry.bounds.miny[0]],\n",
    "#          [aoi_buffer.geometry.bounds.maxx[0], aoi_buffer.geometry.bounds.miny[0]],\n",
    "#          [aoi_buffer.geometry.bounds.maxx[0], aoi_buffer.geometry.bounds.maxy[0]],\n",
    "#          [aoi_buffer.geometry.bounds.minx[0], aoi_buffer.geometry.bounds.maxy[0]],\n",
    "#          [aoi_buffer.geometry.bounds.minx[0], aoi_buffer.geometry.bounds.miny[0]]]\n",
    "\n",
    "# use a smaller bounding box to cover the terminus\n",
    "minx, maxx = np.min(ifsar.x.data), np.max(ifsar.x.data)\n",
    "miny, maxy = np.min(ifsar.y.data), np.max(ifsar.y.data)\n",
    "bbox = [[minx, miny], [maxx, miny], [maxx, maxy], [minx, maxy], [minx, miny]]\n",
    "\n",
    "# plot\n",
    "fig, ax = plt.subplots()\n",
    "aoi.plot(ax=ax, facecolor='None', edgecolor='b')\n",
    "ax.imshow(ifsar.band_data.data[0], cmap='terrain', clim=(0,2.5e3),\n",
    "          extent=(np.min(ifsar.x.data), np.max(ifsar.x.data), \n",
    "                  np.min(ifsar.y.data), np.max(ifsar.y.data)))\n",
    "ax.plot([x[0] for x in bbox], [x[1] for x in bbox], '-k')\n",
    "ax.set_xticks(ax.get_xticks())\n",
    "ax.set_xticklabels(ax.get_xticklabels(), rotation=90)\n",
    "plt.show()\n",
    "# Reformat for querying GEE\n",
    "region = {'type': 'Polygon',\n",
    "          'coordinates': [bbox]\n",
    "          }"
   ]
  },
  {
   "cell_type": "markdown",
   "id": "3e2f3915-db17-4e2b-a637-9f2559a3f25c",
   "metadata": {},
   "source": [
    "## Query geedim for ArcticDEM strips"
   ]
  },
  {
   "cell_type": "code",
   "execution_count": null,
   "id": "08eb8c72-4748-4a61-8ca2-f6a32378ae26",
   "metadata": {},
   "outputs": [],
   "source": [
    "# Initialize GEE\n",
    "ee.Initialize()"
   ]
  },
  {
   "cell_type": "code",
   "execution_count": null,
   "id": "4d35ded7-19e7-4d06-82ec-8caee0b393e3",
   "metadata": {},
   "outputs": [],
   "source": [
    "# Define function for creating a list of image IDs to mosaic\n",
    "def image_mosaic_ids(im_col_gd):\n",
    "    \n",
    "    # Grab image properties, IDs, and datetimes from image collection\n",
    "    properties = im_col_gd.properties\n",
    "    ims = dict(properties).keys()\n",
    "    im_ids = [properties[im]['system:id'] for im in ims]\n",
    "    # return if no images found\n",
    "    if len(im_ids) < 1:\n",
    "        return 'N/A', 'N/A'\n",
    "    im_dts = [datetime.datetime.utcfromtimestamp(properties[im]['system:time_start'] / 1000) for im in ims]\n",
    "    \n",
    "    # Initialize list of image ids and datetimes to mosaic\n",
    "    im_mosaic_ids_list_full, im_mosaic_dts_list_full = [], []\n",
    "    \n",
    "    # Grab all unique hours in image datetimes\n",
    "    hours = np.array(im_dts, dtype='datetime64[h]')\n",
    "    unique_hours = sorted(set(hours))\n",
    "    \n",
    "    # Create list of IDs for each unique hour\n",
    "    im_ids_list, im_dts_list = [], []\n",
    "    for unique_hour in unique_hours:\n",
    "        i = list(np.ravel(np.argwhere(hours == unique_hour)))\n",
    "        im_ids_list_hour = [im_ids[ii] for ii in i]\n",
    "        im_ids_list = im_ids_list + [im_ids_list_hour]\n",
    "        im_dts_list_hour = [im_dts[ii] for ii in i]\n",
    "        im_dts_list = im_dts_list + [im_dts_list_hour]\n",
    "    im_mosaic_ids_list_full = im_mosaic_ids_list_full + im_ids_list\n",
    "    im_mosaic_dts_list_full = im_mosaic_dts_list_full + im_dts_list\n",
    "    \n",
    "    return im_mosaic_ids_list_full, im_mosaic_dts_list_full"
   ]
  },
  {
   "cell_type": "code",
   "execution_count": null,
   "id": "d5a9e72f-e855-4aeb-84f4-fc2a4b7a3e10",
   "metadata": {
    "scrolled": true
   },
   "outputs": [],
   "source": [
    "# Create image collection, filter by date and region\n",
    "im_collection = gd.MaskedCollection.from_name(\"UMN/PGC/ArcticDEM/V3/2m\")\n",
    "im_collection_filt = im_collection.search('2000-01-01', '2024-02-15', region)\n",
    "print(im_collection_filt.properties_table)\n",
    "# Create a list of image IDs to mosaic\n",
    "im_ids_list, im_dts_list = image_mosaic_ids(im_collection_filt)\n",
    "im_ids_list"
   ]
  },
  {
   "cell_type": "code",
   "execution_count": null,
   "id": "9ad1dbdf-7c5f-4bca-be88-482fd934300d",
   "metadata": {},
   "outputs": [],
   "source": [
    "# # Get image thumbnails\n",
    "# import PIL\n",
    "# import requests\n",
    "# import io\n",
    "\n",
    "# def get_image_thumbnail(im_ee):\n",
    "#     visualization = {'bands': 'elevation', 'min': 0, 'max': 2.5e3, 'region': region, 'dimensions': 768}\n",
    "   \n",
    "    \n",
    "#     image_url = im_ee.clip(region).getThumbURL(visualization)\n",
    "#     # Fetch the image and convert it to a PIL Image object\n",
    "#     response = requests.get(image_url)\n",
    "#     image_bytes = io.BytesIO(response.content)\n",
    "#     image = PIL.Image.open(image_bytes)\n",
    "#     return image\n",
    "\n",
    "# # Reproject the Earth Engine image to UTM projection\n",
    "# utm_epsg = 'EPSG:3338'\n",
    "# im_collection_filt_utm = im_collection_filt.ee_collection.map(lambda img: img.reproject(crs=f'EPSG:{utm_epsg}', scale=30))\n",
    "# im_ids = list(im_collection_filt.properties)\n",
    "# images = [get_image_thumbnail(ee.Image(im_id)) for im_id in im_ids]\n",
    "# images"
   ]
  },
  {
   "cell_type": "code",
   "execution_count": null,
   "id": "7e8a7288-cbfa-45d2-ae87-a7d5b1433cf5",
   "metadata": {},
   "outputs": [],
   "source": [
    "# for image in images:\n",
    "#     plt.imshow(image, cmap='terrain', extent=(minx, maxx, miny, maxy))\n",
    "#     plt.show()"
   ]
  },
  {
   "cell_type": "code",
   "execution_count": null,
   "id": "28865425-ea57-443a-aceb-4f0e9995a7ea",
   "metadata": {
    "scrolled": true
   },
   "outputs": [],
   "source": [
    "# iterate over list of image IDs\n",
    "for i in tqdm(range(0, len(im_ids_list[0:1]))):\n",
    "\n",
    "    # subset image IDs and image datetimes\n",
    "    im_ids, im_dt = im_ids_list[i], im_dts_list[i]\n",
    "\n",
    "    # define filename\n",
    "    if len(im_ids) > 1:\n",
    "        im_fn =  'ArcticDEM_Hubbard_' + str(im_dt[0]).replace('-', '')[0:8] + '_MOSAIC.tif'\n",
    "    else:\n",
    "        im_fn = 'ArcticDEM_Hubbard_' + str(im_dt[0]).replace('-', '')[0:8] + '.tif'\n",
    "    # check file does not already exist in directory, download\n",
    "    if not os.path.exists(os.path.join(out_path, im_fn)):\n",
    "        # create list of MaskedImages from IDs\n",
    "        im_gd_list = [gd.MaskedImage.from_id(im_id) for im_id in im_ids]\n",
    "        # combine into new MaskedCollection\n",
    "        im_collection = gd.MaskedCollection.from_list(im_gd_list)\n",
    "        # create image composite\n",
    "        im_composite = im_collection.composite(region=region)\n",
    "        # download to file\n",
    "        im_composite.download(os.path.join(out_path, im_fn),\n",
    "                              region=region,\n",
    "                              scale=2,\n",
    "                              crs='EPSG:4326',\n",
    "                              dtype='int16')\n",
    "    else:\n",
    "        print('Image already exists in directory, skipping...')\n",
    "        continue"
   ]
  },
  {
   "cell_type": "code",
   "execution_count": null,
   "id": "0afa025c-ed38-4429-af2b-0a593dbdff5d",
   "metadata": {},
   "outputs": [],
   "source": [
    "# -----Plot images\n",
    "# reproject AOI to Alaska Albers projection\n",
    "aoi_utm = aoi.to_crs('EPSG:3338')\n",
    "dem_fns = sorted(glob.glob(os.path.join(out_path, '*.tif')))\n",
    "for dem_fn in dem_fns:\n",
    "    if 'MOSAIC' in dem_fn:\n",
    "        date = dem_fn[-19:-15] + '-' + dem_fn[-15:-13] + '-' + dem_fn[-13:11]\n",
    "    else:\n",
    "        date = dem_fn[-12:-8] + '-' + dem_fn[-8:-6] + '-' + dem_fn[-6:-4]\n",
    "    dem = xr.open_dataset(dem_fn)\n",
    "    dem = dem.rio.reproject('EPSG:3338')\n",
    "    fig, ax = plt.subplots(1, 1, figsize=(6,6))\n",
    "    dem_im = ax.imshow(elevation, extent=(np.min(dem.x.data), np.max(dem.x.data), \n",
    "                                          np.min(dem.y.data), np.max(dem.y.data)), \n",
    "                       cmap='terrain', clim=(0,2.5e3))\n",
    "    aoi_utm.plot(ax=ax, facecolor='None', edgecolor='k')\n",
    "    fig.colorbar(dem_im, ax=ax, shrink=0.5, \n",
    "                 label='Elevation w.r.t. ellipsoid [m]')\n",
    "    ax.set_title(date)\n",
    "    ax.set_xlim(7.9e5, 8.15e5)\n",
    "    ax.set_ylim(1.194e6, 1.22e6)\n",
    "    ax.grid()\n",
    "    plt.show()"
   ]
  },
  {
   "cell_type": "code",
   "execution_count": null,
   "id": "55d09d90-c864-4051-bd74-ccbb3fc275d2",
   "metadata": {},
   "outputs": [],
   "source": []
  }
 ],
 "metadata": {
  "kernelspec": {
   "display_name": "hubbard",
   "language": "python",
   "name": "hubbard"
  },
  "language_info": {
   "codemirror_mode": {
    "name": "ipython",
    "version": 3
   },
   "file_extension": ".py",
   "mimetype": "text/x-python",
   "name": "python",
   "nbconvert_exporter": "python",
   "pygments_lexer": "ipython3",
   "version": "3.12.1"
  }
 },
 "nbformat": 4,
 "nbformat_minor": 5
}
