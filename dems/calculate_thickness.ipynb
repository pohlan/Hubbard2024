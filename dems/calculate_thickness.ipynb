{
 "cells": [
  {
   "cell_type": "markdown",
   "id": "95ac7741-ef22-41e1-b027-74d90da19e73",
   "metadata": {},
   "source": [
    "# Calculate ice flux from bed topo, elevation, and velocity time series"
   ]
  },
  {
   "cell_type": "code",
   "execution_count": null,
   "id": "9bf0e484-f4ea-454b-8a6e-651b7f0c946f",
   "metadata": {},
   "outputs": [],
   "source": [
    "import os\n",
    "import glob\n",
    "import matplotlib.pyplot as plt\n",
    "import xarray as xr\n",
    "import rioxarray as rxr\n",
    "import numpy as np\n",
    "import datetime\n",
    "from tqdm.auto import tqdm\n",
    "import xesmf as xe\n",
    "from matplotlib.patches import Rectangle"
   ]
  },
  {
   "cell_type": "code",
   "execution_count": null,
   "id": "bf1e14df-d051-4d3d-baa4-3d56228e9e8a",
   "metadata": {
    "scrolled": true
   },
   "outputs": [],
   "source": [
    "# -----Define path to data\n",
    "data_path = '/Users/raineyaberle/Research/PhD/Hubbard/'\n",
    "figures_out_path = os.path.join(data_path, 'figures')\n",
    "\n",
    "# -----Load bed topography\n",
    "bed_fn = os.path.join(data_path, 'bed_topo', 'hubbard_mc_idw_bedElev.tif')\n",
    "bed = rxr.open_rasterio(bed_fn)\n",
    "bed = bed.rio.reproject('EPSG:3338')\n",
    "bed = xr.where((bed > 3e38) | (bed < -3e38), np.nan, bed)\n",
    "bed = bed.rio.write_crs('EPSG:3338')\n",
    "\n",
    "# -----Load surface elevation file names\n",
    "h_fns = sorted(glob.glob(os.path.join(data_path, 'surface_elevation', 'coregistered', '*.tif')))\n",
    "[os.path.basename(x) for x in h_fns]"
   ]
  },
  {
   "cell_type": "code",
   "execution_count": null,
   "id": "01b022c8-bb56-4f23-858e-bb7d2a626161",
   "metadata": {
    "scrolled": true
   },
   "outputs": [],
   "source": [
    "# -----Define function for reprojecting and regridding to bed topography grid\n",
    "def reproject_regrid(da, ref_da):\n",
    "    da = da.rio.reproject(ref_da.rio.crs)\n",
    "    da_interp = da.interp(x=ref_da.x.data, y=ref_da.y.data)\n",
    "    return da_interp\n",
    "\n",
    "# -----Iterate over surface elevation file names\n",
    "xmin, xmax = 795, 810\n",
    "ymin, ymax = 1201, 1215.5\n",
    "H_created = False\n",
    "for i, h_fn in enumerate(h_fns):\n",
    "    # Grab date from file name\n",
    "    if 'SETSM' in os.path.basename(h_fn):\n",
    "        date = os.path.basename(h_fn).split('_')[3]\n",
    "        dt = datetime.datetime(int(date[0:4]), int(date[4:6]), int(date[6:8]))\n",
    "        date = date[0:4] + '-' + date[4:6] + '-' + date[6:8]\n",
    "    elif 'ILAK' in h_fn:\n",
    "        year = os.path.basename(h_fn).split('_')[1]\n",
    "        julian_day = os.path.basename(h_fn).split('_')[2]\n",
    "        dt = datetime.datetime.strptime(year+julian_day, '%Y%j')\n",
    "        date = str(dt)\n",
    "    elif ('Hubbard.' in h_fn) or ('Valerie.' in h_fn):\n",
    "        year = os.path.basename(h_fn).split('.')[1]\n",
    "        julian_day = os.path.basename(h_fn).split('.')[2][0:3]\n",
    "        dt = datetime.datetime.strptime(year+julian_day, '%Y%j')\n",
    "        date = str(dt)\n",
    "    print(dt)\n",
    "    # Skip if before the first velocity date\n",
    "    v_time = datetime.datetime(int(str(v.time.data[0])[0:4]), \n",
    "                                   int(str(v.time.data[0])[5:7]), \n",
    "                                   int(str(v.time.data[0])[8:9]))\n",
    "    if dt < v_time:\n",
    "        continue\n",
    "\n",
    "    # Load surface elevation\n",
    "    h = rxr.open_rasterio(h_fn)\n",
    "    \n",
    "    # Reproject and interpolate all datasets to bed elevation coordinates\n",
    "    h_interp = reproject_regrid(h, bed)\n",
    "\n",
    "    # Remove no data values\n",
    "    h_interp = xr.where(h_interp==h_interp._FillValue, np.nan, h_interp) \n",
    "    \n",
    "    # Calculate thickness\n",
    "    H_date = h_interp - bed\n",
    "    # convert to dataset\n",
    "    H_date = H_date.to_dataset('band').rename({1: 'thickness'})\n",
    "    # add time dimension\n",
    "    H_date = H_date.expand_dims({'time': [dt]})\n",
    "\n",
    "    # Check for data coverage\n",
    "    if (np.isnan(H_date.thickness.data[0])).all():\n",
    "        continue\n",
    "\n",
    "    # Save in dataset\n",
    "    if H_created:\n",
    "        H = xr.concat([H, H_date], dim='time')\n",
    "    else:\n",
    "        H = H_date.copy()\n",
    "        H_created = True\n",
    "\n",
    "    # Plot\n",
    "    # fig, ax = plt.subplots()\n",
    "    # H_im = ax.imshow(H_date.thickness.data[0], cmap='plasma', clim=(0, 1000),\n",
    "    #                   extent=(np.min(H_date.x.data)/1e3, np.max(H_date.x.data)/1e3, \n",
    "    #                           np.min(H_date.y.data)/1e3, np.max(H_date.y.data)/1e3))\n",
    "    # ax.set_title(date)\n",
    "    # ax.set_xlabel('Easting [km]')\n",
    "    # ax.set_ylabel('Northing [km]')\n",
    "    # ax.set_xlim(xmin, xmax)\n",
    "    # ax.set_ylim(ymin, ymax)\n",
    "    # fig.colorbar(H_im, ax=ax, label='Thickness [m]')\n",
    "    # plt.show()\n",
    "\n",
    "    # # Save figure\n",
    "    # fig_fn = os.path.join(figures_out_path, 'thickness_' + date[0:10] + '.png')\n",
    "    # fig.savefig(fig_fn, dpi=250, bbox_inches='tight')\n",
    "    # print('figure saved to file:', fig_fn)\n",
    "\n",
    "# -----Save thickness to file\n",
    "date_start = str(H.time.data[0])[0:4]\n",
    "date_end = str(H.time.data[-1])[0:4]\n",
    "H_fn = os.path.join(data_path, 'ice_thickness', f'ice_thickness_{date_start}-{date_end}.nc')\n",
    "H = H.rio.write_crs('EPSG:3338')\n",
    "H.to_netcdf(H_fn)\n",
    "print('Ice flux saved to file:', H_fn)"
   ]
  },
  {
   "cell_type": "markdown",
   "id": "90bc88b0-d1cd-4fc9-9fbd-8163fe3f6025",
   "metadata": {},
   "source": [
    "## Calculate thickness anomalies over time"
   ]
  },
  {
   "cell_type": "code",
   "execution_count": null,
   "id": "84d775a2-26cc-4603-b542-79c5f0dad39c",
   "metadata": {},
   "outputs": [],
   "source": [
    "# Calculate median thickness everywhere\n",
    "H_median = H.median(dim='time')\n",
    "# plot median thickness\n",
    "fig, ax = plt.subplots()\n",
    "H_im = ax.imshow(H_median.thickness.data, cmap='terrain',\n",
    "               extent=(np.min(H_median.x.data)/1e3, np.max(H_median.x.data)/1e3,\n",
    "                       np.min(H_median.y.data)/1e3, np.max(H_median.y.data)/1e3))\n",
    "ax.set_xlabel('Easting [km]')\n",
    "ax.set_ylabel('Northing [km]')\n",
    "ax.set_title('Median thickness')\n",
    "fig.colorbar(H_im, ax=ax, shrink=0.8, label='Thickness [m]')\n",
    "plt.show()"
   ]
  },
  {
   "cell_type": "code",
   "execution_count": null,
   "id": "fbe4b71a-1258-4777-a182-dbe3bc98189a",
   "metadata": {
    "scrolled": true
   },
   "outputs": [],
   "source": [
    "# Calculate difference from median\n",
    "H_diff = H - H_median\n",
    "H_diff = H_diff.rename({'thickness':'thickness_diff_from_median'})\n",
    "\n",
    "# Save to file\n",
    "H_diff_fn = H_fn.replace('ice_thickness_', 'ice_thickness_anomaly_')\n",
    "H_diff.to_netcdf(H_diff_fn)\n",
    "print('Thickness anomalies saved to file:', H_diff_fn)\n",
    "\n",
    "# Iterate over time stamps to plot\n",
    "for i in range(0, len(H.time.data)):\n",
    "    # subset thickness anomaly to date\n",
    "    H_diff_date = H_diff.isel(time=i)\n",
    "    # plot\n",
    "    fig, ax = plt.subplots()\n",
    "    H_diff_im = ax.imshow(H_diff_date.thickness_diff_from_median.data, cmap='coolwarm_r', clim=(-20, 20),\n",
    "                          extent=(np.min(H_diff_date.x.data)/1e3, np.max(H_diff_date.x.data)/1e3,\n",
    "                                  np.min(H_diff_date.y.data)/1e3, np.max(H_diff_date.y.data)/1e3))\n",
    "    ax.set_xlabel('Easting [km]')\n",
    "    ax.set_ylabel('Northing [km]')\n",
    "    ax.set_title(str(H_diff.time.data[i])[0:10])\n",
    "    fig.colorbar(H_diff_im, ax=ax, shrink=0.8, label='Thickness anomaly [m]')\n",
    "    plt.show()\n",
    "\n",
    "    # Save figure\n",
    "    fig_fn = os.path.join(figures_out_path, 'thickness_anomaly_' + str(H.time.data[i])[0:10] + '.png')\n",
    "    fig.savefig(fig_fn, dpi=250, bbox_inches='tight')\n",
    "    print('figure saved to file:', fig_fn)"
   ]
  },
  {
   "cell_type": "code",
   "execution_count": null,
   "id": "c0a1e980-faf9-4fc8-878f-f17885a7a580",
   "metadata": {
    "scrolled": true
   },
   "outputs": [],
   "source": [
    "# Make a gif\n",
    "import subprocess\n",
    "\n",
    "# Construct command\n",
    "cmd = f\"convert -delay 200 {os.path.join(figures_out_path, 'thickness_anomaly*.png')} {os.path.join(figures_out_path, 'thickness_anomalies.gif')}\"\n",
    "\n",
    "# Construct command\n",
    "# cmd = f'ffmpeg -y -i {os.path.join(figures_out_path, 'frames', '*.png')} {os.path.join(figures_out_path, 'thickness_anomalies.mp4')}'\n",
    "\n",
    "# Run command\n",
    "output = subprocess.run(cmd, shell=True, capture_output=True)\n",
    "print(output)"
   ]
  },
  {
   "cell_type": "markdown",
   "id": "1949574a-d322-4f89-94b3-eeabe90c4951",
   "metadata": {},
   "source": [
    "## Calculate thickness change at points"
   ]
  },
  {
   "cell_type": "code",
   "execution_count": null,
   "id": "e04dca1f-c0e0-4c45-9c1d-6175a830db41",
   "metadata": {},
   "outputs": [],
   "source": [
    "# Load IFSAR for reference plot\n",
    "ifsar_fn = os.path.join(data_path, 'surface_elevation', 'ifsar_hubbardDEM.tif')\n",
    "ifsar = xr.open_dataset(ifsar_fn)"
   ]
  },
  {
   "cell_type": "code",
   "execution_count": null,
   "id": "007d6de4-1596-408f-b921-1f0795679e33",
   "metadata": {
    "scrolled": true
   },
   "outputs": [],
   "source": [
    "point1 = (808e3, 1209e3)\n",
    "point2 = (802e3, 1204e3)\n",
    "\n",
    "H_diff_point1 = H_diff.sel(x=point1[0], y=point1[1], method='nearest').thickness_diff_from_median.data\n",
    "H_diff_point2 = H_diff.sel(x=point2[0], y=point2[1], method='nearest').thickness_diff_from_median.data\n",
    "\n",
    "# Plot\n",
    "plt.rcParams.update({'font.sans-serif': 'Arial', 'font.size': 12})\n",
    "fig, ax = plt.subplots(1, 2, figsize=(12,4), gridspec_kw={'width_ratios': [1,4]})\n",
    "ax[0].imshow(ifsar.band_data.data[0], cmap='Greys_r', clim=(0,1200), \n",
    "             extent=(np.min(ifsar.x.data), np.max(ifsar.x.data),\n",
    "                     np.min(ifsar.y.data), np.max(ifsar.y.data)))\n",
    "ax[0].plot(*point1, 'o', markerfacecolor='#41b6c4', markeredgecolor='w', markersize=10)\n",
    "ax[0].plot(*point2, 'o', markerfacecolor='#081d58', markeredgecolor='w', markersize=10)\n",
    "ax[0].set_xticks([])\n",
    "ax[0].set_yticks([])\n",
    "ax[0].set_xlim((794e3, 810e3))\n",
    "ax[0].set_ylim(1199e3, 1217e3)\n",
    "ax[0].set_title('IFSAR, point locations')\n",
    "ax[1].plot(H.time.data.astype('datetime64'), H_diff_point1, '.', color='#41b6c4', markersize=10)\n",
    "ax[1].plot(H.time.data.astype('datetime64'), H_diff_point2, '.', color='#081d58', markersize=10)\n",
    "ax[1].set_ylim(-15, 15)\n",
    "ax[1].set_ylabel('Thickness anomaly [m]')\n",
    "ax[1].grid()\n",
    "# plot rectangles over summer/winter months\n",
    "years = H.time.data.astype('datetime64[Y]')\n",
    "for year in years:\n",
    "    summer_start = np.datetime64(str(year) + '-06-22')\n",
    "    summer_end = np.datetime64(str(year) + '-09-22')\n",
    "    spatch = ax[1].add_patch(Rectangle((summer_start, -20), width=(summer_end-summer_start), height=40, facecolor='#fff5eb', edgecolor='None'))\n",
    "    winter_start = np.datetime64(str(year) + '-12-22')\n",
    "    winter_end = np.datetime64(str(year+1) + '-03-22')\n",
    "    wpatch = ax[1].add_patch(Rectangle((winter_start, -20), width=(winter_end-winter_start), height=40, facecolor='#f0f0f0', edgecolor='None'))\n",
    "\n",
    "ax[1].legend([spatch, wpatch], ['summer', 'winter'], loc='lower right', framealpha=1)\n",
    "plt.show()\n",
    "\n",
    "fig.savefig(os.path.join(figures_out_path, 'thickness_anomaly_points.png'), dpi=250, bbox_inches='tight')"
   ]
  },
  {
   "cell_type": "code",
   "execution_count": null,
   "id": "d935e2d6-4c01-49d8-a96d-fded021202e7",
   "metadata": {},
   "outputs": [],
   "source": []
  }
 ],
 "metadata": {
  "kernelspec": {
   "display_name": "hubbard",
   "language": "python",
   "name": "hubbard"
  },
  "language_info": {
   "codemirror_mode": {
    "name": "ipython",
    "version": 3
   },
   "file_extension": ".py",
   "mimetype": "text/x-python",
   "name": "python",
   "nbconvert_exporter": "python",
   "pygments_lexer": "ipython3",
   "version": "3.12.1"
  }
 },
 "nbformat": 4,
 "nbformat_minor": 5
}
