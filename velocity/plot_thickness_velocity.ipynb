{
 "cells": [
  {
   "cell_type": "markdown",
   "id": "0efdfcec-e076-4f06-915d-69a7d2896574",
   "metadata": {},
   "source": [
    "# Plot thickness anomalies with velocity"
   ]
  },
  {
   "cell_type": "code",
   "execution_count": 1,
   "id": "c25a9ddf-8175-42db-9e9c-2652e0af073d",
   "metadata": {},
   "outputs": [],
   "source": [
    "import os\n",
    "import glob\n",
    "import matplotlib.pyplot as plt\n",
    "import numpy\n",
    "import rioxarray as rxr\n",
    "import xarray as xr"
   ]
  },
  {
   "cell_type": "code",
   "execution_count": 9,
   "id": "72645edb-474e-4218-8082-f41a60327892",
   "metadata": {},
   "outputs": [
    {
     "name": "stderr",
     "output_type": "stream",
     "text": [
      "/Users/raineyaberle/opt/anaconda3/envs/hubbard/lib/python3.12/site-packages/rioxarray/_io.py:1132: NotGeoreferencedWarning: Dataset has no geotransform, gcps, or rpcs. The identity matrix will be returned.\n",
      "  warnings.warn(str(rio_warning.message), type(rio_warning.message))  # type: ignore\n"
     ]
    }
   ],
   "source": [
    "data_path = '/Users/raineyaberle/Research/PhD/Hubbard/'\n",
    "\n",
    "# -----Load velocities\n",
    "v_fn = os.path.join(data_path, 'velocity', 'hubbard_inversion_2015-10-01_2023-01-01_xform.nc')\n",
    "v = rxr.open_rasterio(v_fn)\n",
    "# reproject\n",
    "v = v.rio.reproject('EPSG:3338')\n",
    "\n",
    "# -----Load thicknesses\n",
    "H_fn = os.path.join(data_path, 'ice_thickness', 'ice_thickness_anomaly_2016-2021.nc')\n",
    "H = rxr.open_rasterio(H_fn)\n",
    "H = H.rio.write_crs('EPSG:3338')"
   ]
  },
  {
   "cell_type": "code",
   "execution_count": 11,
   "id": "2970ae09-b2b9-4e77-81cb-8f81e1afd9f9",
   "metadata": {},
   "outputs": [
    {
     "data": {
      "text/plain": [
       "CRS.from_epsg(3338)"
      ]
     },
     "execution_count": 11,
     "metadata": {},
     "output_type": "execute_result"
    }
   ],
   "source": [
    "# -----Plot thickness anomalies\n"
   ]
  },
  {
   "cell_type": "code",
   "execution_count": null,
   "id": "3c521982-1bcb-43f0-9329-f31cfe94bea0",
   "metadata": {},
   "outputs": [],
   "source": []
  }
 ],
 "metadata": {
  "kernelspec": {
   "display_name": "hubbard",
   "language": "python",
   "name": "hubbard"
  },
  "language_info": {
   "codemirror_mode": {
    "name": "ipython",
    "version": 3
   },
   "file_extension": ".py",
   "mimetype": "text/x-python",
   "name": "python",
   "nbconvert_exporter": "python",
   "pygments_lexer": "ipython3",
   "version": "3.12.1"
  }
 },
 "nbformat": 4,
 "nbformat_minor": 5
}
