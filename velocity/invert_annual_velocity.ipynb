{
 "cells": [
  {
   "cell_type": "markdown",
   "id": "3894ff77-a5e0-4b62-95cf-c8d64b690323",
   "metadata": {},
   "source": [
    "# Download a chunk of an ITS_LIVE datacube, invert for average velocities between each satellite observation\n",
    "\n",
    "requires datacube_tools.py in directory with notebook.  \n",
    "https://github.com/nasa-jpl/its_live/blob/main/notebooks/datacube_tools.py"
   ]
  },
  {
   "cell_type": "code",
   "execution_count": 1,
   "id": "f6f88454-4242-42ef-9fc1-81be07cefde2",
   "metadata": {},
   "outputs": [],
   "source": [
    "import xarray\n",
    "import numpy as np\n",
    "import matplotlib.pyplot as plt\n",
    "import itsinv"
   ]
  },
  {
   "cell_type": "markdown",
   "id": "e355ed29-0d7a-4b26-a6ae-54f8dbe15d82",
   "metadata": {},
   "source": [
    "## Invert for velocity timeseries"
   ]
  },
  {
   "cell_type": "code",
   "execution_count": 2,
   "id": "2c5f61b1-500d-4801-9cd4-02d8bd83b614",
   "metadata": {},
   "outputs": [
    {
     "name": "stdout",
     "output_type": "stream",
     "text": [
      "original xy (-3310000, 257700) 3413 maps to datacube (-3310000, 257700) EPSG:3413\n",
      "subset and load at 302.68 seconds\n"
     ]
    },
    {
     "name": "stderr",
     "output_type": "stream",
     "text": [
      "100%|███████████████████████████████████████| 9604/9604 [08:10<00:00, 19.56it/s]\n",
      "/Users/amyjenson/Documents/GitHub/Hubbard2024/velocity/itsinv.py:420: UserWarning: Converting non-nanosecond precision datetime values to nanosecond precision. This behavior can eventually be relaxed in xarray, as it is an artifact from pandas which is now beginning to support non-nanosecond precision values. This warning is caused by passing non-nanosecond np.datetime64 or np.timedelta64 values to the DataArray or Variable constructor; it can be silenced by converting the values to nanosecond precision ahead of time.\n",
      "  xres = xarray.Dataset(\n"
     ]
    },
    {
     "ename": "ValueError",
     "evalue": "not enough values to unpack (expected 4, got 3)",
     "output_type": "error",
     "traceback": [
      "\u001b[0;31m---------------------------------------------------------------------------\u001b[0m",
      "\u001b[0;31mValueError\u001b[0m                                Traceback (most recent call last)",
      "Cell \u001b[0;32mIn[2], line 2\u001b[0m\n\u001b[1;32m      1\u001b[0m xy \u001b[38;5;241m=\u001b[39m (\u001b[38;5;241m-\u001b[39m\u001b[38;5;241m3310000\u001b[39m, \u001b[38;5;241m257700\u001b[39m)\n\u001b[0;32m----> 2\u001b[0m solu, res, xsub, mask \u001b[38;5;241m=\u001b[39m itsinv\u001b[38;5;241m.\u001b[39mgrid_inversion(xy, half_dist\u001b[38;5;241m=\u001b[39m\u001b[38;5;241m6000\u001b[39m, lt\u001b[38;5;241m=\u001b[39m\u001b[38;5;241m1e-4\u001b[39m, lx\u001b[38;5;241m=\u001b[39m\u001b[38;5;241m10\u001b[39m, sat_filt\u001b[38;5;241m=\u001b[39m[\u001b[38;5;124m\"\u001b[39m\u001b[38;5;124m1A\u001b[39m\u001b[38;5;124m\"\u001b[39m], start_date\u001b[38;5;241m=\u001b[39m\u001b[38;5;124m\"\u001b[39m\u001b[38;5;124m2017-10-01\u001b[39m\u001b[38;5;124m\"\u001b[39m, stop_date\u001b[38;5;241m=\u001b[39m\u001b[38;5;124m\"\u001b[39m\u001b[38;5;124m2018-10-01\u001b[39m\u001b[38;5;124m\"\u001b[39m, pbar\u001b[38;5;241m=\u001b[39m\u001b[38;5;28;01mTrue\u001b[39;00m, return_data\u001b[38;5;241m=\u001b[39m\u001b[38;5;28;01mTrue\u001b[39;00m)\n",
      "\u001b[0;31mValueError\u001b[0m: not enough values to unpack (expected 4, got 3)"
     ]
    }
   ],
   "source": [
    "xy = (-3310000, 257700)\n",
    "solu, res, xsub, mask = itsinv.grid_inversion(xy, half_dist=6000, lt=1e-4, lx=10, sat_filt=[\"1A\"], start_date=\"2017-10-01\", stop_date=\"2018-10-01\", pbar=True, return_data=True)"
   ]
  },
  {
   "cell_type": "code",
   "execution_count": null,
   "id": "ca8e9365-4bbf-4ddb-b422-068ba8edb0a7",
   "metadata": {},
   "outputs": [],
   "source": [
    "# Convert decimal year to datetime64\n",
    "s_in_year = (60*60*24*365)\n",
    "solu_datetime = [None]*len(solu)\n",
    "for i in range(len(solu)):\n",
    "    whole_year = int(solu[i])\n",
    "    frac_year = solu[i] - whole_year\n",
    "    solu_datetime[i] = np.datetime64(str(whole_year))\n",
    "    solu_datetime[i] += np.timedelta64(int(frac_year*s_in_year), \"s\")\n",
    "    \n",
    "# Make components into speed\n",
    "v = np.sqrt(res[\"vx\"]**2 + res[\"vy\"]**2)"
   ]
  },
  {
   "cell_type": "markdown",
   "id": "a90f8190-2aa6-461a-a14c-a2490f82b9d8",
   "metadata": {
    "tags": []
   },
   "source": [
    "## Quck plots to see if reasonable"
   ]
  },
  {
   "cell_type": "code",
   "execution_count": null,
   "id": "d32dfc5a-d07e-4ab1-b570-8740c0845f99",
   "metadata": {},
   "outputs": [],
   "source": [
    "# mid-dates for data\n",
    "md = xsub.acquisition_date_img1 + ((xsub.acquisition_date_img2 - xsub.acquisition_date_img1)/2)\n",
    "v_data = np.sqrt(xsub.vx**2 + xsub.vy**2)\n",
    "\n",
    "plt.plot(md[mask], v_data[mask][:,50,50], \"k.\", label=\"Data\")\n",
    "plt.plot(solu_datetime, v[:,50,50], \"r-\", label=\"Inversion\")\n",
    "plt.legend()"
   ]
  },
  {
   "cell_type": "code",
   "execution_count": null,
   "id": "5283f434-1b45-4f4a-b8d4-95422b54b440",
   "metadata": {},
   "outputs": [],
   "source": [
    "plt.imshow(np.mean(v, axis=0), vmin=0, vmax=2500, cmap=\"jet\")"
   ]
  },
  {
   "cell_type": "markdown",
   "id": "e7ce954c-c0d6-4623-bdb5-f09285caeaf8",
   "metadata": {},
   "source": [
    "## Package and save results"
   ]
  },
  {
   "cell_type": "code",
   "execution_count": null,
   "id": "4c55bae7-42b9-4aae-b301-2611ede182b9",
   "metadata": {},
   "outputs": [],
   "source": [
    "xres = xarray.Dataset(\n",
    "    data_vars = dict(\n",
    "        speed=([\"time\", \"y\", \"x\"], v),\n",
    "    ),\n",
    "    coords = dict(\n",
    "        x = xsub.x,\n",
    "        y = xsub.y,\n",
    "        time = solu_datetime,\n",
    "    ),\n",
    "    attrs = dict(\n",
    "        projection = xsub.projection,\n",
    "        GDAL_AREA_OR_POINT = xsub.GDAL_AREA_OR_POINT,\n",
    "    ))\n",
    "\n",
    "xres.to_netcdf(\"hubbard_2018.nc\")"
   ]
  },
  {
   "cell_type": "code",
   "execution_count": null,
   "id": "8a7e6eeb-a2bc-4d5b-b4c9-699d99dd52a1",
   "metadata": {},
   "outputs": [],
   "source": []
  }
 ],
 "metadata": {
  "kernelspec": {
   "display_name": "Python 3 (ipykernel)",
   "language": "python",
   "name": "python3"
  },
  "language_info": {
   "codemirror_mode": {
    "name": "ipython",
    "version": 3
   },
   "file_extension": ".py",
   "mimetype": "text/x-python",
   "name": "python",
   "nbconvert_exporter": "python",
   "pygments_lexer": "ipython3",
   "version": "3.12.0"
  },
  "widgets": {
   "application/vnd.jupyter.widget-state+json": {
    "state": {},
    "version_major": 2,
    "version_minor": 0
   }
  }
 },
 "nbformat": 4,
 "nbformat_minor": 5
}
