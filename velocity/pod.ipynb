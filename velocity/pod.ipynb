{
 "cells": [
  {
   "cell_type": "markdown",
   "id": "79d61d47-76a1-4640-8dc0-48a46cd0c4b1",
   "metadata": {},
   "source": [
    "# Hubbard POD"
   ]
  },
  {
   "cell_type": "code",
   "execution_count": null,
   "id": "8fb496ca-da1b-4725-af7f-662cd7e2e6df",
   "metadata": {},
   "outputs": [],
   "source": [
    "import rioxarray\n",
    "import xarray\n",
    "import numpy as np\n",
    "import scipy\n",
    "import matplotlib.pyplot as plt\n",
    "import geopandas as gpd\n",
    "import cartopy"
   ]
  },
  {
   "cell_type": "markdown",
   "id": "eb128bd9-2123-4d49-9498-72047682d575",
   "metadata": {},
   "source": [
    "## Load datacube\n",
    "\n",
    "This file is on the drive"
   ]
  },
  {
   "cell_type": "code",
   "execution_count": null,
   "id": "6fc1afa0-b94c-4344-852d-771b7955874d",
   "metadata": {},
   "outputs": [],
   "source": [
    "xds_rio = rioxarray.open_rasterio(\"./hubbard_inversion_2015-10-01_2023-01-01_xform.nc\")\n",
    "xds = xarray.load_dataset(\"./hubbard_inversion_2015-10-01_2023-01-01_xform.nc\")"
   ]
  },
  {
   "cell_type": "markdown",
   "id": "5660c608-a39c-4244-b94b-06a208e79789",
   "metadata": {},
   "source": [
    "## Crop to shapefile extent"
   ]
  },
  {
   "cell_type": "code",
   "execution_count": null,
   "id": "5068156e-4513-46f7-afa1-716f03746753",
   "metadata": {},
   "outputs": [],
   "source": [
    "bound = gpd.read_file(\"./hubbard_outline.gpkg\")\n",
    "xds_clip = xds_rio.rio.clip(bound.geometry.values, bound.crs)\n",
    "mask = np.isnan(xds_clip[\"vx\"][0,:,:]) # mask for later\n",
    "xds_clip = xds_clip.fillna(0)"
   ]
  },
  {
   "cell_type": "markdown",
   "id": "230f15e3-5a48-4a8a-ba89-75778d8fa910",
   "metadata": {},
   "source": [
    "## Interpolate onto regular times"
   ]
  },
  {
   "cell_type": "code",
   "execution_count": null,
   "id": "ab3947d9-268c-47b3-97e0-34e892011b25",
   "metadata": {},
   "outputs": [],
   "source": [
    "# Interpolate to daily velocities\n",
    "s_in_day = 60 * 60 * 24\n",
    "epoch = 2015\n",
    "epoch = np.datetime64(str(epoch), \"s\")\n",
    "\n",
    "# datetime64 bounds and steps\n",
    "t0 = np.datetime64(\"2017-06-01\", \"ns\") #np.min(xds[\"time\"].to_numpy())\n",
    "t1 = np.datetime64(\"2022-06-01\", \"ns\") #np.max(xds[\"time\"].to_numpy())\n",
    "dt = np.timedelta64(1, \"D\")\n",
    "nstep = int((t1 - t0) / dt)\n",
    "tsteps = np.array([t0 + dt * i for i in range(nstep)])\n",
    "\n",
    "v = np.sqrt(xds_clip[\"vx\"]**2 + xds_clip[\"vy\"]**2)\n",
    "spline = scipy.interpolate.CubicSpline(xds[\"time\"], v, axis=0)\n",
    "\n",
    "vdaily = spline(tsteps)"
   ]
  },
  {
   "cell_type": "markdown",
   "id": "b60bad99-7be0-4db2-b891-489c42e4b2c1",
   "metadata": {},
   "source": [
    "## Remove mean in time"
   ]
  },
  {
   "cell_type": "code",
   "execution_count": null,
   "id": "27d425ec-1022-4da7-b21c-36b7920bc317",
   "metadata": {},
   "outputs": [],
   "source": [
    "vmean = np.mean(vdaily, axis=0)\n",
    "vdaily_demean = vdaily - vmean"
   ]
  },
  {
   "cell_type": "markdown",
   "id": "2b77ad17-6869-4ec0-a5f5-76f1d059fc9d",
   "metadata": {},
   "source": [
    "## Flatten timesteps"
   ]
  },
  {
   "cell_type": "code",
   "execution_count": null,
   "id": "23df4917-07a3-408d-a9b7-bc2604b8af33",
   "metadata": {},
   "outputs": [],
   "source": [
    "vdaily_flat = np.zeros((vdaily_demean.shape[1]*vdaily_demean.shape[2], vdaily_demean.shape[0]))\n",
    "\n",
    "for i in range(vdaily.shape[0]):\n",
    "    vdaily_flat[:,i] = vdaily_demean[i,:,:].flatten()"
   ]
  },
  {
   "cell_type": "markdown",
   "id": "2464d709-2258-456e-a971-cd745ffbc25c",
   "metadata": {},
   "source": [
    "## Do SVD"
   ]
  },
  {
   "cell_type": "code",
   "execution_count": null,
   "id": "f31401b3-017e-4670-b2dc-9c5060879a48",
   "metadata": {},
   "outputs": [],
   "source": [
    "U, S, Vh = scipy.linalg.svd(vdaily_flat)"
   ]
  },
  {
   "cell_type": "code",
   "execution_count": null,
   "id": "fdf8fac1-88ea-46f6-bf09-aac951ebbbaf",
   "metadata": {},
   "outputs": [],
   "source": [
    "prj = cartopy.crs.epsg(\"3338\")\n",
    "fig = plt.figure(figsize=(10, 10))\n",
    "ax = plt.axes(projection=prj)\n",
    "grid_extent = (vel[\"x\"].min(), vel[\"x\"].max(), vel[\"y\"].min(), vel[\"y\"].max())\n"
   ]
  },
  {
   "cell_type": "markdown",
   "id": "94fd0ba6-2654-4da6-894e-fc33c54d7fc9",
   "metadata": {},
   "source": [
    "## Rebuild spatial modes and plot temporal weights"
   ]
  },
  {
   "cell_type": "code",
   "execution_count": null,
   "id": "86fa609a-c529-4793-9f1e-c9b928ef5f29",
   "metadata": {},
   "outputs": [],
   "source": [
    "for i in range(10):\n",
    "    m = U[:,i].reshape(v.shape[1], v.shape[2])\n",
    "    tw = Vh[i,:]\n",
    "\n",
    "    fig, axs = plt.subplots(1, 2, figsize=(10, 3), gridspec_kw={'width_ratios': [1, 4]}, layout=\"constrained\")\n",
    "    m[mask] = np.nan\n",
    "    im = axs[0].imshow(m, cmap=\"jet\")\n",
    "    axs[0].axis('off')\n",
    "    cbar = plt.colorbar(im, ax=axs[0], location=\"left\")\n",
    "\n",
    "    plt.figure()\n",
    "    axs[1].plot(tsteps, tw)\n",
    "    axs[1].grid(True, linestyle=\"--\")\n",
    "\n",
    "    fig.suptitle(\"Mode %d\" % i)\n",
    "    \n",
    "    fig.savefig(\"modes/mode%d.png\" % i, bbox_inches=\"tight\", dpi=300)\n",
    "    fig.show()"
   ]
  },
  {
   "cell_type": "code",
   "execution_count": null,
   "id": "52e61e51-47b4-44d6-9a32-88016aeec1ac",
   "metadata": {},
   "outputs": [],
   "source": []
  }
 ],
 "metadata": {
  "kernelspec": {
   "display_name": "Python 3 (ipykernel)",
   "language": "python",
   "name": "python3"
  },
  "language_info": {
   "codemirror_mode": {
    "name": "ipython",
    "version": 3
   },
   "file_extension": ".py",
   "mimetype": "text/x-python",
   "name": "python",
   "nbconvert_exporter": "python",
   "pygments_lexer": "ipython3",
   "version": "3.12.0"
  },
  "widgets": {
   "application/vnd.jupyter.widget-state+json": {
    "state": {},
    "version_major": 2,
    "version_minor": 0
   }
  }
 },
 "nbformat": 4,
 "nbformat_minor": 5
}
